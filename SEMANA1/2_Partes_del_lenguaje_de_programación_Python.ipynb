{
  "nbformat": 4,
  "nbformat_minor": 0,
  "metadata": {
    "colab": {
      "provenance": []
    },
    "kernelspec": {
      "name": "python3",
      "display_name": "Python 3"
    },
    "language_info": {
      "name": "python"
    }
  },
  "cells": [
    {
      "cell_type": "markdown",
      "metadata": {
        "id": "Gxa60xUxaDcR"
      },
      "source": [
        "# 2. Partes del lenguaje de programación Python\n"
      ]
    },
    {
      "cell_type": "markdown",
      "metadata": {
        "id": "pmou025HaJDA"
      },
      "source": [
        "**APUNTAR**\n",
        "Comprender varios operadores, expresiones, tipos de datos, entradas de usuario y declaraciones de impresión\n",
        "sobre el que se pueden construir operaciones multifacéticas en la programación de Python\n",
        "Idioma.\n",
        "\n",
        "**LOS RESULTADOS DEL APRENDIZAJE**\n",
        "Después de completar este capítulo, debería poder\n",
        "\n",
        "* Definir identificadores, palabras clave, operadores y expresiones.\n",
        "* Utilice diferentes operadores, expresiones y variables disponibles en Python.\n",
        "* Construya expresiones complejas usando operadores.\n",
        "* Determinar los tipos de datos de valores.\n",
        "* Utilice sangrías y comentarios al escribir programas Python."
      ]
    },
    {
      "cell_type": "markdown",
      "metadata": {
        "id": "gMEl6c3XawJN"
      },
      "source": [
        "## 2.1 Identificadores\n",
        "Un identificador es un nombre que se le da a una variable, función, clase o módulo. Los identificadores pueden ser uno o más caracteres en el siguiente formato:\n",
        "\n",
        "* Los identificadores pueden ser una combinación de letras en minúsculas (de la a la z) o mayúsculas (de la A a la Z)\n",
        "o dígitos (0 a 9) o un guión bajo (_). Nombres como myCountry, other_1 y buenos_dias, todos son ejemplos válidos. Un identificador de Python puede comenzar con un alfabeto (A - Z y a - z y _).\n",
        "* Un identificador no puede comenzar con un dígito, pero está permitido en cualquier otro lugar. 1plus es inválido, pero plus1 es correcto.\n",
        "* Las palabras clave no se pueden utilizar como identificadores.\n",
        "* No se pueden usar espacios y símbolos especiales como !, @, #, $,%, etc. como identificadores.\n",
        "* El identificador puede tener cualquier longitud."
      ]
    },
    {
      "cell_type": "code",
      "source": [
        "# Esta es una línea de cometario en Python\n",
        "'''\n",
        "Estas son múltiples líneas de comentarios\n",
        "Los comentarios son ignorados por el intérprete\n",
        "'''\n",
        "print(\"Hola Amigos\") # comentario"
      ],
      "metadata": {
        "colab": {
          "base_uri": "https://localhost:8080/"
        },
        "id": "ujP9F6alEE4X",
        "outputId": "bde8eb63-dffe-4395-991c-568767e9cb38"
      },
      "execution_count": null,
      "outputs": [
        {
          "output_type": "stream",
          "name": "stdout",
          "text": [
            "Hola Amigos\n"
          ]
        }
      ]
    },
    {
      "cell_type": "code",
      "metadata": {
        "id": "4gJwth4Hb_wm",
        "colab": {
          "base_uri": "https://localhost:8080/"
        },
        "outputId": "740e91b4-32ce-44ae-9e4a-c5361e337451"
      },
      "source": [
        "# Identificadores válidos\n",
        "Apellidos = \"Pérez Tello\"\n",
        "Apellidos = 'Pérez Pérez'\n",
        "Apellidos = 100\n",
        "Nombres = \"Juan José\"\n",
        "Monto = 200\n",
        "Saldo = 1600.00\n",
        "Marca_del_vehiculo = \"NISSAN\"\n",
        "\n",
        "print(\"Apellidos\")\n",
        "print(Apellidos)\n",
        "print(Apellidos)"
      ],
      "execution_count": null,
      "outputs": [
        {
          "output_type": "stream",
          "name": "stdout",
          "text": [
            "Apellidos\n",
            "100\n",
            "100\n"
          ]
        }
      ]
    },
    {
      "cell_type": "code",
      "metadata": {
        "id": "YF93q9CAcydN"
      },
      "source": [
        "# Identificador inválido\n",
        "1Plus = \"Varios\""
      ],
      "execution_count": null,
      "outputs": []
    },
    {
      "cell_type": "code",
      "metadata": {
        "id": "RfXH-10YdC4F"
      },
      "source": [
        "# Identificador inválido\n",
        "@valor = 100"
      ],
      "execution_count": null,
      "outputs": []
    },
    {
      "cell_type": "code",
      "metadata": {
        "id": "gHzTy-WpdGL-"
      },
      "source": [
        "# Identificador inválido\n",
        "$valor = 100"
      ],
      "execution_count": null,
      "outputs": []
    },
    {
      "cell_type": "markdown",
      "metadata": {
        "id": "R1UrZZHlbfS8"
      },
      "source": [
        "## 2.2 Palabras clave\n",
        "\n",
        "Las palabras clave son una lista de palabras reservadas que tienen un significado predefinido. Las palabras clave son palabras especiales y no pueden ser utilizado por los programadores como identificadores de variables, funciones, constantes o con cualquier nombre identificador. Intentar utilizar una palabra clave como nombre de identificador \n",
        "causará un error. La siguiente TABLA 2.1 muestra las palabras clave de Python."
      ]
    },
    {
      "cell_type": "markdown",
      "metadata": {
        "id": "kLdAfJR5cE1Y"
      },
      "source": [
        "**TABLA 2.1**\n",
        "Lista de Palabras Clave (Keywords) en Python\n",
        "\n",
        "Palabra Clave | Palabra Clave | Palabra Clave\n",
        "--- | --- | ---\n",
        "and | as | not\n",
        "assert | finally | or\n",
        "break | for | pass\n",
        "class | from | nonlocal\n",
        "continue | global | raise\n",
        "def | if | return\n",
        "del | import | try\n",
        "elif | in | while\n",
        "else | is | with\n",
        "except | lambda | yield\n",
        "False | True | None"
      ]
    },
    {
      "cell_type": "code",
      "metadata": {
        "id": "OKi9jR-gdV1w"
      },
      "source": [
        "# Intento de uso de una palabra clave como identificador\n",
        "from = 10"
      ],
      "execution_count": null,
      "outputs": []
    },
    {
      "cell_type": "code",
      "metadata": {
        "id": "Z541bBXQdk9J"
      },
      "source": [
        "# Intento de uso de una palabra clave como identificador\n",
        "lambda = 200"
      ],
      "execution_count": null,
      "outputs": []
    },
    {
      "cell_type": "markdown",
      "metadata": {
        "id": "FLwpKLRs2Il4"
      },
      "source": [
        "## 2.3 Declaraciones y expresiones\n",
        "\n",
        "Una declaración es una instrucción que puede ejecutar el intérprete de Python. Programa de Python consta de una secuencia de declaraciones. Las declaraciones son todo lo que puede formar una línea (o varias líneas) de código Python.  Un valor es la representación de alguna entidad como una letra o un número que puede ser manipulado por un programa. Una expresión, cuando se usa en modo interactivo, es evaluada por el intérprete y el resultado se muestran instantáneamente. Por ejemplo:"
      ]
    },
    {
      "cell_type": "code",
      "metadata": {
        "id": "nnkIx_BaZ9XJ"
      },
      "source": [
        "# La expresión es una disposición de valores y operadores que se evalúan para hacer una nuevo valor.\n",
        "# Por ejemplo, una declaración de asignación\n",
        "meses_del_anho = 12"
      ],
      "execution_count": null,
      "outputs": []
    },
    {
      "cell_type": "code",
      "metadata": {
        "colab": {
          "base_uri": "https://localhost:8080/"
        },
        "id": "K173RxQ54Z14",
        "outputId": "bb0b3b4e-1a4d-4972-d353-c6632b221b72"
      },
      "source": [
        "# La expresión es una disposición de valores y operadores que se evalúan para hacer una nuevo valor.\n",
        "12+7-5-7"
      ],
      "execution_count": null,
      "outputs": [
        {
          "output_type": "execute_result",
          "data": {
            "text/plain": [
              "7"
            ]
          },
          "metadata": {},
          "execution_count": 11
        }
      ]
    },
    {
      "cell_type": "markdown",
      "metadata": {
        "id": "emCmc9BI2IjC"
      },
      "source": [
        "Pero la misma expresión cuando se usa en el programa Python no muestra ningún resultado por completo. Necesita imprimir explícitamente el resultado."
      ]
    },
    {
      "cell_type": "markdown",
      "metadata": {
        "id": "W2A31X1T5eQp"
      },
      "source": [
        "## 2.4 Variables\n",
        "La variable es un marcador de posición con nombre para contener cualquier tipo de datos que el programa pueda utilizar para asignar y modificar durante el curso de la ejecución. En Python, no es necesario declarar una variable explícitamente especificando si la variable es un número entero o un flotante o cualquier otro tipo. Para definir una nueva variable en Python, simplemente asignamos un valor a un nombre. Si una necesidad de variable surge es necesario pensar en un nombre de variable basado en las reglas mencionadas a continuación subsección y utilícelo en el programa."
      ]
    },
    {
      "cell_type": "markdown",
      "metadata": {
        "id": "zPBRpGdh57DM"
      },
      "source": [
        "### 2.4.1 Nombres de variables legales\n",
        "\n",
        "Siga las reglas que se mencionan a continuación para crear nombres de variables legales en Python.\n",
        "\n",
        "* Los nombres de las variables pueden constar de cualquier número de letras, guiones bajos y dígitos.\n",
        "* La variable no debe comenzar con un número.\n",
        "* No se permiten palabras clave de Python como nombres de variable.\n",
        "* Los nombres de las variables distinguen entre mayúsculas y minúsculas. Por ejemplo, **computadora** y **Computadora** son diferentes variables. Además, siga estas pautas al nombrar una variable, ya que tiene una convención de nomenclatura consistente\n",
        "ayuda a evitar confusiones y puede reducir los errores de programación.\n",
        "* Las variables de Python usan letras minúsculas con palabras separadas por guiones bajos como necesario para mejorar la legibilidad, como este whats_up, how_are_you. Aunque esto no se aplica estrictamente, se considera una mejor práctica adherirse a esta convención.\n",
        "* Evite nombrar una variable donde el primer carácter sea un guión bajo. Mientras esto es legal en Python, puede limitar la interoperabilidad de su código con aplicaciones construido utilizando otros lenguajes de programación.\n",
        "* Asegúrese de que los nombres de las variables sean descriptivos y lo suficientemente claros. Esto permite a otros programadores\n",
        "para tener una idea de lo que representa la variable."
      ]
    },
    {
      "cell_type": "markdown",
      "metadata": {
        "id": "GCSLQMTn6Nde"
      },
      "source": [
        "### 2.4.2 Asignar valores a variables\n",
        "El formato general para asignar valores a las variables es el siguiente:\n",
        "\n",
        "### **nombre_variable = expresión**\n",
        "\n",
        "El signo igual (=) también conocido como operador de asignación simple se utiliza para asignar valores a variables. En el formato general, el operando a la izquierda del operador = es el nombre de la variable y el operando a la derecha del operador = es la expresión que puede ser un valor o cualquier fragmento de código que dé como resultado un valor. Ese valor se almacena en la variable en la ejecución de la declaración de asignación. El operador de asignación no debe confundirse con el = usado en álgebra para denotar igualdad. Por ejemplo, ingrese el código que se muestra a continuación en modo interactivo y observar los resultados."
      ]
    },
    {
      "cell_type": "code",
      "metadata": {
        "id": "qYZYk3oi488O"
      },
      "source": [
        "# En los programas, para que python nos muestre el contenido de variables hay que utilizar la función print().\n",
        "# La función print() permite mostrar contenido en pantalla. El contenido a mostrar se escribe como argumento de la función:\n",
        "saludo = \"Hola Mundo\"\n",
        "print(\"Hola Mundo\")\n",
        "print(\"saludo\")\n",
        "print(saludo)\n"
      ],
      "execution_count": null,
      "outputs": []
    },
    {
      "cell_type": "code",
      "metadata": {
        "id": "82QbDezt7Cj3",
        "colab": {
          "base_uri": "https://localhost:8080/"
        },
        "outputId": "167a5dbe-1699-4699-a1e5-53c78a9e73f3"
      },
      "source": [
        "millas =1000.0\n",
        "print(millas)\n",
        "\n",
        "millas2 =1000\n",
        "print(millas2)"
      ],
      "execution_count": null,
      "outputs": [
        {
          "output_type": "stream",
          "name": "stdout",
          "text": [
            "1000.0\n",
            "1000\n"
          ]
        }
      ]
    },
    {
      "cell_type": "code",
      "metadata": {
        "id": "CQfOiXit7D4l",
        "colab": {
          "base_uri": "https://localhost:8080/"
        },
        "outputId": "4a47ed26-5d41-441b-bf99-bb0604adf116"
      },
      "source": [
        "nombre =\"Python\"\n",
        "nombre =\"Python 3.11\"\n",
        "print(nombre)"
      ],
      "execution_count": null,
      "outputs": [
        {
          "output_type": "stream",
          "name": "stdout",
          "text": [
            "Python 3.11\n"
          ]
        }
      ]
    },
    {
      "cell_type": "markdown",
      "source": [
        "## Aqui puedo escribir más líneas de texto\n",
        "Aqui puedo **escribir** más líneas de texto\n",
        "Aqui puedo escribir más líneas de texto"
      ],
      "metadata": {
        "id": "EfZ5LjiyWaj8"
      }
    },
    {
      "cell_type": "code",
      "source": [
        "# Comentar\n",
        "nombre2 =\"Python\"\n",
        "nombre2 =\"Python 3.11\"\n",
        "print(nombre2)"
      ],
      "metadata": {
        "colab": {
          "base_uri": "https://localhost:8080/"
        },
        "id": "7VJjQJEcWSY4",
        "outputId": "905a16a9-8a61-4695-94ed-da298d425ede"
      },
      "execution_count": null,
      "outputs": [
        {
          "output_type": "stream",
          "name": "stdout",
          "text": [
            "Python 3.11\n"
          ]
        }
      ]
    },
    {
      "cell_type": "markdown",
      "metadata": {
        "id": "SvJv69Yi8AM9"
      },
      "source": [
        "En Python, no solo el valor de una variable puede cambiar durante la ejecución del programa, sino también el tipo de datos que se asignan. Puede asignar un valor entero a una variable, úselo como un número entero durante un tiempo y luego asignar una cadena a la variable. Una nueva asignación anula cualquier asignación anterior. Por ejemplo:"
      ]
    },
    {
      "cell_type": "code",
      "metadata": {
        "id": "gR6BGKjm8JIk",
        "colab": {
          "base_uri": "https://localhost:8080/"
        },
        "outputId": "d494eecd-f321-4b08-8932-fe5cbd430b52"
      },
      "source": [
        "century = 100\n",
        "print(century)\n",
        "century = \"hundred\"\n",
        "print(century)"
      ],
      "execution_count": null,
      "outputs": [
        {
          "output_type": "stream",
          "name": "stdout",
          "text": [
            "100\n",
            "hundred\n"
          ]
        }
      ]
    },
    {
      "cell_type": "markdown",
      "metadata": {
        "id": "J4zHw2Sv_V2Z"
      },
      "source": [
        "Python permite asignar un solo valor a varias variables simultáneamente. Por ejemplo:"
      ]
    },
    {
      "cell_type": "code",
      "metadata": {
        "id": "X2h7Hka7_cNh",
        "colab": {
          "base_uri": "https://localhost:8080/"
        },
        "outputId": "16bf0c87-b47e-4a3a-f7b5-ccb7c32e09a0"
      },
      "source": [
        "a = b = c = 1\n",
        "print(a)\n",
        "print(b)\n",
        "print(c)"
      ],
      "execution_count": null,
      "outputs": [
        {
          "output_type": "stream",
          "name": "stdout",
          "text": [
            "1\n",
            "1\n",
            "1\n"
          ]
        }
      ]
    },
    {
      "cell_type": "code",
      "source": [
        "a = 1\n",
        "b = 1\n",
        "c = 1\n",
        "\n",
        "print(a)\n",
        "print(b)\n",
        "print(c)"
      ],
      "metadata": {
        "colab": {
          "base_uri": "https://localhost:8080/"
        },
        "id": "03mLgBE3XDCu",
        "outputId": "377ffc17-c842-4071-f23e-af8579a7c31b"
      },
      "execution_count": null,
      "outputs": [
        {
          "output_type": "stream",
          "name": "stdout",
          "text": [
            "1\n",
            "1\n",
            "1\n"
          ]
        }
      ]
    },
    {
      "cell_type": "markdown",
      "metadata": {
        "id": "9PMMn9rRK5dQ"
      },
      "source": [
        "## 2.5 Operadores\n",
        "\n",
        "Los operadores son símbolos, como: **+, -, =,> y <,** que realizan ciertas operaciones matemáticas o operación lógica para manipular valores de datos y producir un resultado basado en algunas reglas. Un\n",
        "El operador manipula los valores de datos llamados operandos.\n",
        "\n",
        "Considere la expresión:"
      ]
    },
    {
      "cell_type": "code",
      "metadata": {
        "id": "6JH3AVe9LVZ-",
        "colab": {
          "base_uri": "https://localhost:8080/"
        },
        "outputId": "bcfc5719-1062-43e2-e8bc-e1e8cd397a72"
      },
      "source": [
        "4 + 6"
      ],
      "execution_count": null,
      "outputs": [
        {
          "output_type": "execute_result",
          "data": {
            "text/plain": [
              "10"
            ]
          },
          "metadata": {},
          "execution_count": 21
        }
      ]
    },
    {
      "cell_type": "code",
      "metadata": {
        "colab": {
          "base_uri": "https://localhost:8080/"
        },
        "id": "kyrmTco3dspg",
        "outputId": "431fbc5e-4053-48f2-98d4-00b83d08e12c"
      },
      "source": [
        "(12*2+11*3+12*1)/6"
      ],
      "execution_count": null,
      "outputs": [
        {
          "output_type": "execute_result",
          "data": {
            "text/plain": [
              "11.5"
            ]
          },
          "metadata": {},
          "execution_count": 22
        }
      ]
    },
    {
      "cell_type": "markdown",
      "metadata": {
        "id": "g2FT3JgJLdmg"
      },
      "source": [
        "Donde **4 y 6** son operandos y **+** es el operador. El lenguaje Python admite una amplia gama de operadores. Entre ellos:\n",
        "\n",
        "1. Operadores aritméticos\n",
        "2. Operadores de asignación\n",
        "3. Operadores de comparación\n",
        "4. Operadores lógicos\n",
        "5. Operadores bit a bit"
      ]
    },
    {
      "cell_type": "markdown",
      "metadata": {
        "id": "bxnV3OirL8VV"
      },
      "source": [
        "### 2.5.1 Operadores aritméticos\n",
        "\n",
        "Los operadores aritméticos se utilizan para ejecutar operaciones aritméticas como suma, resta, división, multiplicación, etc. La siguiente muestra toda los operadores aritméticos.\n"
      ]
    },
    {
      "cell_type": "markdown",
      "metadata": {
        "id": "CT3ad1F2SqXN"
      },
      "source": [
        "**TABLA 2.2**\n",
        "\n",
        "Lista de Operadores arirméticos\n",
        "\n",
        "Operador | Nombre del operador | Descripción | Ejemplo\n",
        "--- | --- | --- | ---\n",
        "+ | Operador de adición | Agrega dos operandos, produciendo su suma. | p + q = 5\n",
        "- | Operador de sustracción | Resta los dos operandos, produciendo su diferencia. | p – q = −1\n",
        "* | Operador de multiplicación | Produce el producto de los operandos. | p * q = 6\n",
        "/ | Operador de división | Produce el cociente de sus operandos donde el operando izquierdo es el dividendo y el operando derecho es el divisor. | q / p = 1.5\n",
        "% | Operador de Módulo | Divide el operando de la izquierda por el operando de la derecha y devuelve un resto. | q % p = 1\n",
        "** | Operador de exponente | Realiza cálculos exponenciales (potencia) en operadores. | p**q = 8\n",
        "// | Operador de división de piso | Devuelve la parte entera del cociente. | 9//2 = 4 and 9.0//2.0 = 4.0"
      ]
    },
    {
      "cell_type": "markdown",
      "metadata": {
        "id": "z3KLVF-ALKsP"
      },
      "source": [
        "Otros ejemplos:"
      ]
    },
    {
      "cell_type": "code",
      "metadata": {
        "id": "nruTxhvpbrxR",
        "colab": {
          "base_uri": "https://localhost:8080/"
        },
        "outputId": "a62a07f9-5500-450a-8014-df2ad869ae65"
      },
      "source": [
        "# Suma\n",
        "10+35"
      ],
      "execution_count": null,
      "outputs": [
        {
          "output_type": "execute_result",
          "data": {
            "text/plain": [
              "45"
            ]
          },
          "metadata": {},
          "execution_count": 23
        }
      ]
    },
    {
      "cell_type": "code",
      "metadata": {
        "id": "qriDNCumb-HG",
        "colab": {
          "base_uri": "https://localhost:8080/"
        },
        "outputId": "62928c6c-a99c-4153-8f24-9bdf84541e23"
      },
      "source": [
        "# Suma\n",
        "-10+35"
      ],
      "execution_count": null,
      "outputs": [
        {
          "output_type": "execute_result",
          "data": {
            "text/plain": [
              "25"
            ]
          },
          "metadata": {},
          "execution_count": 24
        }
      ]
    },
    {
      "cell_type": "code",
      "metadata": {
        "id": "mBVIisdob_6_",
        "colab": {
          "base_uri": "https://localhost:8080/"
        },
        "outputId": "7789406a-bc25-4c6c-8c23-724fc25cc2e6"
      },
      "source": [
        "# Multiplicación\n",
        "4*2"
      ],
      "execution_count": null,
      "outputs": [
        {
          "output_type": "execute_result",
          "data": {
            "text/plain": [
              "8"
            ]
          },
          "metadata": {},
          "execution_count": 25
        }
      ]
    },
    {
      "cell_type": "code",
      "metadata": {
        "id": "p6_x1n4wcBkp",
        "colab": {
          "base_uri": "https://localhost:8080/"
        },
        "outputId": "a60d6745-976c-4c83-ecb2-ec17c2a77c59"
      },
      "source": [
        "# Exponenciación\n",
        "4**2"
      ],
      "execution_count": null,
      "outputs": [
        {
          "output_type": "execute_result",
          "data": {
            "text/plain": [
              "16"
            ]
          },
          "metadata": {},
          "execution_count": 26
        }
      ]
    },
    {
      "cell_type": "code",
      "metadata": {
        "id": "Ge2ZG6Vcdy-E",
        "colab": {
          "base_uri": "https://localhost:8080/"
        },
        "outputId": "43e215e4-4cea-4b4b-85e3-99d0b0fac5f5"
      },
      "source": [
        "j = 2\n",
        "print(j)"
      ],
      "execution_count": null,
      "outputs": [
        {
          "output_type": "stream",
          "name": "stdout",
          "text": [
            "2\n"
          ]
        }
      ]
    },
    {
      "cell_type": "code",
      "metadata": {
        "id": "9wcvqSiOd-FV",
        "colab": {
          "base_uri": "https://localhost:8080/"
        },
        "outputId": "10f4fd92-b016-4048-fc0a-6561c441c9a8"
      },
      "source": [
        "j:2\n",
        "print(j)"
      ],
      "execution_count": null,
      "outputs": [
        {
          "output_type": "stream",
          "name": "stdout",
          "text": [
            "2\n"
          ]
        }
      ]
    },
    {
      "cell_type": "markdown",
      "metadata": {
        "id": "RV5mJr2Qhq7N"
      },
      "source": []
    },
    {
      "cell_type": "code",
      "metadata": {
        "colab": {
          "base_uri": "https://localhost:8080/",
          "height": 36
        },
        "id": "ecEDY6Q9h16N",
        "outputId": "ca2a7b8e-a9ff-403e-affb-67ab652a18ab"
      },
      "source": [
        "Numbers=\"0123456\"\n",
        "Numbers[::2]"
      ],
      "execution_count": null,
      "outputs": [
        {
          "output_type": "execute_result",
          "data": {
            "text/plain": [
              "'0246'"
            ],
            "application/vnd.google.colaboratory.intrinsic+json": {
              "type": "string"
            }
          },
          "metadata": {},
          "execution_count": 29
        }
      ]
    },
    {
      "cell_type": "code",
      "metadata": {
        "id": "LDpfbafXiLtP"
      },
      "source": [
        "type(\"0123456\".find('1'))"
      ],
      "execution_count": null,
      "outputs": []
    },
    {
      "cell_type": "code",
      "metadata": {
        "id": "xMOrXK_2i7Tv"
      },
      "source": [
        "name = 'Lizz'\n",
        "print(name[0:2])"
      ],
      "execution_count": null,
      "outputs": []
    },
    {
      "cell_type": "code",
      "metadata": {
        "id": "b44nqXrdjStS"
      },
      "source": [
        "var = '01234567'\n",
        "print(var[::2])"
      ],
      "execution_count": null,
      "outputs": []
    },
    {
      "cell_type": "code",
      "metadata": {
        "colab": {
          "base_uri": "https://localhost:8080/",
          "height": 36
        },
        "id": "UWbVVfaQjfiC",
        "outputId": "0165bbd2-28e3-4f98-dc68-d835c02571ff"
      },
      "source": [
        "'1'+'2'"
      ],
      "execution_count": null,
      "outputs": [
        {
          "output_type": "execute_result",
          "data": {
            "text/plain": [
              "'12'"
            ],
            "application/vnd.google.colaboratory.intrinsic+json": {
              "type": "string"
            }
          },
          "metadata": {},
          "execution_count": 30
        }
      ]
    },
    {
      "cell_type": "code",
      "metadata": {
        "colab": {
          "base_uri": "https://localhost:8080/"
        },
        "id": "bw8ttAXNj-H4",
        "outputId": "1a60f7cb-0f1a-494a-efca-577c892f0d16"
      },
      "source": [
        "A=(0,1,2,3)\n",
        "A[-2]"
      ],
      "execution_count": null,
      "outputs": [
        {
          "output_type": "execute_result",
          "data": {
            "text/plain": [
              "2"
            ]
          },
          "metadata": {},
          "execution_count": 34
        }
      ]
    },
    {
      "cell_type": "code",
      "source": [
        "A=(0,1,2,3)\n",
        "A[1]"
      ],
      "metadata": {
        "colab": {
          "base_uri": "https://localhost:8080/"
        },
        "id": "h4cQbP9gZXeU",
        "outputId": "8f118911-fa58-4a6d-809c-6e17795bc1a6"
      },
      "execution_count": null,
      "outputs": [
        {
          "output_type": "execute_result",
          "data": {
            "text/plain": [
              "1"
            ]
          },
          "metadata": {},
          "execution_count": 32
        }
      ]
    },
    {
      "cell_type": "code",
      "metadata": {
        "colab": {
          "base_uri": "https://localhost:8080/"
        },
        "id": "DchaSJmBkhU6",
        "outputId": "ce5061c4-a24f-4efb-d3c8-07516a94da32"
      },
      "source": [
        "B=[\"a\",\"b\",\"c\"]\n",
        "B[1:]"
      ],
      "execution_count": null,
      "outputs": [
        {
          "output_type": "execute_result",
          "data": {
            "text/plain": [
              "['b', 'c']"
            ]
          },
          "metadata": {},
          "execution_count": 35
        }
      ]
    },
    {
      "cell_type": "code",
      "metadata": {
        "id": "exzdKBtelKQY"
      },
      "source": [
        "D={'a':0,'b':1,'c':2}\n",
        "D.values()"
      ],
      "execution_count": null,
      "outputs": []
    },
    {
      "cell_type": "code",
      "metadata": {
        "id": "htWgZgnwlq5U"
      },
      "source": [
        "L = ['m', 'n']\n",
        "L.append (['a', 'b'])\n",
        "L"
      ],
      "execution_count": null,
      "outputs": []
    },
    {
      "cell_type": "code",
      "metadata": {
        "id": "SFDFht1XmRlJ"
      },
      "source": [
        "Dict={\"A\":1,\"B\":\"2\",\"C\":[3,3,3],\"D\":(4,4,4),'E':5,'F':6}\n",
        "Dict[\"D\"]"
      ],
      "execution_count": null,
      "outputs": []
    },
    {
      "cell_type": "code",
      "metadata": {
        "id": "gbCiuddhmvQN"
      },
      "source": [
        "i=10\n",
        "i!=0"
      ],
      "execution_count": null,
      "outputs": []
    },
    {
      "cell_type": "markdown",
      "metadata": {
        "id": "cqAZfLqpDYV2"
      },
      "source": [
        "### 2.5.2 Operadores de asignación\n",
        "\n",
        "Los operadores de asignación se utilizan para asignar los valores generados después de evaluar el operando derecho al operando izquierdo. La operación de asignación siempre funciona de derecha a izquierda.\n",
        "Los operadores de asignación son un operador de asignación simple o una asignación compuesta operadores. La asignación simple se realiza con el signo igual (=) y simplemente asigna el valor de su operando derecho a la variable de la izquierda. Por ejemplo:"
      ]
    },
    {
      "cell_type": "code",
      "metadata": {
        "id": "9K9rhw4BDomG",
        "colab": {
          "base_uri": "https://localhost:8080/"
        },
        "outputId": "a07174b7-e5f6-419b-a448-dff6144f77a1"
      },
      "source": [
        "x = 7\n",
        "x = x + 2\n",
        "y = x + 2\n",
        "y"
      ],
      "execution_count": null,
      "outputs": [
        {
          "output_type": "execute_result",
          "data": {
            "text/plain": [
              "11"
            ]
          },
          "metadata": {},
          "execution_count": 39
        }
      ]
    },
    {
      "cell_type": "markdown",
      "metadata": {
        "id": "s0PLN2kTD1oA"
      },
      "source": [
        "Los operadores de asignación compuesta admiten la notación abreviada para evitar la repetición de la variable del lado izquierdo en el lado derecho. Los operadores de asignación compuesta combinan asignación\n",
        "operador con otro operador con = se coloca al final del operador original. Por ejemplo, la declaración:"
      ]
    },
    {
      "cell_type": "code",
      "metadata": {
        "id": "6e6P2v4kEBey"
      },
      "source": [
        "x = 5\n",
        "x = x + 1\n",
        "x"
      ],
      "execution_count": null,
      "outputs": []
    },
    {
      "cell_type": "markdown",
      "metadata": {
        "id": "EkSKQXuYEG-6"
      },
      "source": [
        "Se puede escribir de forma compacta como se muestra a continuación:"
      ]
    },
    {
      "cell_type": "code",
      "source": [
        "x = 6\n",
        "x = x + 2\n",
        "x"
      ],
      "metadata": {
        "colab": {
          "base_uri": "https://localhost:8080/"
        },
        "id": "siBbvpaLfLZ_",
        "outputId": "b7767d0d-3af2-43f3-b58c-9ca482d02ec7"
      },
      "execution_count": null,
      "outputs": [
        {
          "output_type": "execute_result",
          "data": {
            "text/plain": [
              "8"
            ]
          },
          "metadata": {},
          "execution_count": 42
        }
      ]
    },
    {
      "cell_type": "code",
      "source": [
        "x = 6\n",
        "x += 2\n",
        "x"
      ],
      "metadata": {
        "colab": {
          "base_uri": "https://localhost:8080/"
        },
        "id": "wjpeBpdhe8wu",
        "outputId": "3aa3e2ee-4567-40af-8edd-4f1f0916ff93"
      },
      "execution_count": null,
      "outputs": [
        {
          "output_type": "execute_result",
          "data": {
            "text/plain": [
              "8"
            ]
          },
          "metadata": {},
          "execution_count": 41
        }
      ]
    },
    {
      "cell_type": "code",
      "metadata": {
        "id": "fGt_54Y8EOIb",
        "colab": {
          "base_uri": "https://localhost:8080/"
        },
        "outputId": "12482c70-8772-49b8-b40e-0f1f169961b6"
      },
      "source": [
        "x = 6\n",
        "x /= 2\n",
        "x"
      ],
      "execution_count": null,
      "outputs": [
        {
          "output_type": "execute_result",
          "data": {
            "text/plain": [
              "3.0"
            ]
          },
          "metadata": {},
          "execution_count": 40
        }
      ]
    },
    {
      "cell_type": "code",
      "source": [
        "x = 6\n",
        "x *= 2\n",
        "x"
      ],
      "metadata": {
        "colab": {
          "base_uri": "https://localhost:8080/"
        },
        "id": "ha73cuxAfh84",
        "outputId": "cb03e245-24c5-4f1b-e50e-99389da12379"
      },
      "execution_count": null,
      "outputs": [
        {
          "output_type": "execute_result",
          "data": {
            "text/plain": [
              "12"
            ]
          },
          "metadata": {},
          "execution_count": 43
        }
      ]
    },
    {
      "cell_type": "markdown",
      "metadata": {
        "id": "-3nIR-fJEcS9"
      },
      "source": [
        "Si intenta actualizar una variable que no contiene ningún valor, obtiene un error:"
      ]
    },
    {
      "cell_type": "code",
      "metadata": {
        "id": "jiYC9BN7Ee0O"
      },
      "source": [
        "z = z + 1\n",
        "z"
      ],
      "execution_count": null,
      "outputs": []
    },
    {
      "cell_type": "markdown",
      "metadata": {
        "id": "xaj0LrUQEvx4"
      },
      "source": [
        "Antes de poder actualizar una variable, debe asignarle un valor.\n",
        "La siguiente TABLA 2.3 muestra todos los operadores de asignación."
      ]
    },
    {
      "cell_type": "markdown",
      "metadata": {
        "id": "6UvJPRGgE0aA"
      },
      "source": [
        "**TABLA 2.3**  \n",
        "Lista de operadores de asignación\n",
        "\n",
        "Operador | Nombre del operador | Descripción | Ejemplo\n",
        "--- | --- | --- | ---\n",
        "= | Asignación | Asigna valores de los operandos del lado derecho al operando izquierdo lateral. | z = p + q asigna valor de p + q a z\n",
        "+= | Asignación de adición| Agrega el valor del operando derecho al operando  izquierdo y asigna el resultado al operando izquierdo. | z += p es equivalente a z = z + p\n",
        "-= | Asignación de sustracción| Sustrae el valor del operando derecho al operando izquierdo y asigna el resultado al operando izquierdo. | z -= p es **equivalente** a z = z - p\n",
        "*= | Asignación de multiplicación| Multiplica el valor del operando derecho al operando izquierdo y asigna el resultado al operando izquierdo | z *= p es equivalente a z = z * p\n",
        "/= | Asignación de división| Divide el valor del operando derecho al izquierdo operando y asigna el resultado al operando izquierdo. | z /= p es equivalente a z = z / p\n",
        "//= | Asignación de división floor| Produce la parte integral del cociente de su operandos donde el operando de la  izquierda es el dividendo y el operando derecho es el divisor. | z += p es equivalente a z = z + p\n",
        "**= | Asignación de exponenciación| Evalúa el resultado de generar el primer operando a la potencia del segundo operando. | z **= p es equivalente a z = z ** p\n",
        "%= | Asignación de resto| Calcula el resto después de la división y asigna el valor al operando izquierdo. | z %= p es equivalente a z = z % p\n",
        "\n",
        "Por ejemplo:\n"
      ]
    },
    {
      "cell_type": "code",
      "metadata": {
        "id": "gTtuCyOglXTC",
        "colab": {
          "base_uri": "https://localhost:8080/"
        },
        "outputId": "6a4bed27-367c-444c-e958-94d322e63b7f"
      },
      "source": [
        "p = 10\n",
        "q = 12\n",
        "q += p\n",
        "q"
      ],
      "execution_count": null,
      "outputs": [
        {
          "output_type": "execute_result",
          "data": {
            "text/plain": [
              "22"
            ]
          },
          "metadata": {},
          "execution_count": 45
        }
      ]
    },
    {
      "cell_type": "code",
      "metadata": {
        "colab": {
          "base_uri": "https://localhost:8080/"
        },
        "id": "J-TPp4Evq2Co",
        "outputId": "f87927bc-e262-4cf8-baea-ef510654991a"
      },
      "source": [
        "q *= p\n",
        "q"
      ],
      "execution_count": null,
      "outputs": [
        {
          "output_type": "execute_result",
          "data": {
            "text/plain": [
              "220"
            ]
          },
          "metadata": {},
          "execution_count": 46
        }
      ]
    },
    {
      "cell_type": "code",
      "metadata": {
        "id": "2YRPUgM1q4bX",
        "colab": {
          "base_uri": "https://localhost:8080/"
        },
        "outputId": "5e526741-a2cd-438a-afeb-477ccb12167d"
      },
      "source": [
        "q /= p\n",
        "q"
      ],
      "execution_count": null,
      "outputs": [
        {
          "output_type": "execute_result",
          "data": {
            "text/plain": [
              "22.0"
            ]
          },
          "metadata": {},
          "execution_count": 47
        }
      ]
    },
    {
      "cell_type": "code",
      "metadata": {
        "colab": {
          "base_uri": "https://localhost:8080/"
        },
        "id": "svj-gveBq6Yp",
        "outputId": "cfd62d78-59fd-4895-cdd5-cc085b9bdf80"
      },
      "source": [
        "q %= p\n",
        "q"
      ],
      "execution_count": null,
      "outputs": [
        {
          "output_type": "execute_result",
          "data": {
            "text/plain": [
              "2.0"
            ]
          },
          "metadata": {},
          "execution_count": 48
        }
      ]
    },
    {
      "cell_type": "code",
      "metadata": {
        "id": "gRDUkW4iq8NP",
        "colab": {
          "base_uri": "https://localhost:8080/"
        },
        "outputId": "1cf63fcf-b017-4266-e85b-7ba058209bcf"
      },
      "source": [
        "q **= p\n",
        "q"
      ],
      "execution_count": null,
      "outputs": [
        {
          "output_type": "execute_result",
          "data": {
            "text/plain": [
              "1024.0"
            ]
          },
          "metadata": {},
          "execution_count": 49
        }
      ]
    },
    {
      "cell_type": "markdown",
      "metadata": {
        "id": "X9_NMZksgxt9"
      },
      "source": [
        "Un comentario interesante..."
      ]
    },
    {
      "cell_type": "code",
      "metadata": {
        "colab": {
          "base_uri": "https://localhost:8080/"
        },
        "id": "OYkg5VLhq-UX",
        "outputId": "115e92a8-6af5-485a-d08c-d86a43d6f885"
      },
      "source": [
        "q //= p\n",
        "q"
      ],
      "execution_count": null,
      "outputs": [
        {
          "output_type": "execute_result",
          "data": {
            "text/plain": [
              "102.0"
            ]
          },
          "metadata": {},
          "execution_count": 50
        }
      ]
    },
    {
      "cell_type": "markdown",
      "metadata": {
        "id": "YlKK5A7cJCiE"
      },
      "source": [
        "**IMPORTANTE**  \n",
        "Los lectores avanzados que vienen de otros idiomas deben tener en cuenta que El lenguaje de programación Python no es compatible con Autoincrement (++) y operadores de Autodecreción (--)."
      ]
    },
    {
      "cell_type": "markdown",
      "metadata": {
        "id": "ekXTpyb-SW6b"
      },
      "source": [
        "### 2.5.3 Operadores de comparación  \n",
        "Cuando se van a comparar los valores de dos operandos, se utilizan operadores de comparación. La salida de estos operadores de comparación es siempre un valor booleano, verdadero o falso. Los operandos pueden ser números, cadenas o valores booleanos. Las cadenas son letra  comparada por letra usando sus valores ASCII, por lo tanto, \"P\" es menor que \"Q\" y \"Aston\" es mayor que \"Asher\". La TABLA 2.4 muestra todos los operadores de comparación."
      ]
    },
    {
      "cell_type": "markdown",
      "metadata": {
        "id": "1PZ6B3ilXJ37"
      },
      "source": [
        "## **TABLA 2.4**\n",
        "Lista de operadores de comparación\n",
        "\n",
        "Operador | Nombre del operador | Descripción | Ejemplo\n",
        "--- | --- | --- | ---\n",
        "== | Igual a |Si los valores de dos operandos son iguales, la condición se convierte en Verdadera. | (p == q) no es Verdadero.\n",
        "!= | No igual a |Si los valores de dos operandos no son iguales, la condición se convierte en Verdadera. | (p! = q) es verdadero\n",
        "> | Mayor que |Si el valor del operando izquierdo es mayor que el valor del operando derecho, la condición se convierte en Verdadero. | (p> q) no es verdadero.\n",
        "< | Menor que |Si el valor del operando izquierdo es menor que el valor del operando derecho, la condición se convierte en Verdadero.| (p < q) es Verdadero.\n",
        ">= | Mayor o Igual que |Si el valor del operando izquierdo es mayor o igual que el valor del operando derecho, la condición se convierte en Verdadero. | (p >= q) no es Verdadero.\n",
        "<= | Menor o Igual a |Si el valor del operando izquierdo es menor o igual que el valor del operando derecho, la condición se convierte en Verdadero. | (p <= q) es Verdadero.  \n",
        "\n",
        "Nota: El valor de p es 10 y q es 20.  \n",
        "Por ejemplo:"
      ]
    },
    {
      "cell_type": "code",
      "metadata": {
        "colab": {
          "base_uri": "https://localhost:8080/"
        },
        "id": "6ZO7g8ZySMbS",
        "outputId": "8b778dfa-ebf1-49c2-d5e3-acda42bd4217"
      },
      "source": [
        "10 == 12\n"
      ],
      "execution_count": null,
      "outputs": [
        {
          "output_type": "execute_result",
          "data": {
            "text/plain": [
              "False"
            ]
          },
          "metadata": {},
          "execution_count": 51
        }
      ]
    },
    {
      "cell_type": "code",
      "metadata": {
        "colab": {
          "base_uri": "https://localhost:8080/"
        },
        "id": "KF7q38-3x2eO",
        "outputId": "6f5eae20-26c4-4928-c07f-5b85d7e0bdf6"
      },
      "source": [
        "10 != 12"
      ],
      "execution_count": null,
      "outputs": [
        {
          "output_type": "execute_result",
          "data": {
            "text/plain": [
              "True"
            ]
          },
          "metadata": {},
          "execution_count": 52
        }
      ]
    },
    {
      "cell_type": "code",
      "metadata": {
        "colab": {
          "base_uri": "https://localhost:8080/"
        },
        "id": "NOikah1-x8L9",
        "outputId": "e4869fc6-16fb-47b3-c385-7792ae1e6df3"
      },
      "source": [
        "10 < 12\n"
      ],
      "execution_count": null,
      "outputs": [
        {
          "output_type": "execute_result",
          "data": {
            "text/plain": [
              "True"
            ]
          },
          "metadata": {},
          "execution_count": 53
        }
      ]
    },
    {
      "cell_type": "code",
      "metadata": {
        "colab": {
          "base_uri": "https://localhost:8080/"
        },
        "id": "z73fd28Rx_xN",
        "outputId": "fbeec913-256c-4bba-8dd3-a1f4c923f396"
      },
      "source": [
        "10 > 12"
      ],
      "execution_count": null,
      "outputs": [
        {
          "output_type": "execute_result",
          "data": {
            "text/plain": [
              "False"
            ]
          },
          "metadata": {},
          "execution_count": 54
        }
      ]
    },
    {
      "cell_type": "code",
      "metadata": {
        "colab": {
          "base_uri": "https://localhost:8080/"
        },
        "id": "0MnjJwoEyDS-",
        "outputId": "5c5160dd-170a-4347-93f8-c42854ed1921"
      },
      "source": [
        "10 <= 12"
      ],
      "execution_count": null,
      "outputs": [
        {
          "output_type": "execute_result",
          "data": {
            "text/plain": [
              "True"
            ]
          },
          "metadata": {},
          "execution_count": 55
        }
      ]
    },
    {
      "cell_type": "code",
      "source": [
        "10 <= 10"
      ],
      "metadata": {
        "colab": {
          "base_uri": "https://localhost:8080/"
        },
        "id": "9uYggJArjRPw",
        "outputId": "4cf10625-b6ba-4b60-8e8a-621d40679f7f"
      },
      "execution_count": null,
      "outputs": [
        {
          "output_type": "execute_result",
          "data": {
            "text/plain": [
              "True"
            ]
          },
          "metadata": {},
          "execution_count": 56
        }
      ]
    },
    {
      "cell_type": "code",
      "metadata": {
        "id": "uaTjK-7ByGqQ",
        "colab": {
          "base_uri": "https://localhost:8080/"
        },
        "outputId": "344a7e91-6744-4b57-fe96-583baa0e7460"
      },
      "source": [
        "10 >= 12"
      ],
      "execution_count": null,
      "outputs": [
        {
          "output_type": "execute_result",
          "data": {
            "text/plain": [
              "False"
            ]
          },
          "metadata": {},
          "execution_count": 57
        }
      ]
    },
    {
      "cell_type": "code",
      "metadata": {
        "colab": {
          "base_uri": "https://localhost:8080/"
        },
        "id": "W2ymEu6nyJS3",
        "outputId": "b1b57439-c12e-43cc-ae31-2730542c3c8a"
      },
      "source": [
        "\"P\" <\"Q\""
      ],
      "execution_count": null,
      "outputs": [
        {
          "output_type": "execute_result",
          "data": {
            "text/plain": [
              "True"
            ]
          },
          "metadata": {},
          "execution_count": 58
        }
      ]
    },
    {
      "cell_type": "code",
      "metadata": {
        "colab": {
          "base_uri": "https://localhost:8080/"
        },
        "id": "hkoGCuruyLCW",
        "outputId": "45e3095f-2b9c-437a-cd55-542052b6a467"
      },
      "source": [
        "\"Aston\"> \"Asher\""
      ],
      "execution_count": null,
      "outputs": [
        {
          "output_type": "execute_result",
          "data": {
            "text/plain": [
              "True"
            ]
          },
          "metadata": {},
          "execution_count": 59
        }
      ]
    },
    {
      "cell_type": "code",
      "metadata": {
        "colab": {
          "base_uri": "https://localhost:8080/"
        },
        "id": "ANmj4_xtyQ0A",
        "outputId": "093bfa90-41a0-472d-af64-5c110d3d45e4"
      },
      "source": [
        "False == True"
      ],
      "execution_count": null,
      "outputs": [
        {
          "output_type": "execute_result",
          "data": {
            "text/plain": [
              "False"
            ]
          },
          "metadata": {},
          "execution_count": 60
        }
      ]
    },
    {
      "cell_type": "markdown",
      "metadata": {
        "id": "4-_Bz_suwHcw"
      },
      "source": [
        "**IMPORTANTE**  \n",
        "No confunda el operador de igualdad == con el operador de asignación =. La expresión x == y compara x con y y tiene el valor Verdadero si los valores son iguales. La expresión x = y asigna el valor de y a x."
      ]
    },
    {
      "cell_type": "markdown",
      "metadata": {
        "id": "8nZaQrONOHR8"
      },
      "source": [
        "### 2.5.4 Operadores lógicos  \n",
        "Los operadores lógicos se utilizan para comparar o negar los valores lógicos de sus operadores y para devolver el valor lógico resultante. Los valores de los operandos en los que operan los operadores lógicos se evalúan como Verdadero o Falso. El resultado del operador lógico es siempre un valor booleano, verdadero o falso. TABLA 2.5 muestra todos los operadores lógicos.\n",
        "\n",
        "## **TABLA 2.5**\n",
        "Lista de operadores lógicos\n",
        "\n",
        "Operador | Nombre del operador | Descripción | Ejemplo\n",
        "--- | --- | --- | ---\n",
        "and | AND lógico |Realiza la operación AND y el resultado es True cuando ambos operandos son Verdaderos  |p and q resultan False.\n",
        "or | OR lógico |Realiza la operación OR y el resultado es True cuando cualquiera de los dos operandos es True | p or q resulta True\n",
        "not | NOT lógico | Invierte el estado del operando. | not p da como resultado False. \n",
        " \n",
        "Nota: El valor booleano de p es True y q es False.\n",
        "\n",
        "\n"
      ]
    },
    {
      "cell_type": "markdown",
      "metadata": {
        "id": "SQcFHj5JQrQY"
      },
      "source": [
        "La tabla de verdad lógica booleana se muestra en TABLA 2.6\n",
        "\n",
        "## TABLA 2.6  \n",
        "Tabla de verdad de lógica booleana\n",
        "\n",
        "P | Q | P and Q | P or Q | not P\n",
        "--- | --- | --- | --- | ---\n",
        "True | True | True | True | False\n",
        "True | False | False | True | \n",
        "False | True | False | True | True\n",
        "False | False | False | False |  \n",
        "\n",
        "Por ejemplo:"
      ]
    },
    {
      "cell_type": "code",
      "metadata": {
        "id": "E6Muj-lKSgxj",
        "colab": {
          "base_uri": "https://localhost:8080/"
        },
        "outputId": "408c5af6-2280-4a2c-b6b7-d5025f50ca34"
      },
      "source": [
        "True and False\n"
      ],
      "execution_count": null,
      "outputs": [
        {
          "output_type": "execute_result",
          "data": {
            "text/plain": [
              "False"
            ]
          },
          "metadata": {},
          "execution_count": 61
        }
      ]
    },
    {
      "cell_type": "code",
      "metadata": {
        "colab": {
          "base_uri": "https://localhost:8080/"
        },
        "id": "c-9hF3o2SIM0",
        "outputId": "0038b2f6-899d-4ed9-d55d-7bcb140f6d03"
      },
      "source": [
        "True or False"
      ],
      "execution_count": null,
      "outputs": [
        {
          "output_type": "execute_result",
          "data": {
            "text/plain": [
              "True"
            ]
          },
          "metadata": {},
          "execution_count": 62
        }
      ]
    },
    {
      "cell_type": "code",
      "metadata": {
        "colab": {
          "base_uri": "https://localhost:8080/"
        },
        "id": "9L_bKzT1SJ-L",
        "outputId": "cd301c9d-01d4-4e59-bf6a-18a574c401d7"
      },
      "source": [
        "not(True) and False"
      ],
      "execution_count": null,
      "outputs": [
        {
          "output_type": "execute_result",
          "data": {
            "text/plain": [
              "False"
            ]
          },
          "metadata": {},
          "execution_count": 63
        }
      ]
    },
    {
      "cell_type": "code",
      "metadata": {
        "colab": {
          "base_uri": "https://localhost:8080/"
        },
        "id": "R8KBzr34SL9z",
        "outputId": "cac7c91f-bfda-47e3-c87f-c792c8333e62"
      },
      "source": [
        "not(True and False)"
      ],
      "execution_count": null,
      "outputs": [
        {
          "output_type": "execute_result",
          "data": {
            "text/plain": [
              "True"
            ]
          },
          "metadata": {},
          "execution_count": 64
        }
      ]
    },
    {
      "cell_type": "code",
      "metadata": {
        "colab": {
          "base_uri": "https://localhost:8080/"
        },
        "id": "MQr9t5feSNcA",
        "outputId": "fc35eda5-f077-4dbf-f444-ae82c2d608a8"
      },
      "source": [
        "(10 < 0) and (10 > 2)"
      ],
      "execution_count": null,
      "outputs": [
        {
          "output_type": "execute_result",
          "data": {
            "text/plain": [
              "False"
            ]
          },
          "metadata": {},
          "execution_count": 65
        }
      ]
    },
    {
      "cell_type": "code",
      "metadata": {
        "colab": {
          "base_uri": "https://localhost:8080/"
        },
        "id": "t1duuUA1SPH8",
        "outputId": "88a31af7-61b8-4e51-efa3-16920ebd9a3a"
      },
      "source": [
        "(10 < 0) or (10 > 2)"
      ],
      "execution_count": null,
      "outputs": [
        {
          "output_type": "execute_result",
          "data": {
            "text/plain": [
              "True"
            ]
          },
          "metadata": {},
          "execution_count": 66
        }
      ]
    },
    {
      "cell_type": "code",
      "metadata": {
        "colab": {
          "base_uri": "https://localhost:8080/"
        },
        "id": "5pt6qJNpSQpM",
        "outputId": "c4680238-369d-4ff4-d6a3-c25dc614075e"
      },
      "source": [
        "not(10 < 0) or (10 > 2)"
      ],
      "execution_count": null,
      "outputs": [
        {
          "output_type": "execute_result",
          "data": {
            "text/plain": [
              "True"
            ]
          },
          "metadata": {},
          "execution_count": 67
        }
      ]
    },
    {
      "cell_type": "code",
      "metadata": {
        "colab": {
          "base_uri": "https://localhost:8080/"
        },
        "id": "KOL0GmR_SSJ0",
        "outputId": "c1a861bf-4586-4a3a-c9f0-8580a32db96b"
      },
      "source": [
        "not(10 < 0 or 10 > 2)"
      ],
      "execution_count": null,
      "outputs": [
        {
          "output_type": "execute_result",
          "data": {
            "text/plain": [
              "False"
            ]
          },
          "metadata": {},
          "execution_count": 68
        }
      ]
    },
    {
      "cell_type": "markdown",
      "metadata": {
        "id": "7zeH1cWqSXyv"
      },
      "source": [
        "El código anterior ilustra varias operaciones de comparación. A medida que las expresiones lógicas se evalúan de izquierda a derecha, se prueban para una posible valoración de \"cortocircuito\" utilizando las siguientes reglas:\n",
        "\n",
        "1. False and (alguna_expresión) se evalúa en cortocircuito como False.\n",
        "2. True or (alguna_expresión) se evalúa en cortocircuito como True.  \n",
        "\n",
        "Las reglas de la lógica garantizan que estas evaluaciones sean siempre correctas. El alguna_expresión parte de las expresiones anteriores no se evalúa, por lo que los efectos secundarios de hacerlo no surten\n",
        "efecto. Por ejemplo:"
      ]
    },
    {
      "cell_type": "code",
      "metadata": {
        "colab": {
          "base_uri": "https://localhost:8080/"
        },
        "id": "Ve54MEcASziZ",
        "outputId": "e2f03342-d753-4d7f-e361-eb29257bb7b7"
      },
      "source": [
        "1 > 2 and 9 > 6"
      ],
      "execution_count": null,
      "outputs": [
        {
          "output_type": "execute_result",
          "data": {
            "text/plain": [
              "False"
            ]
          },
          "metadata": {},
          "execution_count": 69
        }
      ]
    },
    {
      "cell_type": "code",
      "metadata": {
        "colab": {
          "base_uri": "https://localhost:8080/"
        },
        "id": "oWNmK_QgTEOB",
        "outputId": "2113bde4-9a19-4c84-e6aa-8afe153477fe"
      },
      "source": [
        "3 > 2 or 8 < 4"
      ],
      "execution_count": null,
      "outputs": [
        {
          "output_type": "execute_result",
          "data": {
            "text/plain": [
              "True"
            ]
          },
          "metadata": {},
          "execution_count": 70
        }
      ]
    },
    {
      "cell_type": "code",
      "source": [
        "3 < 2 or 8 < 4"
      ],
      "metadata": {
        "colab": {
          "base_uri": "https://localhost:8080/"
        },
        "id": "_XqtoAzXrmgF",
        "outputId": "1bf463fe-c3cc-4ae9-97d4-949bea948776"
      },
      "execution_count": null,
      "outputs": [
        {
          "output_type": "execute_result",
          "data": {
            "text/plain": [
              "False"
            ]
          },
          "metadata": {},
          "execution_count": 71
        }
      ]
    },
    {
      "cell_type": "code",
      "source": [
        "3 < 2 and 8 < 4"
      ],
      "metadata": {
        "colab": {
          "base_uri": "https://localhost:8080/"
        },
        "id": "E0ZknCL3rwxy",
        "outputId": "588891ac-5b8f-40f8-f0eb-9c444b0046b6"
      },
      "execution_count": null,
      "outputs": [
        {
          "output_type": "execute_result",
          "data": {
            "text/plain": [
              "False"
            ]
          },
          "metadata": {},
          "execution_count": 72
        }
      ]
    },
    {
      "cell_type": "markdown",
      "metadata": {
        "id": "whSjW637TLex"
      },
      "source": [
        "### 2.5.5 Operadores bit a bit  \n",
        "Los operadores bit a bit tratan sus operandos como una secuencia de bits (ceros y unos) y realizan operaciones bit a bit. Por ejemplo, el número decimal diez tiene una representación binaria de 1010. Los operadores bit a bit realizan sus operaciones en tales representaciones binarias, pero devuelven valores numéricos estándar de Python. TABLA 2.7 muestra todos los operadores bit a bit."
      ]
    },
    {
      "cell_type": "markdown",
      "metadata": {
        "id": "pjkhySejTYAt"
      },
      "source": [
        "\n",
        "## **TABLA 2.5**\n",
        "Lista de operadores bit a bit\n",
        "\n",
        "Operador | Nombre del operador | Descripción | Ejemplo\n",
        "--- | --- | --- | ---\n",
        "& | AND Binario | El resultado es uno en cada posición de bit para el que los bits correspondientes de ambos operandos son unos. | p & q = 12 (significa 0000 1100)\n",
        "\\| | OR Binario | El resultado es uno en cada posición de bit para el\n",
        "que los bits correspondientes de uno o ambos operandos son unos. | p \\| q = 61 (significa 0011 1101)\n",
        "^ | XOR Binario | El resultado es uno en cada posición de bit para el que los bits correspondientes de cualquiera de los dos operandos, pero no de ambos, son unos. | (p ̂ q) = 49 (significa 0011 0001)\n",
        "~ | Binarios Complemento | Invierte los bits de su operando. | (~ p) = - 61 (significa 1100 0011 en forma de complemento a 2)\n",
        "<< | valor de los operandos de la izquierda se mueve a la izquierda el número de bits especificado por el operando de la derecha. | p << 2 = 240 (significa 1111 0000)\n",
        ">> | valor de los operandos de la izquierda se mueve hacia la derecha el número de bits especificado por el operando de la derecha. | p >> 2 = 15 (significa 0000 1111)  \n",
        "\n",
        "Nota: El valor de p es 60 y q es 13."
      ]
    },
    {
      "cell_type": "markdown",
      "metadata": {
        "id": "yDopm-E1a7WU"
      },
      "source": [
        "La tabla de la verdad bit a bit se muestra en TABLA 2.8  \n",
        "\n",
        "## TABLA 2.8\n",
        "Tabla de verdad bit a bit\n",
        "\n",
        "P | Q | P & Q | P \\| Q | P^Q | ~P\n",
        "--- | --- | --- | --- | --- | ---\n",
        "0 | 0 | 0 | 0 | 0 | 1\n",
        "0 | 1 | 0 | 1 | 1 |\n",
        "1 | 0 | 0 | 1 | 1 | 0\n",
        "1 | 1 | 1 | 1 | 0 |  \n",
        "\n",
        "**IMPORTANTE**  \n",
        "Una secuencia que consta de unos y ceros se conoce como binario. La menor cantidad de información que puede almacenar en una computadora se\n",
        "conoce como bit. Un bit se representa como 0 o 1."
      ]
    },
    {
      "cell_type": "markdown",
      "metadata": {
        "id": "acrOQcGHeOOc"
      },
      "source": [
        "## 2.6 Precedencia y asociatividad\n",
        "La precedencia de los operadores determina la forma en que los operadores se analizan entre sí. Los operadores con mayor precedencia se convierten en operandos de los operadores con menor precedencia. La asociatividad determina la forma en que se analizan los operadores de la misma precedencia. Casi todos los operadores tienen asociatividad de izquierda a derecha. La precedencia del operador se enumera en TABLA 2.9 comenzando con la precedencia más alta a la precedencia más baja.\n",
        "\n",
        "## TABLA 2.9\n",
        "Prioridad del operador en Python\n",
        "\n",
        "Operadores | Sentido  \n",
        "--- | ---  \n",
        "( ) | Paréntesis\n",
        "** | Exponente\n",
        "+x, −x, ~ x | Unario más, Unario menos, Bit a Bit NOT\n",
        "*, /, //,% | Multiplicación, División, División de piso, Resto de módulo\n",
        "+, - | Suma, Resta\n",
        "<<, >> | Operadores de desplazamiento bit a bit\n",
        "& | & bit a bit\n",
        "^ | XOR bit a bit\n",
        "\\| | OR bit a bit\n",
        "==, !=, >, >=, <, <=, | Comparaciones\n",
        "is, is not, in, not in | Identidad, operadores de membresía\n",
        "not | NOT lógico\n",
        "and | AND lógico\n",
        "or | OR lógico"
      ]
    },
    {
      "cell_type": "markdown",
      "metadata": {
        "id": "8nF_8B_XmxBr"
      },
      "source": [
        "Considere el siguiente código:\n"
      ]
    },
    {
      "cell_type": "code",
      "metadata": {
        "id": "7wsByDsEm6l_",
        "colab": {
          "base_uri": "https://localhost:8080/"
        },
        "outputId": "6619e22b-6687-4448-c9dc-8d8c679324a7"
      },
      "source": [
        "2 + 3 * 6"
      ],
      "execution_count": null,
      "outputs": [
        {
          "output_type": "execute_result",
          "data": {
            "text/plain": [
              "20"
            ]
          },
          "metadata": {},
          "execution_count": 73
        }
      ]
    },
    {
      "cell_type": "code",
      "metadata": {
        "id": "V3Fck-A5m_Ni",
        "colab": {
          "base_uri": "https://localhost:8080/"
        },
        "outputId": "939722dd-050d-42a7-c226-673d8e2ec38c"
      },
      "source": [
        "(2 + 3) * 6"
      ],
      "execution_count": null,
      "outputs": [
        {
          "output_type": "execute_result",
          "data": {
            "text/plain": [
              "30"
            ]
          },
          "metadata": {},
          "execution_count": 74
        }
      ]
    },
    {
      "cell_type": "code",
      "metadata": {
        "id": "HlZhdNBAnEzT",
        "colab": {
          "base_uri": "https://localhost:8080/"
        },
        "outputId": "b021fbbc-d793-42d3-ace0-cc79714a9f60"
      },
      "source": [
        "6 * 4 / 2"
      ],
      "execution_count": null,
      "outputs": [
        {
          "output_type": "execute_result",
          "data": {
            "text/plain": [
              "12.0"
            ]
          },
          "metadata": {},
          "execution_count": 75
        }
      ]
    },
    {
      "cell_type": "code",
      "source": [
        "monto_base = 100\n",
        "alicuota = 20\n",
        "impuesto = 10\n",
        "\n",
        "# calculo = (monto_base*20/100)*(1+10/100)\n",
        "calculo = (monto_base*alicuota/100)*(1+impuesto/100)\n",
        "calculo"
      ],
      "metadata": {
        "colab": {
          "base_uri": "https://localhost:8080/"
        },
        "id": "buRa5RD9sxQT",
        "outputId": "bc29b22b-b939-4db0-f748-54ef92a94554"
      },
      "execution_count": null,
      "outputs": [
        {
          "output_type": "execute_result",
          "data": {
            "text/plain": [
              "22.0"
            ]
          },
          "metadata": {},
          "execution_count": 77
        }
      ]
    },
    {
      "cell_type": "code",
      "source": [
        "precio_base = 100\n",
        "IGV = 10\n",
        "precio_venta = precio_base+precio_base*IGV/100\n",
        "precio_venta"
      ],
      "metadata": {
        "id": "Li9e3PFkulzt"
      },
      "execution_count": null,
      "outputs": []
    },
    {
      "cell_type": "code",
      "source": [
        "precio_venta = 110\n",
        "IGV = 10"
      ],
      "metadata": {
        "id": "2nHjPf0Ht4lG"
      },
      "execution_count": null,
      "outputs": []
    },
    {
      "cell_type": "markdown",
      "metadata": {
        "id": "twEYCqiInNXE"
      },
      "source": [
        "## 2.7 Tipos de datos  \n",
        "Los tipos de datos especifican el tipo de datos, como números y caracteres, que se almacenarán y manipularán\n",
        "dentro de un programa. Los tipos de datos básicos de Python son:\n",
        "\n",
        "* Números\n",
        "* booleano\n",
        "* Cadenas (Strings)\n",
        "* None"
      ]
    },
    {
      "cell_type": "markdown",
      "metadata": {
        "id": "OBvFa_gZnqla"
      },
      "source": [
        "### 2.7.1 Números  \n",
        "Los enteros, los números de coma flotante y los números complejos se incluyen en la categoría de números de Python. Se definen como clase int, float y complex en Python. Los números enteros pueden tener cualquier longitud; solo está limitado por la memoria disponible. Un número de coma flotante tiene una precisión de hasta 15 posiciones decimales. Los puntos enteros y flotantes están separados por puntos decimales. 1 es un número entero, 1.0 es un número de coma flotante. Los números complejos se escriben en la forma, x + yj, donde x es la\n",
        "parte real e y es la parte imaginaria."
      ]
    },
    {
      "cell_type": "markdown",
      "metadata": {
        "id": "UvLbTfYTn7JL"
      },
      "source": [
        "## 2.7.2 Booleano  \n",
        "Los booleanos pueden no parecer muy útiles al principio, pero son esenciales cuando comienzas a usar declaraciones condicionales. De hecho, dado que una condición es en realidad una pregunta de sí o no, la\n",
        "respuesta a esa pregunta es un valor booleano, ya sea True o False. Los valores booleanos, True y False, se tratan como palabras reservadas."
      ]
    },
    {
      "cell_type": "markdown",
      "metadata": {
        "id": "Ixz0MWGRoNR1"
      },
      "source": [
        "### 2.7.3 Cadenas (Strings)  \n",
        "Una cadena consta de una secuencia de uno o más caracteres, que pueden incluir letras, números y otros tipos de caracteres. Una cadena también puede contener espacios. Puede utilizar comillas simples o dobles para representar cadenas y también se denomina literal de cadena. Las cadenas de varias líneas se pueden denotar con comillas triples, '' 'o \"\" \". Estos son valores fijos, no variables que proporcione literalmente en su script. Por ejemplo:"
      ]
    },
    {
      "cell_type": "code",
      "metadata": {
        "id": "BARZfdj3oUK0",
        "colab": {
          "base_uri": "https://localhost:8080/",
          "height": 54
        },
        "outputId": "24ebfba9-547d-4925-e6a1-db0c74f68f96"
      },
      "source": [
        "s = 'Esta es una cadena de comillas simples'\n",
        "print(s)\n",
        "z = 'Esta es una cadena de comillas simples'\n",
        "z"
      ],
      "execution_count": null,
      "outputs": [
        {
          "output_type": "stream",
          "name": "stdout",
          "text": [
            "Esta es una cadena de comillas simples\n"
          ]
        },
        {
          "output_type": "execute_result",
          "data": {
            "text/plain": [
              "'Esta es una cadena de comillas simples'"
            ],
            "application/vnd.google.colaboratory.intrinsic+json": {
              "type": "string"
            }
          },
          "metadata": {},
          "execution_count": 88
        }
      ]
    },
    {
      "cell_type": "code",
      "metadata": {
        "id": "ye76xlP7ogvy",
        "colab": {
          "base_uri": "https://localhost:8080/",
          "height": 36
        },
        "outputId": "15e29550-b9af-4631-c623-e782afd432ed"
      },
      "source": [
        "s = \"Esta es una cadena de comillas dobles\"\n",
        "s"
      ],
      "execution_count": null,
      "outputs": [
        {
          "output_type": "execute_result",
          "data": {
            "text/plain": [
              "'Esta es una cadena de comillas dobles'"
            ],
            "application/vnd.google.colaboratory.intrinsic+json": {
              "type": "string"
            }
          },
          "metadata": {},
          "execution_count": 89
        }
      ]
    },
    {
      "cell_type": "code",
      "metadata": {
        "colab": {
          "base_uri": "https://localhost:8080/"
        },
        "id": "2hFnr9rOoiQw",
        "outputId": "0781f505-382a-4e12-eddc-f13aa427492c"
      },
      "source": [
        "s = '''Esto es una\n",
        "            Cadena\n",
        "                Multilínea'''\n",
        "print(s)"
      ],
      "execution_count": null,
      "outputs": [
        {
          "output_type": "stream",
          "name": "stdout",
          "text": [
            "Esto es una\n",
            "            Cadena\n",
            "                Multilínea\n"
          ]
        }
      ]
    },
    {
      "cell_type": "code",
      "metadata": {
        "colab": {
          "base_uri": "https://localhost:8080/"
        },
        "id": "y1cmPJVKo_OE",
        "outputId": "d0e67170-69c6-4706-f986-2d771565fa2e"
      },
      "source": [
        "s = \"a\"\n",
        "print(s)"
      ],
      "execution_count": null,
      "outputs": [
        {
          "output_type": "stream",
          "name": "stdout",
          "text": [
            "a\n"
          ]
        }
      ]
    },
    {
      "cell_type": "code",
      "source": [
        "s = \"'a'\"\n",
        "print(s)"
      ],
      "metadata": {
        "colab": {
          "base_uri": "https://localhost:8080/"
        },
        "id": "ZZ0wXUSnxnw-",
        "outputId": "757fc659-5713-4e87-b86a-1724ebe32e75"
      },
      "execution_count": null,
      "outputs": [
        {
          "output_type": "stream",
          "name": "stdout",
          "text": [
            "'a'\n"
          ]
        }
      ]
    },
    {
      "cell_type": "code",
      "source": [
        "s = \"'a\"\n",
        "print(s)"
      ],
      "metadata": {
        "colab": {
          "base_uri": "https://localhost:8080/"
        },
        "id": "t7alOuEXx7QA",
        "outputId": "a7e094ca-99a7-4f1d-c356-db3199a4d948"
      },
      "execution_count": null,
      "outputs": [
        {
          "output_type": "stream",
          "name": "stdout",
          "text": [
            "'a\n"
          ]
        }
      ]
    },
    {
      "cell_type": "code",
      "source": [
        "s = '\"a\"'\n",
        "print(s)"
      ],
      "metadata": {
        "colab": {
          "base_uri": "https://localhost:8080/"
        },
        "id": "M8X0-Q_iyFO2",
        "outputId": "69bb9d5c-bf9a-4530-93fd-0c6fd0cc8562"
      },
      "execution_count": null,
      "outputs": [
        {
          "output_type": "stream",
          "name": "stdout",
          "text": [
            "\"a\"\n"
          ]
        }
      ]
    },
    {
      "cell_type": "code",
      "source": [
        "s = '\"a'\n",
        "print(s)"
      ],
      "metadata": {
        "colab": {
          "base_uri": "https://localhost:8080/"
        },
        "id": "DUADcWNayOT7",
        "outputId": "27c5d17f-1d07-47e1-a971-cb87d74242d6"
      },
      "execution_count": null,
      "outputs": [
        {
          "output_type": "stream",
          "name": "stdout",
          "text": [
            "\"a\n"
          ]
        }
      ]
    },
    {
      "cell_type": "markdown",
      "metadata": {
        "id": "c3gmvcvfpHud"
      },
      "source": [
        "* Una cadena se define mediante comillas simples.\n",
        "* Una cadena se define mediante comillas dobles \n",
        "* Se puede definir una cadena de varias líneas \n",
        "* Un solo carácter también se trata como una cadena"
      ]
    },
    {
      "cell_type": "markdown",
      "metadata": {
        "id": "riT56Bo0pazn"
      },
      "source": [
        "**IMPORTANTE**  \n",
        "Utiliza literales para representar valores en Python. Estos son valores fijos, no variables que proporcione literalmente en su programa. Un literal de cadena es cero o más caracteres encerrados entre comillas dobles (\") o simples ('), un literal entero es 12 y un literal flotante es 3.14."
      ]
    },
    {
      "cell_type": "markdown",
      "metadata": {
        "id": "bvIbNwM2pi5y"
      },
      "source": [
        "### 2.7.4 None\n",
        "None es otro tipo de datos especial en Python. None se utiliza con frecuencia para representar la ausencia de un valor. Por ejemplo:"
      ]
    },
    {
      "cell_type": "code",
      "metadata": {
        "colab": {
          "base_uri": "https://localhost:8080/",
          "height": 225
        },
        "id": "pV1AmDTdp1cS",
        "outputId": "f1e613f3-9f1f-479a-d6e0-2c8960eb1efc"
      },
      "source": [
        "# El valor de None se asigna a la variable dinero\n",
        "dinero = None\n",
        "print(dinero)"
      ],
      "execution_count": null,
      "outputs": [
        {
          "output_type": "error",
          "ename": "TypeError",
          "evalue": "ignored",
          "traceback": [
            "\u001b[0;31m---------------------------------------------------------------------------\u001b[0m",
            "\u001b[0;31mTypeError\u001b[0m                                 Traceback (most recent call last)",
            "\u001b[0;32m<ipython-input-95-1f034fe5d199>\u001b[0m in \u001b[0;36m<module>\u001b[0;34m\u001b[0m\n\u001b[1;32m      1\u001b[0m \u001b[0;31m# El valor de None se asigna a la variable dinero\u001b[0m\u001b[0;34m\u001b[0m\u001b[0;34m\u001b[0m\u001b[0;34m\u001b[0m\u001b[0m\n\u001b[1;32m      2\u001b[0m \u001b[0mdinero\u001b[0m \u001b[0;34m=\u001b[0m \u001b[0;32mNone\u001b[0m\u001b[0;34m\u001b[0m\u001b[0;34m\u001b[0m\u001b[0m\n\u001b[0;32m----> 3\u001b[0;31m \u001b[0mdinero\u001b[0m \u001b[0;34m+=\u001b[0m \u001b[0;36m100\u001b[0m\u001b[0;34m\u001b[0m\u001b[0;34m\u001b[0m\u001b[0m\n\u001b[0m\u001b[1;32m      4\u001b[0m \u001b[0mprint\u001b[0m\u001b[0;34m(\u001b[0m\u001b[0mdinero\u001b[0m\u001b[0;34m)\u001b[0m\u001b[0;34m\u001b[0m\u001b[0;34m\u001b[0m\u001b[0m\n",
            "\u001b[0;31mTypeError\u001b[0m: unsupported operand type(s) for +=: 'NoneType' and 'int'"
          ]
        }
      ]
    },
    {
      "cell_type": "code",
      "source": [],
      "metadata": {
        "id": "H0Hi-fCoyvyZ"
      },
      "execution_count": null,
      "outputs": []
    },
    {
      "cell_type": "markdown",
      "metadata": {
        "id": "Qo2ajPj9qUxC"
      },
      "source": [
        "## 2.8 Identación  \n",
        "En Python, los programas se estructuran mediante sangría ( FIGURA 2.3 ). Por lo general, esperamos identación de cualquier código de programa, pero en Python es un requisito y no una cuestión de estilo. Este principio hace que el código se vea más limpio y más fácil de entender y leer. Cualquier declaración escrita bajo otra declaración con la misma sangría se interpreta como pertenecen al mismo bloque de código. Si hay una declaración siguiente con menos sangría a la izquierda,\n",
        "entonces solo significa el final del bloque de código anterior.\n",
        "\n",
        "![image.png](data:image/png;base64,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)\n",
        "\n",
        "FIGURA 2.3\n",
        "Bloques de código y sangría en Python.  \n",
        "\n",
        "En otras palabras, si un bloque de código tiene que estar profundamente anidado, entonces las declaraciones anidadas deben tener una sangría más a la derecha. En el diagrama anterior, Bloque 2 y Bloque 3 están anidados debajo Bloque 1. Por lo general, se utilizan cuatro espacios en blanco para la sangría y se prefieren a las pestañas. Una sangría incorrecta resultará en IndentationError.\n",
        "\n",
        "\n",
        "\n"
      ]
    },
    {
      "cell_type": "markdown",
      "metadata": {
        "id": "CyQBS3zOrMhE"
      },
      "source": [
        "## 2.9 Comentarios\n",
        "Los comentarios son una parte importante de cualquier programa. Un comentario es un texto que describe lo que el programa o una parte particular del programa está tratando de hacer y el intérprete de Python lo ignora. Los comentarios se utilizan para ayudarle a usted y a otros programadores a comprender, mantener y depurar el programa. Python utiliza dos tipos de comentarios: comentarios de una sola línea y comentarios de varias líneas."
      ]
    },
    {
      "cell_type": "markdown",
      "metadata": {
        "id": "rAYKb-LEESQB"
      },
      "source": [
        "### 2.9.2 Comentarios de varias líneas\n",
        "Si el comentario se extiende a varias líneas, entonces una forma de comentar esas líneas es usar el símbolo de almohadilla (#) al comienzo de cada línea. Por ejemplo:"
      ]
    },
    {
      "cell_type": "code",
      "metadata": {
        "id": "TaqVQfb_EX7A"
      },
      "source": [
        "# Este es\n",
        "# comentarios multilínea\n",
        "# en Python"
      ],
      "execution_count": null,
      "outputs": []
    },
    {
      "cell_type": "markdown",
      "metadata": {
        "id": "S6iKqn1_qrH-"
      },
      "source": [
        "Otra forma de hacer esto es usar comillas triples, ya sea '''o \"\"\". Estas comillas triples se usan generalmente para cadenas de varias líneas. Sin embargo, también se pueden usar como un comentario de varias líneas. Por ejemplo:"
      ]
    },
    {
      "cell_type": "code",
      "metadata": {
        "id": "ijuy7GsBEh2K"
      },
      "source": [
        "'''Este es\n",
        "comentario multilínea\n",
        "en Python usando comillas triples '''"
      ],
      "execution_count": null,
      "outputs": []
    },
    {
      "cell_type": "markdown",
      "metadata": {
        "id": "plv8yxy1Et-x"
      },
      "source": [
        "## 2.10 Entrada de lectura\n",
        "En Python, aporte() La función se utiliza para recopilar datos del usuario. La sintaxis para la función de entrada\n",
        "es:\n",
        "\n",
        "**nombre_variable = input ([prompt])**  \n",
        "\n",
        "inmediato es una cadena escrita entre paréntesis que está impresa en la pantalla. El inmediato instrucción da una indicación al usuario del valor que necesita ser ingresado a través del teclado. Cuando el\n",
        "usuario presiona la tecla Enter, el programa se reanuda y la entrada devuelve lo que el usuario escribió como una cadena. Incluso cuando el usuario ingresa un número, se trata como una cadena que debe ser convertida a un número explícitamente usando la función de conversión de tipos apropiada."
      ]
    },
    {
      "cell_type": "code",
      "metadata": {
        "colab": {
          "base_uri": "https://localhost:8080/",
          "height": 53
        },
        "id": "2mYTpOHWE3jV",
        "outputId": "f64f1f06-fdf5-4ebc-846d-f37dbc7ec681"
      },
      "source": [
        "persona = input(\"¿Cómo te llamas?\")\n",
        "persona"
      ],
      "execution_count": null,
      "outputs": [
        {
          "name": "stdout",
          "output_type": "stream",
          "text": [
            "¿Cómo te llamas?123\n"
          ]
        },
        {
          "output_type": "execute_result",
          "data": {
            "text/plain": [
              "'123'"
            ],
            "application/vnd.google.colaboratory.intrinsic+json": {
              "type": "string"
            }
          },
          "metadata": {},
          "execution_count": 5
        }
      ]
    },
    {
      "cell_type": "code",
      "source": [
        "precio = input(\"¿Cúal es el precio del producto?\")\n",
        "precio"
      ],
      "metadata": {
        "colab": {
          "base_uri": "https://localhost:8080/",
          "height": 53
        },
        "id": "ShrGPqMaz_1r",
        "outputId": "22ded73e-4f35-4a34-bbaa-34e2b991b11e"
      },
      "execution_count": null,
      "outputs": [
        {
          "name": "stdout",
          "output_type": "stream",
          "text": [
            "¿Cúal es el precio del producto?120\n"
          ]
        },
        {
          "output_type": "execute_result",
          "data": {
            "text/plain": [
              "'120'"
            ],
            "application/vnd.google.colaboratory.intrinsic+json": {
              "type": "string"
            }
          },
          "metadata": {},
          "execution_count": 6
        }
      ]
    },
    {
      "cell_type": "markdown",
      "metadata": {
        "id": "Zr6srsy7FJbC"
      },
      "source": [
        "La función **input()** imprime la declaración de solicitud en la pantalla (en este caso, \"¿Cuál es su nombre?\") que indica al usuario que se espera la entrada del teclado en ese punto y luego espera a que\n",
        "se escriba una línea. El usuario escribe su respuesta en input() La función lee la línea del usuario y convierte la línea en una cadena. Como se puede ver en la línea escrita por el usuario se asigna a la variable persona."
      ]
    },
    {
      "cell_type": "markdown",
      "metadata": {
        "id": "G-k78w1TFu_a"
      },
      "source": [
        "**IMPORTANTE**  \n",
        "Una función es un fragmento de código que se llama por su nombre. Se pueden pasar datos sobre los que operar (es decir, los argumentos) y, opcionalmente, puede devolver datos (el valor de retorno). Aprenderá más sobre las funciones en Capítulo 4."
      ]
    },
    {
      "cell_type": "markdown",
      "metadata": {
        "id": "DgGljPEgF1FF"
      },
      "source": [
        "## 2.11 Salida de impresión\n",
        "La función print() permite que un programa muestre texto en la consola. La función de impresión imprimirá todo como cadenas y todo lo que no sea ya una cadena se convierte automáticamente a su representación de cadena. Por ejemplo:"
      ]
    },
    {
      "cell_type": "code",
      "metadata": {
        "id": "LGsovGaNGK3I"
      },
      "source": [
        "print(\"¡¡Hola mundo !!\")"
      ],
      "execution_count": null,
      "outputs": []
    },
    {
      "cell_type": "markdown",
      "metadata": {
        "id": "Jpu8tI-sGT3p"
      },
      "source": [
        "Aunque hay diferentes formas de imprimir valores en Python, discutimos dos formatos de cadena principales que se utilizan dentro de la función print() para mostrar el contenido en la consola, ya que son menos\n",
        "propensos a errores y dan como resultado un código más limpio. Ellos son:\n",
        "\n",
        "1. str.format()\n",
        "2. f-strings"
      ]
    },
    {
      "cell_type": "markdown",
      "metadata": {
        "id": "3Xfm-3XGGpR0"
      },
      "source": [
        "### 2.11.1 El Método str.format() \n",
        "Utilice str.format() método si necesita insertar el valor de una variable, expresión o un objeto en otra cadena y mostrarlo al usuario como una sola cadena. El método str.format() devuelve una nueva cadena con valores insertados. El método str.format() trabaja para todas las versiones de Python 3.x. El método str.format() usa sus argumentos para sustituir un valor apropiado para cada código de formato en la plantilla. La sintaxis del método str.format() es:\n",
        "\n",
        "**str.format(p0, p1, ..., k0=v0, k1=v1, ...)**\n",
        "\n",
        "Donde p0, p1, ... se llaman como argumentos posicionales y, k0, k1, ... son argumentos de palabras clave con sus valores asignados de v0, v1, ... respectivamente.  \n",
        "Los argumentos posicionales son una lista de argumentos a los que se puede acceder con un índice de argumento entre llaves como {índice}. El valor del índice comienza desde cero.  \n",
        "Los argumentos de palabras clave son una lista de argumentos de tipo palabra clave = valor, al que se puede acceder con el nombre del argumento entre llaves como {palabra clave}.  \n",
        "Aquí, str es una mezcla de texto y llaves de tipos indexados o de palabras clave. Las llaves indexadas o de palabras clave se reemplazan por sus valores de argumento correspondientes y se muestran al\n",
        "usuario como una sola cadena."
      ]
    },
    {
      "cell_type": "markdown",
      "metadata": {
        "id": "p2IYFPk4H5i8"
      },
      "source": [
        "**IMPORTANTE**  \n",
        "El término \"Método\" se utiliza casi exclusivamente en la programación\n",
        "orientada a objetos. 'Método' es la palabra orientada a objetos para 'función'. Un método es un fragmento de código que se llama por un nombre que está asociado con un objeto. Aprenderá más sobre clases y objetos en Capítulo 11.\n"
      ]
    },
    {
      "cell_type": "markdown",
      "metadata": {
        "id": "nOuCBXWuIKb3"
      },
      "source": [
        "Programa 2.1: Programa para demostrar las funciones input() y print()"
      ]
    },
    {
      "cell_type": "code",
      "metadata": {
        "id": "zRsEAY1mISE5",
        "colab": {
          "base_uri": "https://localhost:8080/"
        },
        "outputId": "850dd53e-bb6f-4d98-981c-13d43f3a2fe8"
      },
      "source": [
        "pais = input(\"¿En qué país vive?\")\n",
        "print (\"Vivo en {0}\".format(pais))"
      ],
      "execution_count": null,
      "outputs": [
        {
          "output_type": "stream",
          "name": "stdout",
          "text": [
            "¿En qué país vive?Ecuador\n",
            "Vivo en Ecuador\n"
          ]
        }
      ]
    },
    {
      "cell_type": "code",
      "source": [
        "pais = input(\"¿En qué país vive?\")\n",
        "capital = input(\"¿Cuál es la capital?\")\n",
        "print (\"Vivo en {0} cuya capital es {1}\".format(pais, capital))\n",
        "print (\"Vivo en {1} cuya capital es {0}\".format(pais, capital))"
      ],
      "metadata": {
        "colab": {
          "base_uri": "https://localhost:8080/"
        },
        "id": "lQcIzJI2NZTX",
        "outputId": "e550cc9c-40c8-4ac8-ca61-40ce6527f524"
      },
      "execution_count": null,
      "outputs": [
        {
          "output_type": "stream",
          "name": "stdout",
          "text": [
            "¿En qué país vive?Ecuador\n",
            "¿Cuál es la capital?Quito\n",
            "Vivo en Ecuador cuya capital es Quito\n",
            "Vivo en Quito cuya capital es Ecuador\n"
          ]
        }
      ]
    },
    {
      "cell_type": "markdown",
      "metadata": {
        "id": "nlXoqzh1ItUV"
      },
      "source": [
        "El 0 dentro de las llaves {0} es el índice del primero (0 th) argumento (aquí en nuestro caso, es la variable pais) cuyo valor se insertará en esa posición."
      ]
    },
    {
      "cell_type": "markdown",
      "metadata": {
        "id": "u9-kjabZI8MX"
      },
      "source": [
        "Programa 2.2: Programa para demostrar el cambio posicional de índices de argumentos"
      ]
    },
    {
      "cell_type": "code",
      "metadata": {
        "id": "714hFjc4I98o",
        "colab": {
          "base_uri": "https://localhost:8080/"
        },
        "outputId": "74d9426f-fd81-47b8-fdd1-4c0cb24498e4"
      },
      "source": [
        "a = 10\n",
        "b = 20\n",
        "print(\"Los valores de a es {0} y b es {1}\".format(a, b))\n",
        "print(\"Los valores de b es {1} y a es {0}\".format(a, b))"
      ],
      "execution_count": null,
      "outputs": [
        {
          "output_type": "stream",
          "name": "stdout",
          "text": [
            "Los valores de a es 10 y b es 20\n",
            "Los valores de b es 20 y a es 10\n"
          ]
        }
      ]
    },
    {
      "cell_type": "code",
      "source": [
        "dia1 = \"Lunes\"\n",
        "dia2 = \"Miércoles\"\n",
        "dia3 = \"Viernes\"\n",
        "\n",
        "print(\"Tres días intercalados de la semana son {0}, {1} y {2}\".format(dia1, dia2, dia3))\n",
        "print(\"Tres días intercalados de la semana son {2}, {1} y {0}\".format(dia1, dia2, dia3))\n",
        "print(\"Tres días intercalados de la semana son {0}, {1} y {2}\".format(dia3, dia2, dia1))"
      ],
      "metadata": {
        "colab": {
          "base_uri": "https://localhost:8080/"
        },
        "id": "34q2xaitDsjF",
        "outputId": "dcbdfd7e-3313-4e35-92a1-17c8af7821c1"
      },
      "execution_count": null,
      "outputs": [
        {
          "output_type": "stream",
          "name": "stdout",
          "text": [
            "Tres días intercalados de la semana son Lunes, Miércoles y Viernes\n",
            "Tres días intercalados de la semana son Viernes, Miércoles y Lunes\n",
            "Tres días intercalados de la semana son Viernes, Miércoles y Lunes\n"
          ]
        }
      ]
    },
    {
      "cell_type": "markdown",
      "metadata": {
        "id": "tBI2zgucG3hB"
      },
      "source": [
        "### 2.11.2 f-strings\n",
        "Las cadenas formateadas o f-strings se introdujeron en Python 3.6. f-string es una cadena literal con el prefijo \"f\". Estas cadenas pueden contener campos de reemplazo, que son expresiones encerradas entre llaves {}. Las expresiones se reemplazan por sus valores. En el mundo real, significa que debe especificar el nombre de la variable dentro de las llaves para mostrar su valor. Un f al principio de la cadena le dice a Python que permita cualquier nombre de variable actualmente válido dentro de la cadena."
      ]
    },
    {
      "cell_type": "markdown",
      "metadata": {
        "id": "vDhGpYvmJ97_"
      },
      "source": [
        "**IMPORTANTE**  \n",
        "Usamos f-strings a lo largo de la función print() para imprimir el contenido a lo largo de este libro, ya que las cadenas f son la forma más práctica y sencilla de formatear cadenas a menos que surja algún caso especial."
      ]
    },
    {
      "cell_type": "markdown",
      "metadata": {
        "id": "kl62ojCBKDsw"
      },
      "source": [
        "Programa 2.3: Código para demostrar el uso de f-strings con la función print()"
      ]
    },
    {
      "cell_type": "code",
      "source": [
        "pais = \"Bolivia\"\n",
        "capital = \"Sucre\"\n",
        "print(f\"Yo vivo en {pais} y su capital es {capital}\")"
      ],
      "metadata": {
        "colab": {
          "base_uri": "https://localhost:8080/"
        },
        "id": "DOAf2NEz0jE-",
        "outputId": "21995e53-7efb-4ef2-98d6-0431d05251ab"
      },
      "execution_count": null,
      "outputs": [
        {
          "output_type": "stream",
          "name": "stdout",
          "text": [
            "Yo vivo en Bolivia y su capital es Sucre\n"
          ]
        }
      ]
    },
    {
      "cell_type": "code",
      "metadata": {
        "id": "Z0bSJxkOKFa5"
      },
      "source": [
        "país = input(\"¿En qué país vive?\")\n",
        "print(f\"Vivo en {país}\")"
      ],
      "execution_count": null,
      "outputs": []
    },
    {
      "cell_type": "markdown",
      "metadata": {
        "id": "fJEo8TikKR0o"
      },
      "source": [
        "Programa 2.4: Dado el radio, escriba el programa Python para encontrar el área y circunferencia de un círculo."
      ]
    },
    {
      "cell_type": "code",
      "metadata": {
        "id": "vj_L-9vJJxww",
        "colab": {
          "base_uri": "https://localhost:8080/"
        },
        "outputId": "80cf31f7-7801-49bc-f64a-c27300ca9b90"
      },
      "source": [
        "radio = int(input (\"Ingresa el radio de un círculo\"))\n",
        "area_of_a_circle = 3.1415 * radio * radio\n",
        "circunferencia_de_un_circulo = 2 * 3.1415 * radio\n",
        "print (f\"Area = {area_of_a_circle} y Circunferencia = {circunferencia_de_un_circulo}\")\n"
      ],
      "execution_count": null,
      "outputs": [
        {
          "output_type": "stream",
          "name": "stdout",
          "text": [
            "Ingresa el radio de un círculo2\n",
            "Area = 12.566 y Circunferencia = 12.566\n"
          ]
        }
      ]
    },
    {
      "cell_type": "markdown",
      "metadata": {
        "id": "wPHmli_-K0VH"
      },
      "source": [
        "Programa 2.5: Escriba un programa en Python para convertir el número dado de días en una medida de tiempo dada en años, semanas y días. Por ejemplo, 375 días es igual a 1 año, 1 semana y 3 días (ignore el año bisiesto)."
      ]
    },
    {
      "cell_type": "code",
      "metadata": {
        "id": "w72ctr4HK6L0"
      },
      "source": [
        "numero_de_dias = int(input (\"Ingrese el número de días\"))\n",
        "numero_de_años = int(numero_de_días / 365)\n",
        "numero_de_semanas = int(numero_de_días% 365/7)\n",
        "numero_restante_de_dias = int(numero_de_dias%365%7)\n",
        "print (f\"Años = {numero_de_años}, Semanas = {numero_de_semanas}, Días = {numero_restante_de_dias}\")"
      ],
      "execution_count": null,
      "outputs": []
    },
    {
      "cell_type": "markdown",
      "metadata": {
        "id": "FbCABrNygx_L"
      },
      "source": [
        "El número total de días lo especifica el usuario. Número de años se calcula dividiendo el número total de días por 365. Para calcular el número de semanas, deduzca el número de días usando %365 y divida por 7. Ahora, deduzca el número de días usando %365 y el número de semanas por %7 para calcular el número de días restantes ➃ . Finalmente, muestra los resultados."
      ]
    },
    {
      "cell_type": "markdown",
      "metadata": {
        "id": "xVM-pIHNg8xM"
      },
      "source": [
        "## 2.12 Conversiones de tipo\n",
        "Puede emitir o convertir explícitamente una variable de un tipo a otro."
      ]
    },
    {
      "cell_type": "markdown",
      "metadata": {
        "id": "LN6bNM4fhDHd"
      },
      "source": [
        "### 2.12.1 La función int()\n",
        "Para convertir explícitamente un número flotante o una cadena en un entero, convierta el número usando la función int()."
      ]
    },
    {
      "cell_type": "markdown",
      "metadata": {
        "id": "HkIxHnY3hcEf"
      },
      "source": [
        "Programa 2.6: Programa para demostrar la función de conversión int()"
      ]
    },
    {
      "cell_type": "code",
      "metadata": {
        "id": "5q66oyX8hjAH",
        "colab": {
          "base_uri": "https://localhost:8080/"
        },
        "outputId": "8272622f-b094-4957-d3cd-2abd8d55b65f"
      },
      "source": [
        "float_to_int = int(3.5)\n",
        "string_to_int = int(\"1\") # número tratado como cadena\n",
        "print (f\"Después de la conversión de flotante a entero, el resultado es {float_to_int}\")\n",
        "print (f\"Después de la conversión de cadenas a enteros, el resultado es {string_to_int}\")"
      ],
      "execution_count": null,
      "outputs": [
        {
          "output_type": "stream",
          "name": "stdout",
          "text": [
            "Después de la conversión de flotante a entero, el resultado es 3\n",
            "Después de la conversión de cadenas a enteros, el resultado es 1\n"
          ]
        }
      ]
    },
    {
      "cell_type": "markdown",
      "metadata": {
        "id": "pkO_j9Veh5Yb"
      },
      "source": [
        "### 2.12.2 La función float() \n",
        "La función float() devuelve un número de punto flotante construido a partir de un número o cadena."
      ]
    },
    {
      "cell_type": "markdown",
      "metadata": {
        "id": "iIkK2kFriGaE"
      },
      "source": [
        "Programa 2.7: Programa para demostrar la función de float()"
      ]
    },
    {
      "cell_type": "code",
      "metadata": {
        "id": "HGSMHqbgiNTn",
        "colab": {
          "base_uri": "https://localhost:8080/"
        },
        "outputId": "b7f56c98-8b18-4b34-b424-d80a0576fd48"
      },
      "source": [
        "int_to_float = float(4)\n",
        "string_to_float = float(\"1\") #number tratado como string\n",
        "print (f\"Después de la conversión de entero a flotante, el resultado es {int_to_float}\")\n",
        "print (f\"Después de String to Float Casting el resultado es {string_to_float}\")"
      ],
      "execution_count": null,
      "outputs": [
        {
          "output_type": "stream",
          "name": "stdout",
          "text": [
            "Después de la conversión de entero a flotante, el resultado es 4.0\n",
            "Después de String to Float Casting el resultado es 1.0\n"
          ]
        }
      ]
    },
    {
      "cell_type": "markdown",
      "metadata": {
        "id": "Zky82wDHiZeh"
      },
      "source": [
        "### 2.12.3 La función str() \n",
        "La función str() devuelve una cadena que es bastante legible por humanos."
      ]
    },
    {
      "cell_type": "markdown",
      "metadata": {
        "id": "BKLBp-_vilGN"
      },
      "source": [
        "Programa 2.8: Programa para demostrar la función de conversión str()"
      ]
    },
    {
      "cell_type": "code",
      "metadata": {
        "id": "xy9loVv9iqcF",
        "colab": {
          "base_uri": "https://localhost:8080/"
        },
        "outputId": "6936b1b0-8ef9-47d8-f48c-dce163b45a09"
      },
      "source": [
        "int_to_string = str(8)\n",
        "float_to_string = str(3.5)\n",
        "print (f\"Después de la conversión de enteros a cadenas, el resultado es {int_to_string}\")\n",
        "print (f\"Después de Float to String Casting, el resultado es {float_to_string}\")"
      ],
      "execution_count": null,
      "outputs": [
        {
          "output_type": "stream",
          "name": "stdout",
          "text": [
            "Después de la conversión de enteros a cadenas, el resultado es 8\n",
            "Después de Float to String Casting, el resultado es 3.5\n"
          ]
        }
      ]
    },
    {
      "cell_type": "markdown",
      "metadata": {
        "id": "wT6UybuSiz1e"
      },
      "source": [
        "### 2.12.4 La función chr()\n",
        "Convierta un entero en una cadena de un carácter cuyo código ASCII es el mismo que el entero usando la función chr(). El valor entero debe estar en el rango de 0 a 255."
      ]
    },
    {
      "cell_type": "markdown",
      "metadata": {
        "id": "8lp1oyrdjC6G"
      },
      "source": [
        "Programa 2.9: Programa para demostrar la función de conversión chr()"
      ]
    },
    {
      "cell_type": "code",
      "metadata": {
        "id": "8ZkDy7FujG3-",
        "colab": {
          "base_uri": "https://localhost:8080/"
        },
        "outputId": "aa87c417-0bee-489d-cb1f-048f5b86bec6"
      },
      "source": [
        "ascii_to_char = chr(100)\n",
        "print (f'Carácter equivalente para el valor ASCII de 100 es {ascii_to_char}')\n"
      ],
      "execution_count": null,
      "outputs": [
        {
          "output_type": "stream",
          "name": "stdout",
          "text": [
            "Carácter equivalente para el valor ASCII de 100 es d\n"
          ]
        }
      ]
    },
    {
      "cell_type": "code",
      "metadata": {
        "id": "lvtTSxEzi_V1",
        "colab": {
          "base_uri": "https://localhost:8080/"
        },
        "outputId": "07e28771-3968-45b7-f6d8-ef179cae7f13"
      },
      "source": [
        "abcd = 100, \"Python\"\n",
        "print(type(abcd))\n",
        "\n",
        "a,b,c = 1,2,3"
      ],
      "execution_count": null,
      "outputs": [
        {
          "output_type": "stream",
          "name": "stdout",
          "text": [
            "<class 'tuple'>\n"
          ]
        }
      ]
    },
    {
      "cell_type": "code",
      "source": [
        "a = \"123\"\n",
        "type(a)"
      ],
      "metadata": {
        "colab": {
          "base_uri": "https://localhost:8080/"
        },
        "id": "2rSINjMSR0Kr",
        "outputId": "56409063-3970-4323-f708-c9dc7e7384d6"
      },
      "execution_count": null,
      "outputs": [
        {
          "output_type": "execute_result",
          "data": {
            "text/plain": [
              "str"
            ]
          },
          "metadata": {},
          "execution_count": 20
        }
      ]
    },
    {
      "cell_type": "code",
      "source": [
        "a = 123\n",
        "type(a)"
      ],
      "metadata": {
        "colab": {
          "base_uri": "https://localhost:8080/"
        },
        "id": "Fv19YtHiR6UF",
        "outputId": "c6199774-8eaa-4c4e-8a58-c1556786b303"
      },
      "execution_count": null,
      "outputs": [
        {
          "output_type": "execute_result",
          "data": {
            "text/plain": [
              "int"
            ]
          },
          "metadata": {},
          "execution_count": 21
        }
      ]
    },
    {
      "cell_type": "code",
      "source": [
        "a = 123.25\n",
        "type(a)"
      ],
      "metadata": {
        "colab": {
          "base_uri": "https://localhost:8080/"
        },
        "id": "g99VSIuWR-1o",
        "outputId": "02dee66b-65e1-42bb-9425-455e43838e47"
      },
      "execution_count": null,
      "outputs": [
        {
          "output_type": "execute_result",
          "data": {
            "text/plain": [
              "float"
            ]
          },
          "metadata": {},
          "execution_count": 22
        }
      ]
    }
  ]
}