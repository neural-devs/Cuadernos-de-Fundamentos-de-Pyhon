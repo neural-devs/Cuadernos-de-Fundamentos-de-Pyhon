{
  "nbformat": 4,
  "nbformat_minor": 0,
  "metadata": {
    "colab": {
      "provenance": [],
      "collapsed_sections": []
    },
    "kernelspec": {
      "name": "python3",
      "display_name": "Python 3"
    },
    "language_info": {
      "name": "python"
    }
  },
  "cells": [
    {
      "cell_type": "markdown",
      "metadata": {
        "id": "m1qBZVLjB_1h"
      },
      "source": [
        "# 9 Clases en Python\n",
        "Las clases proveen una forma de empaquetar datos y funcionalidad juntos. Al crear una nueva clase, se crea un nuevo tipo de objeto, permitiendo crear nuevas instancias de ese tipo. Cada instancia de clase puede tener atributos adjuntos para mantener su estado. Las instancias de clase también pueden tener métodos (definidos por su clase) para modificar su estado."
      ]
    },
    {
      "cell_type": "markdown",
      "metadata": {
        "id": "1HeePXIYELFq"
      },
      "source": [
        "Comparado con otros lenguajes de programación, el mecanismo de clases de Python agrega clases con un mínimo de nuevas sintaxis y semánticas. Es una mezcla de los mecanismos de clases encontrados en C++ y Modula-3. Las clases de Python proveen todas las características normales de la Programación Orientada a Objetos: el mecanismo de la herencia de clases permite múltiples clases base, una clase derivada puede sobre escribir cualquier método de su(s) clase(s) base, y un método puede llamar al método de la clase base con el mismo nombre. Los objetos pueden tener una cantidad arbitraria de datos de cualquier tipo. Igual que con los módulos, **las clases participan de la naturaleza dinámica de Python: se crean en tiempo de ejecución, y pueden modificarse luego de la creación.**"
      ]
    },
    {
      "cell_type": "markdown",
      "metadata": {
        "id": "HnyYLQK-Evdb"
      },
      "source": [
        "## 9.1. Unas palabras sobre nombres y objetos  \n",
        "\n",
        "Los objetos tienen individualidad, y múltiples nombres (en muchos ámbitos) pueden vincularse al mismo objeto. Esto se conoce como aliasing en otros lenguajes. Normalmente no se aprecia esto a primera vista en Python, y puede ignorarse sin problemas cuando se maneja tipos básicos inmutables (números, cadenas, tuplas). Sin embargo, el aliasing, o renombrado, tiene un efecto posiblemente sorpresivo sobre la semántica de código Python que involucra objetos mutables como listas, diccionarios, y la mayoría de otros tipos. Esto se usa normalmente para beneficio del programa, ya que los renombres funcionan como punteros en algunos aspectos. Por ejemplo, pasar un objeto es barato ya que la implementación solamente pasa el puntero; y si una función modifica el objeto que fue pasado, el que la llama verá el cambio; esto elimina la necesidad de tener dos formas diferentes de pasar argumentos, como en Pascal."
      ]
    },
    {
      "cell_type": "markdown",
      "metadata": {
        "id": "_3jSeq1HFGFB"
      },
      "source": [
        "## 9.2. Ámbitos y espacios de nombres en Python\n",
        "Antes de ver clases, primero debo decirte algo acerca de las reglas de ámbito de Python. Las definiciones de clases hacen unos lindos trucos con los espacios de nombres, y necesitás saber cómo funcionan los alcances y espacios de nombres para entender por completo cómo es la cosa. De paso, los conocimientos en este tema son útiles para cualquier programador Python avanzado."
      ]
    },
    {
      "cell_type": "markdown",
      "metadata": {
        "id": "SNfLSzu_D0_j"
      },
      "source": []
    },
    {
      "cell_type": "code",
      "metadata": {
        "colab": {
          "base_uri": "https://localhost:8080/"
        },
        "id": "3XiCXVbmweQ5",
        "outputId": "6137444b-05a4-4998-c61d-042ebfdcf88f"
      },
      "source": [
        "def scope_test():\n",
        "  def do_local():\n",
        "      spam = \"local spam\"\n",
        "\n",
        "  def do_nonlocal():\n",
        "      nonlocal spam\n",
        "      spam = \"nonlocal spam\"\n",
        "\n",
        "  def do_global():\n",
        "      global spam\n",
        "      spam = \"global spam\"\n",
        "\n",
        "  spam = \"test spam\"\n",
        "  do_local()\n",
        "  print(\"After local assignment:\", spam)\n",
        "  do_nonlocal()\n",
        "  print(\"After nonlocal assignment:\", spam)\n",
        "  do_global()\n",
        "  print(\"After global assignment:\", spam)\n",
        "\n",
        "scope_test()\n",
        "print(\"In global scope:\", spam)"
      ],
      "execution_count": 3,
      "outputs": [
        {
          "output_type": "stream",
          "name": "stdout",
          "text": [
            "After local assignment: test spam\n",
            "After nonlocal assignment: nonlocal spam\n",
            "After global assignment: nonlocal spam\n",
            "In global scope: global spam\n"
          ]
        }
      ]
    },
    {
      "cell_type": "markdown",
      "source": [
        "En en caso de la ejecución de las tres funciones que están dentro de la función scope_test()\n",
        "\n",
        "do_local(), define spam = \"local spam\", pero la la línea siguiente al imprimir\n",
        "print(\"After local assignment:\", spam), spam toma el valor de la variable global a nivel de la función scope_test(), que sería: spam = \"test spam\"\n",
        "por lo tanto su resultado es: After local assignment: test spam\n",
        "\n",
        "do_nonlocal(), define: nonlocal spam y luego spam = \"nonlocal spam\", esto quiere decir que la variable spam se vuelve global solo para el ámbito de la función scope_test(), por ese motivo el resultado de los dos print consecutivos son: After nonlocal assignment: nonlocal spam\n",
        "After global assignment: nonlocal spam - After nonlocal assignment: nonlocal spam y After global assignment: nonlocal spam\n",
        "\n",
        "Finalmente la instrucción que esta fuera del ámbito de la función scope_test(), toma el valor de la variable definido como global, en este caso el resultado es: In global scope: global spam\n",
        "\n",
        "\n",
        "\n",
        "\n"
      ],
      "metadata": {
        "id": "K1_uTvwm61Tf"
      }
    },
    {
      "cell_type": "markdown",
      "metadata": {
        "id": "vjHzUkqoVu_1"
      },
      "source": [
        "## 9.3 Clases  \n",
        "Las clases introducen sintaxis nueva, nuevos tipos de objetos y algo de semántica nueva"
      ]
    },
    {
      "cell_type": "markdown",
      "metadata": {
        "id": "wmIZJdszV_RV"
      },
      "source": [
        "### 9.3.1 Sintaxis de definición de clases  \n",
        "Para definir una clase básica se utiliza la palabra clave class seguida del nombre de la clase, cuya primera letra es mayúscula con dos puntos (:), para finalizar su declaración. Debajo de la definición de la clase, de modo identado colocamos las expresiones que pertenecen a la clase.\n",
        "**texto en negrita**"
      ]
    },
    {
      "cell_type": "code",
      "metadata": {
        "id": "7BYaj-vb2YJZ"
      },
      "source": [
        "class Persona:\n",
        "  pass\n",
        "\n"
      ],
      "execution_count": 4,
      "outputs": []
    },
    {
      "cell_type": "markdown",
      "metadata": {
        "id": "_9OhFmyhbXP7"
      },
      "source": [
        "### 9.3.2 Objetos clase  \n",
        "Los objetos clase soportan dos tipos de operaciones: hacer referencia a atributos e instanciación.\n",
        "\n",
        "Para hacer referencia a atributos se usa la sintaxis estándar de todas las referencias a atributos en Python: objeto.nombre. Los nombres de atributo válidos son todos los nombres que estaban en el espacio de nombres de la clase cuando ésta se creó. Por lo tanto, si la definición de la clase es así:"
      ]
    },
    {
      "cell_type": "code",
      "metadata": {
        "id": "zuKv4YVLLFkN",
        "colab": {
          "base_uri": "https://localhost:8080/"
        },
        "outputId": "b642f42d-a867-440f-eab7-601754d3b9ea"
      },
      "source": [
        "class Persona:\n",
        "    nacionalidad = \"Peruana\"  # Atributo de Clase\n",
        "\n",
        "    def saludar(self):\n",
        "        self.saludo = 'Hola Mundo!!!' # Atributo de Instancia\n",
        "        print(self.saludo)\n",
        "\n",
        "print(Persona.nacionalidad)\n",
        "\n",
        "# Instanciación\n",
        "persona = Persona()\n",
        "\n",
        "# Muestro el atributo de clase nacionalidad a través del objeto creado\n",
        "print(persona.nacionalidad)\n",
        "\n",
        "# Ejecuto el método saludar a través del objeto \n",
        "persona.saludar()\n",
        "\n",
        "# Muestro el atributo saludo que estña en el método saludar\n",
        "print(persona.saludo)\n"
      ],
      "execution_count": 5,
      "outputs": [
        {
          "output_type": "stream",
          "name": "stdout",
          "text": [
            "Peruana\n",
            "Peruana\n",
            "Hola Mundo!!!\n",
            "Hola Mundo!!!\n"
          ]
        }
      ]
    },
    {
      "cell_type": "code",
      "metadata": {
        "colab": {
          "base_uri": "https://localhost:8080/"
        },
        "id": "py5e7WP-hh6I",
        "outputId": "e92b6e19-c8c1-4c61-b65d-1fe36e720291"
      },
      "source": [
        "class Persona:\n",
        "    \"\"\"Ejemplo de la clase Persona\"\"\"\n",
        "    \n",
        "    # Atributo de clase\n",
        "    nacionalidad = \"Peruana\"\n",
        "\n",
        "    # Método de una clase\n",
        "    def saludar(self):\n",
        "        # atributo de instancia\n",
        "        self.saludo = 'Hola Mundo!!!'\n",
        "        \n",
        "        print(self.saludo)\n",
        "\n",
        "# Imprimir un atributo de clase (no requiere instanciar)\n",
        "print(1, Persona.nacionalidad)\n",
        "\n",
        "# Creación del objeto persona, instancia de la clase Persona\n",
        "persona = Persona()\n",
        "\n",
        "# Atributo de clase llamado desde el objeto instanciado\n",
        "print(2, persona.nacionalidad)\n",
        "\n",
        "# Método de clase llamado desde el objeto instanciado\n",
        "persona.saludar()\n",
        "\n",
        "# Atributo de instancia del método saludar llamado desde el objeto instanciado\n",
        "print(4, persona.saludo)"
      ],
      "execution_count": 6,
      "outputs": [
        {
          "output_type": "stream",
          "name": "stdout",
          "text": [
            "1 Peruana\n",
            "2 Peruana\n",
            "Hola Mundo!!!\n",
            "4 Hola Mundo!!!\n"
          ]
        }
      ]
    },
    {
      "cell_type": "markdown",
      "metadata": {
        "id": "DKs9Mr4fW4H1"
      },
      "source": [
        "**Atributos de Instancia y atributos de Clase**  \n",
        "Los atributos describen el estado de un objeto y pueden ser de cualquier tipo de dato.\n",
        "\n",
        "La diferencia fundamental es que los atributos de clase son compartidos por todas las instancias de esa clase, mientras que los atributos de instancia son particulares para cada objeto creado con esa clase. Por tanto, las variables de instancia son para datos únicos y propios para cada objeto y las variables de clase son para atributos que deban ser compartidos por todas las instancias de esa clase."
      ]
    },
    {
      "cell_type": "markdown",
      "metadata": {
        "id": "hwbwn8EPjtaK"
      },
      "source": [
        "La operación de instanciación («llamar» a un objeto clase) crea un objeto vacío. Muchas clases necesitan crear objetos con instancias en un estado inicial particular. Por lo tanto una clase puede definir un método especial llamado __init__(), de esta forma:\n"
      ]
    },
    {
      "cell_type": "code",
      "metadata": {
        "colab": {
          "base_uri": "https://localhost:8080/"
        },
        "id": "b1ywMtau0NdJ",
        "outputId": "5703c111-b3b2-485a-f05d-e91b58ae0c29"
      },
      "source": [
        "class Persona:\n",
        "\n",
        "  def __init__(self):\n",
        "    self.identificacion = \"08862493\"\n",
        "    print(\"1 Identificación: \",self.identificacion)\n",
        "\n",
        "# Instanciamos la clase y creamos el objeto persona\n",
        "persona = Persona()\n",
        "\n",
        "# Mostramos la identificación\n",
        "print(\"2 Identificación: \",persona.identificacion)\n"
      ],
      "execution_count": 7,
      "outputs": [
        {
          "output_type": "stream",
          "name": "stdout",
          "text": [
            "1 Identificación:  08862493\n",
            "2 Identificación:  08862493\n"
          ]
        }
      ]
    },
    {
      "cell_type": "markdown",
      "metadata": {
        "id": "0vE0E__T2oRT"
      },
      "source": [
        "Ahora agregamos argumento al constructor:"
      ]
    },
    {
      "cell_type": "code",
      "metadata": {
        "colab": {
          "base_uri": "https://localhost:8080/"
        },
        "id": "YV-gwXTmj0Dx",
        "outputId": "15c2a47c-4a91-4695-b5c6-ee38114c17b5"
      },
      "source": [
        "class Persona:\n",
        "  nacionalidad = \"Peruana\"\n",
        "\n",
        "  # Definimos el método constructor con argumentos\n",
        "  def __init__(self,identificacion, apellidos, nombres):\n",
        "    self.identificacion = identificacion\n",
        "    self.apellidos = apellidos\n",
        "    self.nombres = nombres\n",
        "\n",
        "# Mostramos la nacionalidad - Instancia de Clase \n",
        "print(1, Persona.nacionalidad)\n",
        "\n",
        "# Instanciamos la clase con parámetros y creamos el objeto persona\n",
        "persona = Persona(\"08862493\",\"Ramos Zevallos\",\"Ricardo Miguel\")\n",
        "\n",
        "# Mostramos los datos de identificación - Instancia de Objeto\n",
        "print(\"Identificación: \",persona.identificacion)\n",
        "print(\"Apellidos: \",persona.apellidos)\n",
        "print(\"Nombres: \",persona.nombres)"
      ],
      "execution_count": 8,
      "outputs": [
        {
          "output_type": "stream",
          "name": "stdout",
          "text": [
            "1 Peruana\n",
            "Identificación:  08862493\n",
            "Apellidos:  Ramos Zevallos\n",
            "Nombres:  Ricardo Miguel\n"
          ]
        }
      ]
    },
    {
      "cell_type": "markdown",
      "metadata": {
        "id": "eitJusFi35vs"
      },
      "source": [
        "### 9.3.3 Objetos instancia  \n",
        "La única operación que es entendida por los objetos instancia es la referencia de atributos. Hay dos tipos de nombres de atributos válidos, atributos de datos y métodos.  \n",
        "\n",
        "Los atributos de datos se corresponden con las «variables de instancia» en Smalltalk, y con las «variables miembro» en C++. Los atributos de datos no necesitan ser declarados; tal como las variables locales son creados la primera vez que se les asigna algo.\n",
        "\n",
        "El otro tipo de atributo de instancia es el método. Un método es una función que «pertenece a» un objeto. En Python, el término método no está limitado a instancias de clase: otros tipos de objetos pueden tener métodos también. Por ejemplo, los objetos lista tienen métodos llamados append, insert, remove, sort, y así sucesivamente."
      ]
    },
    {
      "cell_type": "markdown",
      "metadata": {
        "id": "Ycty382pms2E"
      },
      "source": [
        "### 9.3.4 Objetos método  \n",
        "Generalmente, un método es llamado luego de ser vinculado: \n"
      ]
    },
    {
      "cell_type": "code",
      "metadata": {
        "colab": {
          "base_uri": "https://localhost:8080/"
        },
        "id": "p_zd_ce050rc",
        "outputId": "37d4b7e4-3d48-44e0-d29a-cd7c7b0183d4"
      },
      "source": [
        "class Persona:\n",
        "\n",
        "  def mostrar_dni(self):\n",
        "    print(\"El DNI es: 08862493\")\n",
        "\n",
        "persona = Persona()  \n",
        "persona.mostrar_dni()\n",
        "print(\"-----------------\")\n",
        "\n",
        "# Podemos guardar el objeto método y llamarlo posteriormente\n",
        "mostrar_dni = persona.mostrar_dni()\n",
        "mostrar_dni\n",
        "\n"
      ],
      "execution_count": 9,
      "outputs": [
        {
          "output_type": "stream",
          "name": "stdout",
          "text": [
            "El DNI es: 08862493\n",
            "-----------------\n",
            "El DNI es: 08862493\n"
          ]
        }
      ]
    },
    {
      "cell_type": "markdown",
      "metadata": {
        "id": "pziLr6tq8VE5"
      },
      "source": [
        "### 9.3.5 Variables de clase y de instancia  \n",
        "En general, las variables de instancia son para datos únicos de cada instancia y las variables de clase son para atributos y métodos compartidos por todas las instancias de la clase:"
      ]
    },
    {
      "cell_type": "code",
      "metadata": {
        "colab": {
          "base_uri": "https://localhost:8080/"
        },
        "id": "_b-v-eD38evQ",
        "outputId": "4568b2c2-f4bc-4c12-a53a-90c877086790"
      },
      "source": [
        "class Perro:\n",
        "  # Variable de clase compartida por todas las instancias\n",
        "  raza = \"Bulldog\"\n",
        "\n",
        "  def __init__(self, nombre_perro):\n",
        "    # Variable de instancia única para cada instancia\n",
        "    self.nombre_perro = nombre_perro\n",
        "\n",
        "# Instanciamos la clase Perro en el objeto perro1\n",
        "perro1 = Perro(\"Fido\")\n",
        "print(perro1.nombre_perro)\n",
        "print(perro1.raza)\n",
        "print(\"------------------\")\n",
        "\n",
        "# Instanciamos la clase Perro en el objeto perro2\n",
        "perro2 = Perro(\"Buddy\")\n",
        "print(perro2.nombre_perro)\n",
        "print(perro2.raza)\n",
        "print(\"------------------\")"
      ],
      "execution_count": 10,
      "outputs": [
        {
          "output_type": "stream",
          "name": "stdout",
          "text": [
            "Fido\n",
            "Bulldog\n",
            "------------------\n",
            "Buddy\n",
            "Bulldog\n",
            "------------------\n"
          ]
        }
      ]
    },
    {
      "cell_type": "code",
      "metadata": {
        "colab": {
          "base_uri": "https://localhost:8080/"
        },
        "id": "AAPrkOWJC0Xb",
        "outputId": "b64025e1-0c09-4091-8fef-482619a09214"
      },
      "source": [
        "# Se observa que \"raza = bulldog\" es comun para los dos objetos\n",
        "# Ahora vamos a reasignar otro valor a esa variable o atributo de instancia\n",
        "Perro.raza = \"Terrier\"\n",
        "\n",
        "print(perro1.raza)\n",
        "print(perro2.raza)"
      ],
      "execution_count": 11,
      "outputs": [
        {
          "output_type": "stream",
          "name": "stdout",
          "text": [
            "Terrier\n",
            "Terrier\n"
          ]
        }
      ]
    },
    {
      "cell_type": "markdown",
      "metadata": {
        "id": "xGEppGi_EG8G"
      },
      "source": [
        "## 9.4 Algunas observaciones  \n",
        "Si el mismo nombre de atributo aparece tanto en la instancia como en la clase, la búsqueda del atributo prioriza la instancia"
      ]
    },
    {
      "cell_type": "code",
      "metadata": {
        "colab": {
          "base_uri": "https://localhost:8080/"
        },
        "id": "MzGvQZ11ERPv",
        "outputId": "d8ef7f55-56d8-4fe5-fd96-13e7292d6e44"
      },
      "source": [
        "class Perro:\n",
        "  # Variable de clase compartida por todas las instancias\n",
        "  raza = \"Bulldog\"\n",
        "  pais = \"Inglés\"\n",
        "\n",
        "perro1 = Perro()\n",
        "print(perro1.raza, perro1.pais)\n",
        "\n",
        "perro2 = Perro()\n",
        "print(perro2.raza, perro2.pais)"
      ],
      "execution_count": 12,
      "outputs": [
        {
          "output_type": "stream",
          "name": "stdout",
          "text": [
            "Bulldog Inglés\n",
            "Bulldog Inglés\n"
          ]
        }
      ]
    },
    {
      "cell_type": "code",
      "metadata": {
        "colab": {
          "base_uri": "https://localhost:8080/"
        },
        "id": "ZRKijgIuFbK4",
        "outputId": "692c46de-fe50-45b0-a3f0-1bc3ac4f42ae"
      },
      "source": [
        "# Ahora asignamos otro valor al pais del objeto perro2\n",
        "perro2.pais = \"Francés\"\n",
        "\n",
        "# Observamos ahora los dos casos\n",
        "print(perro1.raza, perro1.pais)\n",
        "print(perro2.raza, perro2.pais)"
      ],
      "execution_count": 13,
      "outputs": [
        {
          "output_type": "stream",
          "name": "stdout",
          "text": [
            "Bulldog Inglés\n",
            "Bulldog Francés\n"
          ]
        }
      ]
    },
    {
      "cell_type": "code",
      "metadata": {
        "colab": {
          "base_uri": "https://localhost:8080/"
        },
        "id": "YQktIzB-FheX",
        "outputId": "54acf89f-6b9d-4f74-c2a1-bb67141ca9f1"
      },
      "source": [
        "# Ahora asignamos otro valor al pais a través de la clase\n",
        "Perro.pais = \"Irlandés\"\n",
        "\n",
        "# Observamos ahora los dos casos\n",
        "print(perro1.raza, perro1.pais)\n",
        "print(perro2.raza, perro2.pais)"
      ],
      "execution_count": 14,
      "outputs": [
        {
          "output_type": "stream",
          "name": "stdout",
          "text": [
            "Bulldog Irlandés\n",
            "Bulldog Francés\n"
          ]
        }
      ]
    },
    {
      "cell_type": "markdown",
      "metadata": {
        "id": "Ulm8McDJGRi3"
      },
      "source": [
        "Observamos que a pesar que hicimos un cambio de valor en la instancia de clase, no fue afectada la asignación: perro2.pais = \"Francés\", es decir se respeta la reasignación de valor a nivel de instancia.\n",
        "\n",
        "Los clientes deben usar los atributos de datos con cuidado; éstos pueden romper invariantes que mantienen los métodos si pisan los atributos de datos. Observá que los clientes pueden añadir sus propios atributos de datos a una instancia sin afectar la validez de sus métodos, siempre y cuando se eviten conflictos de nombres; de nuevo, una convención de nombres puede ahorrar un montón de dolores de cabeza."
      ]
    },
    {
      "cell_type": "markdown",
      "metadata": {
        "id": "FWkd4beWHEcd"
      },
      "source": [
        "**IMPORTANTE: self**  \n",
        "A menudo, el primer argumento de un método se llama self (uno mismo). Esto no es nada más que una convención: el nombre self no significa nada en especial para Python. Self equivale a ***this*** de otros lenguajes y sirve para indicar que los atributos pertenen a la misma clase. Self puede ser sutituido por otro nombre, incluso ***this***."
      ]
    },
    {
      "cell_type": "markdown",
      "metadata": {
        "id": "PNdoGWOEIJEv"
      },
      "source": [
        "Los métodos pueden llamar a otros métodos de la instancia usando el argumento self:"
      ]
    },
    {
      "cell_type": "code",
      "metadata": {
        "colab": {
          "base_uri": "https://localhost:8080/"
        },
        "id": "5IDp5V4wINZ-",
        "outputId": "9468af52-5ab3-4a6e-fcf7-4ece48c61b89"
      },
      "source": [
        "class Bag:\n",
        "\n",
        "    def __init__(self):\n",
        "        self.data = []\n",
        "\n",
        "    def add(self, x):\n",
        "        self.data.append(x)\n",
        "\n",
        "    def addtwice(self, x):\n",
        "        self.add(x)\n",
        "        self.add(x)\n",
        "\n",
        "bag = Bag()\n",
        "\n",
        "bag.add(\"A\")\n",
        "print(bag.data)\n",
        "\n",
        "bag.add(\"B\")\n",
        "print(bag.data)\n",
        "\n",
        "bag.add(\"C\")\n",
        "print(bag.data)\n",
        "\n",
        "bag.addtwice(\"D\")\n",
        "print(bag.data)"
      ],
      "execution_count": 15,
      "outputs": [
        {
          "output_type": "stream",
          "name": "stdout",
          "text": [
            "['A']\n",
            "['A', 'B']\n",
            "['A', 'B', 'C']\n",
            "['A', 'B', 'C', 'D', 'D']\n"
          ]
        }
      ]
    },
    {
      "cell_type": "markdown",
      "metadata": {
        "id": "NDSq6m9BJLbH"
      },
      "source": [
        "## 9.5 Herencia  \n",
        "La sintaxis para una definición de clase derivada se ve así:"
      ]
    },
    {
      "cell_type": "code",
      "metadata": {
        "colab": {
          "base_uri": "https://localhost:8080/"
        },
        "id": "10Hrs90MJXDq",
        "outputId": "6f02a444-7371-4d7a-ce9e-35de02d8179a"
      },
      "source": [
        "class Persona:\n",
        "  nacionalidad = \"Peruana\"\n",
        "  ciudad = \"Lima\"\n",
        "\n",
        "  def saludar(self):\n",
        "    self.saludo = 'Hola Mundo!!!'\n",
        "    print(self.saludo)\n",
        "\n",
        "  def saludar2(self):\n",
        "    self.saludo = 'Hola Mundo 2!!!'\n",
        "    print(self.saludo)\n",
        "\n",
        "# Creo la clase Persona en base a la clase Persona\n",
        "class Persona2(Persona):\n",
        "  pass\n",
        "\n",
        "# Instancio la clase Persona2 en el objeto persona2\n",
        "persona2 = Persona2()\n",
        "\n",
        "# Muestro el valor del atributo heredado\n",
        "print(\"Soy de Nacionalidad: \",persona2.nacionalidad,\" de la ciudad de: \",persona2.ciudad)\n",
        "\n",
        "# Ejecuto el método heredado\n",
        "persona2.saludar()\n",
        "\n",
        "# Ejecuto el método heredado\n",
        "persona2.saludar2()"
      ],
      "execution_count": 16,
      "outputs": [
        {
          "output_type": "stream",
          "name": "stdout",
          "text": [
            "Soy de Nacionalidad:  Peruana  de la ciudad de:  Lima\n",
            "Hola Mundo!!!\n",
            "Hola Mundo 2!!!\n"
          ]
        }
      ]
    },
    {
      "cell_type": "markdown",
      "metadata": {
        "id": "3BknONEfMHI6"
      },
      "source": [
        "## 9.6 Variables privadas  \n",
        "Las variables «privadas» de instancia, que no pueden accederse excepto desde dentro de un objeto, no existen en Python. Sin embargo, hay una convención que se sigue en la mayoría del código Python: un nombre prefijado con un guión bajo (por ejemplo, _spam) debería tratarse como una parte no pública de la API (más allá de que sea una función, un método, o un dato). Debería considerarse un detalle de implementación y que está sujeto a cambios sin aviso.\n",
        "\n",
        "Dado que hay un caso de uso válido para los identificadores privados de clase (a saber: colisión de nombres con nombres definidos en las subclases), hay un soporte limitado para este mecanismo. Cualquier identificador con la forma __spam (al menos dos guiones bajos al principio, como mucho un guión bajo al final) es textualmente reemplazado por _nombredeclase__spam, donde nombredeclase es el nombre de clase actual al que se le sacan guiones bajos del comienzo (si los tuviera). Se modifica el nombre del identificador sin importar su posición sintáctica, siempre y cuando ocurra dentro de la definición de una clase."
      ]
    },
    {
      "cell_type": "code",
      "metadata": {
        "colab": {
          "base_uri": "https://localhost:8080/"
        },
        "id": "tA649X4ungaW",
        "outputId": "c9c63598-901c-4db1-b3aa-d81cf0820569"
      },
      "source": [
        "class MiClase:\n",
        "  campo_de_clase = \"Campo de clase (estático)\"\n",
        "\n",
        "  def __init__(self, campo_de_instancia1, campo_de_instancia2):\n",
        "    self.__campo_de_instancia1 = campo_de_instancia1\n",
        "    self.__campo_de_instancia2 = campo_de_instancia2\n",
        "\n",
        "  def mostrar(self):\n",
        "    print(\"Campo de Clase:\", self.campo_de_clase)\n",
        "    print(\"Campo de Instancia 1:\", self.__campo_de_instancia1)\n",
        "    print(\"Campo de Instancia 2:\", self.__campo_de_instancia2)\n",
        "\n",
        "print(MiClase.campo_de_clase)\n",
        "print(\"-----------------------------\")\n",
        "\n",
        "ob1 = MiClase(\"Dato campo 1\", \"Dato campo 2\")\n",
        "print(ob1.campo_de_clase)\n",
        "ob1.mostrar()\n",
        "print(\"-----------------------------\")\n",
        "\n",
        "ob2 = MiClase(\"Datos 1 del obj 2\", \"Dato 2 del obj 2\")\n",
        "print(ob2.campo_de_clase)\n",
        "ob2.mostrar()\n",
        "print(\"-----------------------------\")\n",
        "\n",
        "MiClase.campo_de_clase = \"Dato cambiado\"\n",
        "print(MiClase.campo_de_clase)\n",
        "\n",
        "print(ob1.campo_de_clase)\n",
        "print(ob2.campo_de_clase)"
      ],
      "execution_count": 17,
      "outputs": [
        {
          "output_type": "stream",
          "name": "stdout",
          "text": [
            "Campo de clase (estático)\n",
            "-----------------------------\n",
            "Campo de clase (estático)\n",
            "Campo de Clase: Campo de clase (estático)\n",
            "Campo de Instancia 1: Dato campo 1\n",
            "Campo de Instancia 2: Dato campo 2\n",
            "-----------------------------\n",
            "Campo de clase (estático)\n",
            "Campo de Clase: Campo de clase (estático)\n",
            "Campo de Instancia 1: Datos 1 del obj 2\n",
            "Campo de Instancia 2: Dato 2 del obj 2\n",
            "-----------------------------\n",
            "Dato cambiado\n",
            "Dato cambiado\n",
            "Dato cambiado\n"
          ]
        }
      ]
    },
    {
      "cell_type": "markdown",
      "metadata": {
        "id": "VlfZaK4QweyT"
      },
      "source": []
    }
  ]
}