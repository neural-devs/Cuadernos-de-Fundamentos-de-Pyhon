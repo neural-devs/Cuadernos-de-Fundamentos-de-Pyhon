{
  "nbformat": 4,
  "nbformat_minor": 0,
  "metadata": {
    "colab": {
      "provenance": [],
      "collapsed_sections": []
    },
    "kernelspec": {
      "name": "python3",
      "display_name": "Python 3"
    },
    "language_info": {
      "name": "python"
    }
  },
  "cells": [
    {
      "cell_type": "markdown",
      "source": [
        "# 6 Listas\n",
        "\n",
        "**OBJETIVOS:** Comprenda el papel de las listas en Python para almacenar varios elementos de diferentes tipos y realizar manipulaciones utilizando varios métodos."
      ],
      "metadata": {
        "id": "UubgnUXO-G64"
      }
    },
    {
      "cell_type": "markdown",
      "source": [
        "**LOS RESULTADOS DEL APRENDIZAJE:** \n",
        "\n",
        "Al final del capítulo, se espera que usted pueda:\n",
        "\n",
        "- Crear y manipular elementos en listas.\n",
        "- Comprender la indexación y el corte en listas.\n",
        "- Utilizar métodos asociados a listas.\n",
        "- Usar listas como argumentos en funciones.\n",
        "- Usar el ciclo **for** para acceder a elementos individuales en listas.\n",
        "\n"
      ],
      "metadata": {
        "id": "RpSYakiVDFvQ"
      }
    },
    {
      "cell_type": "markdown",
      "source": [
        "La mayoría de las veces una variable puede contener un solo valor. Sin embargo, en muchos casos, debe asignar más que eso. Considere un escenario de bosque donde viven animales pertenecientes a diferentes tipos de familias. Algunos de ellos, como el león, el tigre, el guepardo, son carnívoros y otros, como los monos, los elefantes y los búfalos, son herbívoros. Si desea definir este hábito computacionalmente, debe crear múltiples variables para representar cada animal que pertenece a una familia de animales en particular, lo que puede no tener mucho sentido. En cambio, puede combinar todos los animales que pertenecen a la familia de animales en particular bajo una variable y luego usar este nombre de variable para una mayor manipulación."
      ],
      "metadata": {
        "id": "uc6sRjJaDrtB"
      }
    },
    {
      "cell_type": "markdown",
      "source": [
        "Puede pensar en la lista como un contenedor que contiene varios elementos. Cada elemento o valor que está dentro de una lista se llama elemento. Todos los elementos de una lista se asignan a una sola variable. Las listas evitan tener una variable separada para almacenar cada elemento, lo que es menos eficiente y más propenso a errores cuando tiene que realizar algunas operaciones en estos elementos. Las listas pueden ser listas simples o anidadas con distintos tipos de valores. Las listas son uno de los formatos de almacenamiento de datos más\n",
        "flexibles en Python porque se pueden agregar, eliminar y cambiar valores."
      ],
      "metadata": {
        "id": "XTlaAM95D00X"
      }
    },
    {
      "cell_type": "markdown",
      "source": [
        "## 6.1 Creación de listas\n",
        "\n",
        "Las listas se construyen usando corchetes [ ] donde puede incluir una lista de elementos separados por comas. \n",
        "\n",
        "La sintaxis para crear una lista es:\n",
        "\n",
        "![image.png](data:image/png;base64,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)"
      ],
      "metadata": {
        "id": "4AEx9-XQENB6"
      }
    },
    {
      "cell_type": "code",
      "source": [
        "superstore = [\"metro\", \"tesco\", \"walmart\", \"kmart\", \"carrefour\"]\n",
        "superstore"
      ],
      "metadata": {
        "colab": {
          "base_uri": "https://localhost:8080/"
        },
        "id": "7X0bSwT-EmnA",
        "outputId": "d3fc5e98-41d8-478d-f592-78596fa7e6e3"
      },
      "execution_count": 1,
      "outputs": [
        {
          "output_type": "execute_result",
          "data": {
            "text/plain": [
              "['metro', 'tesco', 'walmart', 'kmart', 'carrefour']"
            ]
          },
          "metadata": {},
          "execution_count": 1
        }
      ]
    },
    {
      "cell_type": "code",
      "source": [
        "type(superstore)"
      ],
      "metadata": {
        "colab": {
          "base_uri": "https://localhost:8080/"
        },
        "id": "zku0YYapE3rv",
        "outputId": "c221a572-eed3-4caf-e2b7-cccc30592280"
      },
      "execution_count": 2,
      "outputs": [
        {
          "output_type": "execute_result",
          "data": {
            "text/plain": [
              "list"
            ]
          },
          "metadata": {},
          "execution_count": 2
        }
      ]
    },
    {
      "cell_type": "markdown",
      "source": [
        "En la variable **superstore**, cada elemento de la lista es una cadena. El contenido de la variable de lista se muestra al ejecutar el\n",
        "nombre de variable de lista. Cuando imprime la lista, la salida se ve exactamente como la lista que había creado."
      ],
      "metadata": {
        "id": "dKfqwnC4FlAm"
      }
    },
    {
      "cell_type": "markdown",
      "source": [
        "Puede crear una lista vacía sin ningún elemento. La sintaxis es:\n",
        "\n",
        "**nombre_lista = []**\n",
        "\n",
        "Otros ejemplos:"
      ],
      "metadata": {
        "id": "UUb3pA0GF5hq"
      }
    },
    {
      "cell_type": "code",
      "source": [
        "number_list = [4, 4, 6, 7, 2, 9, 10, 15]\n",
        "number_list"
      ],
      "metadata": {
        "id": "xS9qiePRFkoW"
      },
      "execution_count": 5,
      "outputs": []
    },
    {
      "cell_type": "code",
      "source": [
        "mixed_list = ['dog', 87.23, 65, [9, 1, 8, 1]]\n",
        "mixed_list"
      ],
      "metadata": {
        "colab": {
          "base_uri": "https://localhost:8080/"
        },
        "id": "e1Msy7seGZch",
        "outputId": "af0908e7-9c8b-4548-c8cc-7216fcc97147"
      },
      "execution_count": 6,
      "outputs": [
        {
          "output_type": "execute_result",
          "data": {
            "text/plain": [
              "['dog', 87.23, 65, [9, 1, 8, 1]]"
            ]
          },
          "metadata": {},
          "execution_count": 6
        }
      ]
    },
    {
      "cell_type": "code",
      "execution_count": 7,
      "metadata": {
        "colab": {
          "base_uri": "https://localhost:8080/"
        },
        "id": "wiBm9o9S98ed",
        "outputId": "c82431d0-4b48-4505-c2a6-ebfa207ddf4a"
      },
      "outputs": [
        {
          "output_type": "execute_result",
          "data": {
            "text/plain": [
              "list"
            ]
          },
          "metadata": {},
          "execution_count": 7
        }
      ],
      "source": [
        "type(mixed_list)"
      ]
    },
    {
      "cell_type": "code",
      "source": [
        "empty_list = []\n",
        "empty_list"
      ],
      "metadata": {
        "colab": {
          "base_uri": "https://localhost:8080/"
        },
        "id": "ONXFD-iBGS81",
        "outputId": "30bdf288-cb48-4985-ac1e-1774e0df1d9a"
      },
      "execution_count": 8,
      "outputs": [
        {
          "output_type": "execute_result",
          "data": {
            "text/plain": [
              "[]"
            ]
          },
          "metadata": {},
          "execution_count": 8
        }
      ]
    },
    {
      "cell_type": "code",
      "source": [
        "type(empty_list)"
      ],
      "metadata": {
        "colab": {
          "base_uri": "https://localhost:8080/"
        },
        "id": "xdS8WnG-GUh-",
        "outputId": "b982237d-be20-4756-fffa-2e2058590a14"
      },
      "execution_count": 9,
      "outputs": [
        {
          "output_type": "execute_result",
          "data": {
            "text/plain": [
              "list"
            ]
          },
          "metadata": {},
          "execution_count": 9
        }
      ]
    },
    {
      "cell_type": "markdown",
      "source": [
        "**IMPORTANTE:** Puede almacenar cualquier elemento en una lista como cadena, número, objeto, otra variable e incluso otra lista. Puede tener una combinación de diferentes tipos de artículos y estos tipos de artículos no necesitan ser homogéneos. Por ejemplo, puede tener una lista que sea una combinación de números de tipo, cadenas y otra lista en sí misma."
      ],
      "metadata": {
        "id": "nj-2HLxWG89C"
      }
    },
    {
      "cell_type": "markdown",
      "source": [
        "## 6.2 Operaciones básicas de lista\n",
        "\n",
        "En Python, las listas también se pueden concatenar usando el signo +, y el operador * se usa para crear una secuencia repetida de elementos de la lista. Por ejemplo:"
      ],
      "metadata": {
        "id": "ulHbIthRHJkJ"
      }
    },
    {
      "cell_type": "code",
      "source": [
        "list_1 = [1, 3, 5, 7]\n",
        "list_2 = [2, 4, 6, 8]"
      ],
      "metadata": {
        "id": "BMj4j3JqHRos"
      },
      "execution_count": 11,
      "outputs": []
    },
    {
      "cell_type": "code",
      "source": [
        "list_1 + list_2"
      ],
      "metadata": {
        "colab": {
          "base_uri": "https://localhost:8080/"
        },
        "id": "UjraC4J9IDOO",
        "outputId": "51f99489-fe58-435d-a906-afdf0b2203f9"
      },
      "execution_count": 12,
      "outputs": [
        {
          "output_type": "execute_result",
          "data": {
            "text/plain": [
              "[1, 3, 5, 7, 2, 4, 6, 8]"
            ]
          },
          "metadata": {},
          "execution_count": 12
        }
      ]
    },
    {
      "cell_type": "code",
      "source": [
        "list_1 * 3"
      ],
      "metadata": {
        "colab": {
          "base_uri": "https://localhost:8080/"
        },
        "id": "zXBF9-pBIHpg",
        "outputId": "7a7bd48f-f160-4a72-9509-4505145a8545"
      },
      "execution_count": 13,
      "outputs": [
        {
          "output_type": "execute_result",
          "data": {
            "text/plain": [
              "[1, 3, 5, 7, 1, 3, 5, 7, 1, 3, 5, 7]"
            ]
          },
          "metadata": {},
          "execution_count": 13
        }
      ]
    },
    {
      "cell_type": "code",
      "source": [
        "list_1 == list_2"
      ],
      "metadata": {
        "colab": {
          "base_uri": "https://localhost:8080/"
        },
        "id": "eZL8HuOrINkC",
        "outputId": "05160a5e-a03a-43fb-ec04-202625f9b528"
      },
      "execution_count": 14,
      "outputs": [
        {
          "output_type": "execute_result",
          "data": {
            "text/plain": [
              "False"
            ]
          },
          "metadata": {},
          "execution_count": 14
        }
      ]
    },
    {
      "cell_type": "markdown",
      "source": [
        "Puede verificar la presencia de un elemento en la lista usando los operadores **in** y **not in**, los cuales devuelven un valor booleano verdadero o falso. Por ejemplo: "
      ],
      "metadata": {
        "id": "urS3uN1VIUc2"
      }
    },
    {
      "cell_type": "code",
      "source": [
        "list_items = [1,3,5,7]"
      ],
      "metadata": {
        "id": "DF6aVQreI7ER"
      },
      "execution_count": 15,
      "outputs": []
    },
    {
      "cell_type": "code",
      "source": [
        "5 in list_items"
      ],
      "metadata": {
        "colab": {
          "base_uri": "https://localhost:8080/"
        },
        "id": "D7CZKrzHJC_V",
        "outputId": "10c09fdf-4a3f-4ff0-dc97-1fa31bddabeb"
      },
      "execution_count": 16,
      "outputs": [
        {
          "output_type": "execute_result",
          "data": {
            "text/plain": [
              "True"
            ]
          },
          "metadata": {},
          "execution_count": 16
        }
      ]
    },
    {
      "cell_type": "code",
      "source": [
        "10 in list_items"
      ],
      "metadata": {
        "colab": {
          "base_uri": "https://localhost:8080/"
        },
        "id": "-8l1Vw0pJFCO",
        "outputId": "d8fd010e-66ce-462e-ce84-036ae86987d8"
      },
      "execution_count": 17,
      "outputs": [
        {
          "output_type": "execute_result",
          "data": {
            "text/plain": [
              "False"
            ]
          },
          "metadata": {},
          "execution_count": 17
        }
      ]
    },
    {
      "cell_type": "markdown",
      "source": [
        "### 6.2.1 La función lista()\n",
        "\n",
        "La función list() incorporada se usa para crear una lista. La sintaxis de la función list() es:\n",
        "\n",
        "**list([secuencia])**\n",
        "\n",
        "Donde la secuencia puede ser una cadena, tupla o lista en sí misma. Si no se especifica la secuencia opcional, se crea una lista vacía. Por ejemplo:"
      ],
      "metadata": {
        "id": "76d_NbU9JMAr"
      }
    },
    {
      "cell_type": "code",
      "source": [
        "quote = \"How you doing?\"\n",
        "string_to_list = list(quote)\n",
        "string_to_list"
      ],
      "metadata": {
        "colab": {
          "base_uri": "https://localhost:8080/"
        },
        "id": "5xmSlBa2Ji_1",
        "outputId": "e93cc007-0a82-4e18-dac1-fe31b1690337"
      },
      "execution_count": 18,
      "outputs": [
        {
          "output_type": "execute_result",
          "data": {
            "text/plain": [
              "['H', 'o', 'w', ' ', 'y', 'o', 'u', ' ', 'd', 'o', 'i', 'n', 'g', '?']"
            ]
          },
          "metadata": {},
          "execution_count": 18
        }
      ]
    },
    {
      "cell_type": "code",
      "source": [
        "# Intento de concatenación de una lista y una cadena\n",
        "friends = [\"j\", \"o\", \"e\", \"y\"]\n",
        "friends + quote"
      ],
      "metadata": {
        "id": "zEZd-X5dJ2hf"
      },
      "execution_count": null,
      "outputs": []
    },
    {
      "cell_type": "code",
      "source": [
        "friends + list(quote)"
      ],
      "metadata": {
        "id": "HnlUaRYQKGnH"
      },
      "execution_count": null,
      "outputs": []
    },
    {
      "cell_type": "markdown",
      "source": [
        "## 6.3 Indexación y división en listas\n",
        "\n",
        "Como una secuencia ordenada de elementos, cada elemento de una lista se puede llamar individualmente, a través de la indexación. La expresión dentro del paréntesis se llama índice. Las listas usan corchetes [] para acceder a elementos individuales, con el primer elemento en el índice 0, el segundo elemento en el índice 1 y así sucesivamente. El índice proporcionado entre corchetes indica el valor al que se accede."
      ],
      "metadata": {
        "id": "4PwR_u3hKQkE"
      }
    },
    {
      "cell_type": "markdown",
      "source": [
        "La sintaxis para acceder a un elemento de una lista es:\n",
        "\n",
        "**nombre_lista[índice]**\n",
        "\n",
        "Donde índice siempre debe ser un valor entero e indica el elemento a seleccionar. Para la lista de supertiendas, el desglose del índice se muestra a continuación:\n",
        "\n",
        "![image.png](data:image/png;base64,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)"
      ],
      "metadata": {
        "id": "4LAHq9V-KqDQ"
      }
    },
    {
      "cell_type": "code",
      "source": [
        "superstore = [\"metro\", \"tesco\", \"walmart\", \"kmart\", \"carrefour\"]\n",
        "superstore[2]"
      ],
      "metadata": {
        "colab": {
          "base_uri": "https://localhost:8080/",
          "height": 35
        },
        "id": "YuutgC3PKexj",
        "outputId": "6cbd8c98-c088-4470-c1f2-f3608f332214"
      },
      "execution_count": 22,
      "outputs": [
        {
          "output_type": "execute_result",
          "data": {
            "text/plain": [
              "'walmart'"
            ],
            "application/vnd.google.colaboratory.intrinsic+json": {
              "type": "string"
            }
          },
          "metadata": {},
          "execution_count": 22
        }
      ]
    },
    {
      "cell_type": "markdown",
      "source": [
        "La lista de superstore tiene cinco artículos. Para imprimir el primer elemento de la lista, use corchetes inmediatamente después del nombre de la lista con un valor de índice de cero. Los números de índice para esta lista de supertiendas\n",
        "van del 0 al 4. Si el valor del índice es mayor que la cantidad de elementos en la lista, se genera el error **\"IndexError: list index out of range\"**.\n",
        "\n",
        "Además de los números de índice positivos, también puede acceder a elementos de la lista con un número de índice negativo, contando hacia atrás desde el final de la lista, comenzando en -1. La indexación negativa es útil si tiene una\n",
        "lista larga y desea ubicar un elemento hacia el final de la lista.\n",
        "\n",
        "Para la misma lista superstore, el desglose del índice negativo se muestra a continuación:\n",
        "\n",
        "![image.png](data:image/png;base64,iVBORw0KGgoAAAANSUhEUgAAApgAAABgCAYAAAC5bwKUAAAAAXNSR0IArs4c6QAAAARnQU1BAACxjwv8YQUAAAAJcEhZcwAADsMAAA7DAcdvqGQAAAASdEVYdFNvZnR3YXJlAEdyZWVuc2hvdF5VCAUAAEG/SURBVHhe7d15uHdVWT7w/um66o8URExNE2ctBVQElSBzypIEzCFHTBQlxsQhMkRFzNBMDRyiHMEBVAREHEpTUxEkgxCxCAMUMedUHBD273yW3KfFbp/pe77v23l/PPd1rWtPa3zWWs+617PW3vvnhkKhUCgUCoVCYY4oglkoFAqFQqFQmCuKYBYKhUKhUCgU5ooimIVCoVAoFAqFuaIIZqFQKBQKhUJhriiCWSgUCoVCoVCYK4pgFgqFQqFQKBTmiiKYhUKhUCgUCoW5oghmoVAoFAqFQmGuKIJZKBQKhUKhUJgrimAWCoVCoVAoFOaKIpiFQqFQKBQKhbmiCGahUCgUCoVCYa4oglkoFAqFQqFQmCuKYBYKhUKhUCgU5ooimIVCoVAoFAqFuaIIZqFQKBQKhUJhriiCWSgUCoVCoVCYK4pgFgqFQqFQKBTmiiKYhUKhUCgUCoW5oghmoVAoFAqFQmGuKIK5An76058OV199dTv/4Q9/2I6FQqFQKBQKhaVRBHMZXHPNNY1g/vjHP27XP/nJT9p1oVAoFAqFQmFpFMFcBggm11suY80sFAqFQqFQKEyjCOYyYK0cWy1dFwqFQqFQKBSWRhHMVeDKK68c3vKWtwyf/vSnr7tTKBQKhUKhUFgKRTCXwbXXXtsslh/5yEeG293udsOBBx5YFsxCoVAoFAqFFbBJCOZnP/vZ4ZBDDhkOOOCA4aUvfenwta99re1lhI997GPt3je+8Y1G1pA4eN/73teIHHzve98bLrv0suFlf3HMcO3VPx2+953vDi958dHD056y7/C+004frlm4d+1PF+JbCOrckfurV7xieNrTntbS/od/+IcW1w9+8IOWtuOJJ57Y7n384x8fDj744HadfF166aXDUUcdNey3337Dq1/96uHyyy9v988666zhj//4j4c73vGOw2/91m8Nr33ta4d3v/vd7RlcddVVwxVXXDEcc8wxzd9hhx02nH322S29wEtCn/vc54ajjz56+OY3vzmcdtppw1Oe8pTh9NNPv87HMPzoRz8aXv/617fwz372s4fzzz9/UTb9Er3z3C8UCoVCoVDYiJgrwfzud7/byNQuu+wy/Nqv/dqw6667tuOLX/zi9hyZe/7znz/c+c53Hi644IJ2z0sz7j/rWc9qFsLvf//7jXi+4+1vH+6xw47Dp//pk8N97r3zcJtb3Xq48x3uONx825sNT3jc44YfXvXD4Uc/uKoRzX/5588Nj/r9Rw53vtOdht/5nd8Ztttuu+EWt7jFcNJJJ7U0gu23376RQ8/vcIc7DPvuu2+7f+GFFw6//uu/PtztbncbHvSgBw077LDDsNdee7W8HX744cOv/uqvDltvvfVw+9vfvoV98pOfPFx22WUt7D//8z+3tG51q1s1Evorv/Irw41vfOPhmc985vDVr361+RHPS17ykpYmUnn3u9+9yWDPPfdsZJos7rSQd1ZSefRcXIgu4gk9ycxb7YVCoVAoFAobEXO3YL7yla9sJA9Y2ljsPvGJTzQSiRi96EUvGm5zm9s0K2fIEzz96U8fnvSkJ113NQwf+uAHh223uelwu9tsN+y5x+8Nl192+fCFz39+2HH7HYa73OnOwyc+9vFF6+WTn7TPcItfvvlw1nV7JC+66KLh0EMPHZ7whCc0worEwT3vec9h5513bumwlp577rnt/h577NGenXfeeY3IydtrXvOa9uzrX//6cMYZZzTyuffeew+fX8hDiCNIBxn80Ic+1IjxV77yleGJT3zicPOb37xZIpM2C+etb33rlg7yiZj+/d//fXt27LHHDne5y12G97///e36kksuGXbfffdGNMkOilQWCoVCoVDYUjB3gvlHf/RHw3Oe85zFped+qdg5Sx5L3b/8y79cd/dn1jlL1paYg1Pe857hnjveY3jMIx81/ABJu+ba4Vvf+ObwgfefOdzqlrcc3vSGNzZyefanzxpuu0BCH/uYPxh++pOrF0krosdKGGJmKXunnXYa7nvf+w7//d//3e4hhPK52267NQslxFL4ne98px2Fs6y/1VZbtbJlX6ayIK+stZb3E056X/ziF5u1kyXUVgBpHHnkkc2ae8uFvMtbIByrqZeIQPz8v/nNb25+jzjiiMVPI9UnkgqFQqFQKGwJmCvBRJZY4X7jN36jWSpZ9ext7EmmfY6Wke1J7Jd/EcxnPOMZjdAhWKefdtpw6wV/n/7kp4af/GiBJC4QzB/+4KpGIlkxjz7qxe362YcdNvzaXe46/NEz9h/eskDK7JF805ve1Agbgvlf//VfLU7E7973vvfwb//2b4v5cQ9pY0FEBlkWvSme5W/PkUn7OS2Nex4iKc7/+I//aKQxeyLFJYxre0Etm79ngSgLY/+lOF73utct+gthtDwvD/LteMIJJzSLJyL+wAc+cJGsJ215KhQKhUKhUNio2CQv+Xz0ox8d7nOf+wy/+Iu/2Cx8SBYgZX/6p3/arHsIZu4BgvnUpz51kTy98+3vGG6/3W2Hd5/8rmapvOa6l3rsudz1vvcb/nyBsH3nW99uy+N3vfNdhn2f/IfDc5/znLbf87nPfW570Ye1tF+GR+RCHpG2EDb41re+1Zb273rXu7ZlbEv9wM9nPvOZtq/Snk3k0T359LLQ/e9///YhdmTRvZBNy+P2bh5//PEtLZZIBBcBDmEE+bP/kvVWvu35ZAEmJ0cv/iCjkLhzLBQKhUKhUNiImCvBRJZ6QnfOOecsvkyTvYgIFAvmv/7rvy4SJYTLG+f777//Ipn6wJlnNgvmOWd9Zrjq+z/4n7fFr7l22PleOw1HH3XUAvu7Zjj8uX8ybHuTbYZT3v3u4dqFeFgnE2/yIn73smSdNGJBRHKRQ/5ZPn/5l3+5Ec0s43vrGwlEAC2LB14O4i9APKXF2ecpjP2b4kZYb3rTmw5/+7d/2665gKWSpTUIAQ35Tnnku5dvoVAoFAqFwkbEJrFghhghSm9/+9uH3/3d310kVccdd1zb72hfI4TkeTGGBTPk6v3vO2PYZquthxPe/Jbhpwvh8lmij33ko8Odbn+H4Q1/+3ft+q0Lz29+s5sNL3rBC4erF/z1Vsnkw1G8LIiW7IOkFfILCOpf/uVfDttuu+3iZ4y8EGQ/ZPZghuT5/BKr6MUXX9yuwXNhdtxxx0auLaO7l72n9lYm3SzV+/zRe9/73nbebyeA+O0RmW1EROaB+ihSvGmgbWhbfXvo239hbcgEEcg055ngFTY21FeMB843sp7cEpD2z6iS88KWixjH6DMuXGM8ZvR8aL2YO8G01H3yySe3ZXIk0id9fPMRFMob2pbN99lnn7a3EYlj4bzHPe7RwqZwp5166nC77bYb7rnDjsMBz9h/eM+73j2cfNLJw8473bvtwfziFy5qBPPb3/jm8NSn7Nv2Yb7m2OPasrU3r0855ZS2PO0t8MDStyVyhIfyIVgkEXFEhIVlrURELfEjhxTWf/7nfzZrJNLoM0f2maZyfDcTQfybv/mbVp5TF/L9kIc8pL11Lk5lFsdf/dVfNZJqD2asl545t6x/v/vdr+27/PCHPzz84z/+YwvrPnklr+JxvpEVZ/JGxsomz6y3vn36ile8otwcHblqM9rWn//5nw9//dd/Pemv3Orcq171qkVZOrrWB51P+S+3cRyjAPeyl72sHdXZy1/+8km/5VZ25JhzekWf6J+X27Kc+vR+R8YI44b3Qug4vMcEAgHFSfqJ9noxV4Ipc96ojvXutre97fAHf/AHbX+jTIdBW3pG4OxRRM7e9a53NQJi3yIgJQilzxF99uxz2gs9d//1uw1b/dKNhsP++JnDxf/27+1ln7ZkvuCuXvB/xumnD7vs/LPvb7IUWg730kwPJC5vcCNC8gsGEW+Xyy9yaSn8S1/60vUE/YEPfKC9cONTQ/3b7t/+9rfbfkmfKvJpImUSPiQSYZbOX/zFX7SyvvWtb/1fBNFb7fZail8cZOdFqT/7sz9rWwn6yk68Gx3qWl6VXZ34DJN6KTc/56UxEx/thSVdG7QNY8pvuZWdVQsv5pElmdrKY1JKL0z5L7dxnE/fealTvZnIu0dXj/2VW52jr8nSdjFjmq1gJc8t19Fh6u9mN7tZ02v6CKOee4hmEH4RbrRezJVgxqqHICJWPrwOXoIBy6fJOJKlMCGdSFSeOb73PacMt7rFLYeP/+PHhmsWyCRC+YP//t4iqfzxD380/PTHC8JYOL9KHNdcO/xk4Vqa9lmKI0QuL+EECB0LmzTzySJAhJNn+YrVMEu84ujLIN5+SRjZ5IcTRlhI2r4J2kPYVCjZeS5c8hBERiCuxLsRIX+RT3CTm9ykEWfyLjc/B9oQmZMxwglTfsut7IDliyz7Pqs9T/kvt3Ec+OFFxpocp/yWW9n145f2b3xCVKb8ltv4bjwmg+95m5T55rf+gmfwC7jPPDD3JXIKmXLWQNPJe6ubgkZha7RR5PzE2gdnnP6+9hY5golEtk8VLRwRze9881vt/PvfXSCHC0cvAbVn15GbnhAG4k9+wLOeqBGocH1enY8FLY7kFYRRFvHxG8J55ZVXtqM04qDPX+IepyMO1yGakYk0+jJsdMi3slH8GnJhvtDu0m7Il/Wtb7+FtYHsLCWlrfZ9trDx0U+wjC0ZLAuzIbokYx1rV2HLhXrEPXqDFcu/T0f26HnTejF3gpnMGfg0UE5HV7CeRKXzu58ldOchJb6Deatb/spwzmfOXiCOC+GuuXb48VU//Nl/yBfOr76OcF59nRWT9bL5WwASJh8ZGAwUIYCBc3nwjD/Xjq7dd80JF9KY+/zkuTyH9OU+/+JKmo6egTjyDJQ1547iyzl/yVv8QH++0RCZBMpr6dYyS8pTbj4u7REof5//SvsqN5uzrzUDqb455afcxnNgsEyd0ZG9Di23Ngc5J1Mg395PuS3HGScyVjiqU2OFSZk9mZAV6PibB+ZOMOcFf9JhwnUMCYygClsO1BnLmuWV5RACHrLek2hx6BCpe9eBThK4L7x7PfnK9XIQto93nH4GKxBvT6KT9zGSprzz47qPt5909PfFnes+T2PIR9Kg/GPBWQlRJH0aKY/zDCieS6P31z/r8yYfyQtE9uB+yprJ2hTE18fpvE9HPH28yYs4+3z1UK7ka/xsCpbIyRLivy/XGNJNvpUx5Us+pc/lejV5WAnSEl/kAolffuSj3/ozBWXqw09hqefu9+Ed46bQr7o4jz95TruIVaUvR4/cXwryk/bf52s5JM5+S5L6EZdnfZrpH1OQDr9pCyAODvqy9HID55z7ZCH9uLFf6PVj4ofenzHTc/HxE3+xRMI43uWQ8OkXyyH5UubIBHL0jB/byaCXceBe5BIIl+vxM+fi5ED4Pl5ySJzJR8L3deM8ceQI0o4M+vuJw1H8SSd+QZy9xbCPC5LXPq6c8ye9/ppfcK/vS5B0+v4GvR/nccDwg2D293KcBzYswSRYldNXRmHLg8a6EsFU173yA18C8A3RdBYvhvmu6lTj10746zs/9J1xVojb4OIY+PJAj3R8figZzvlUuvzFf9q2t/j8m55/+4c/9alPtd+NwnLtv49jtQRT3gAR8qUHPxEACt/nuP793/+9XVNWIUu9XMf3+jyMwc+4ToLIS1iOv5xzno/l59qzYEq++b+/Z1x+6BCSNxWmx1oJpvh8qYKLbLRlk+NxO4GUbxZERoG03XM0aQgJygQix6WQ8BzZBO5zYyTv/TPhkocpZNBT1/wF8tpvAbK1KvlFkPrf+S6Vnx7ytVaCSaf0deTrIF7ulGZgdU1++nsg7siDWwl92SF5I7+Vwietvo56eJ74k88xIdbPk6Y68Ze9/pfFyyH5W4lgavd9OeU3X0EBz+nwIHn0PPXcI+XixBVZcb1MEm4cfjmMZdmHdc7JU/IevRl8+ctfbmOUNpxyRE5BwoLz/rn4U56gv9fnJ0i+kne67Yorrmjp0z/+QnjRRRe1Z0Af6VN9WRNH4r/BEszC/x/QWFdjwYxi1BF9dN7XB7y5qBO59lUAe+N8OkqHmeo0QZ7reOIbK4cp8N8rLOcZ8OQtA2VPsMZKMed93viRfvISP+4hxRTVve51rzY4IpeUhKVuX2JAUpZD8gyrJZiRxxvf+Mb2dv/jHve4lkdfcaBsfK+1JyYGhb6MKUPSVQYycU9+IpPIJ/7cSz3E73IYpyGuIDKVhngcOcrWVyDOOuus5u+Tn/xk256Rl/5gpXTXSjDBTxW4Zz3rWe1afh/zmMe0r2ME4kg8iXetkPdx/vtr+76f//znt7dD1WHkvRySr8gHlpMRf71f5yv5h+S9r0dwz9cz/LUMkDlfRvCJoV5OfZpTUIa1EswHPehBw9/93d+1c/nSD1OHfinsc3u/93u/175dPH7xUtx9/NJXFjIP4QD3lUM/ipz6cJ7x08M98ciTMONy6G/uc/z0eRGWvkwc7kv77ne/e5t8aZtI9M4779w+UbMaJH8rEcxA2vqcT/7RY/Ipz14m8be8yKIvZy+DnDtOlb+HZ/EfeSRcdC64n/7geeQG8pZn7gnjSFZ9eCBbfcxebW1D+d7xjncsptlDnLnn+bgcrqfuBcJy7ilLn8a5557bXpwlU3jnO9/Z3nXI77YhZeqRNJPODZ5gKuxU5RS2DKi3lQgmP+nUqW8Dtr1wCKXOTfn7fAx/UQ7pcI4516nyzBES93JIx03YQFid2wCj4yZe/hNvn26vuPo8gHNxOOa+cJT/Tjvt1M59c9VnJB7/+Me3531exkjZYS0Ekzv//PNbOocddliLx2eyKBt/snJNubIiOXcMwQZ5TzxBn8++3MJHTrmX55znHPTX/fNAPH1Y533cHIVPxpw682kyUC9IFz/LYRaC+fSnP705A48w0tpzzz0XZSlNxyj+WdGXM3IC+TPwnXfeecMjH/nIVo/uLZfv5IuDxBl5Br0f8Tl3TPq936VA7skLEuw8/UXfetSjHjX8yZ/8SYtPO9PPkR9yTJ17thz4WSvB3GOPPdrqgXSEf+hDH9omWs7lk4VTe/Lt4iBl7tMY5y/3cuT6+5ByudfHkeveb87H/uQ7IM/c779mkjAIZSaOymbiFXK9EpKP1RBMeZAufOELX2i/Uk6+3vCGN7QJLSQv7gM/ce45BtKPU+Y8T75SxoRxnXiBbOI3cUDaF4zT7GWbNC+//PJm+DA2yT9drd+bSKZvJx9c8pFzz3qX53nm2McBeT4uN+ODccOnGJUB4aTPfdPbc3Dk+rIkPg7KgtmhF3xhy4DGuhoLZqCzqGeKHqkM/OXJB/vTafpO0HcO0KH62Sf/a4G4MmMER/+Qh6TTd9qpNslfryQSVxQFR0lxysYlv7vttlsjOn24KUTZwGoJJghH6bIIm/kCi43P8yD0yQdYWvMDgYD1AeStR65TLvmSTh9XBhXgr38W5L6wiZPydi/XQR8+stZGcg4GhLVgrQRTWqy+XP7Gpe0g7gYgSH6Uo8/bWjHOh+vcS159o3f77be/nmyWg/Bjufbo08gxcC2d8X3xxfXPEH7tHLS/4NWvfnX7UQXoHwbJ3voLvf8pSGetBNMPPvr68DFxv/INPPPDjAzAS8k0ZeWfk5e+3MokbF8G170OGUN4/hMnB/Qa9Hnpy+m7ySYZSUtbhD/8wz9cjAP8Oc8WpNUgZVmJYMoHv0lHe++/GY3YHnroodebaPE77hfOe/mlDGPw0/sTLvXQw3XkFflFZjmO25f76qfPi29YI3HPe97z2rV8I/O2UcA43eSlP/Zw3ee/R5924k08IF26jVWaH7rVipQftET/TkEccVAEcwEKHEEv1ckLGxPqbiWC2XeGnFveNACwaLhnAEc6IW0g7SJw3hPLoCc2S0GHjvIZA/n6/d///aYgg3RCSiYDRciXfFBY8UNBupav8aAiPAuJJcGU5WlPe1pbXurLNoUoIFgtwZSXKCm/cGXJlDf3fVg5+ebn7LPPbh/8p7Sk434smUlX/nvr5hSUOXWVukkeAnWEgCTe5AEiM9f8Ra6O8u25fECIeeA6abLEjtvGGLNYMC1TcSw2IB1kJYqeTB378s8C4bVRZe7L6DxtF7E1cZC2dJcCeaWuA+dkPA7Xl9+59Pt7icOR84zr49I3tHHLesmreiMrfy/TxuLXgOfHFtrVuKxLQXprJZiWOYE/6SC1+l3uqSsrC7aTQMrlvrw79mnkWZB2P4a0gP8x3BvLF8bXff+xrQDoJysfWenJX+zkg0VYvJxr+pTVazVI2isRzCD1qA1Kx3Xkom5zHt0epL2QmTyC8/hxTkdEzwZTMgZtvJdTH9dSuj79IufJhzz7nI9tW4ccckgL38eda2lExmNIWzxc/IJzYVL2Hn2enSff/Pqhi1WLwB8ETTD6tIWJbgTXcVAEs7BFQ2NdqwUT7Kfzh6TAH6K4vvFTUJYKdCDKDFliRep/D+rcL0uzL28peMHFLzrtiYR0akqYwrZPTBoXXnhhUwbAj2WTpGf/pL1H4BnHimVDvXyxDoIyiMNzg8Ppp5/eXjBQdmXyqzukNn6XAsWUfK6WYII4KaEDDzywxRHnmuISp72vu+66a/vjgz1GfrHKT8DfBRdcMJx55pmNDCiH/Ec2zns/6ib3QVwpm+VdsjMbJ8vcT9kCebIvjlV1qbdQ/co1EI82k/PVYK0Ek5+TTjqpud4fmUHyl/TJfbn4lgPZXnrppW0PnXY2FQ8Lkb91rARxeMGlrw91iKQYxHv0suNHWC/l9GWLkyf3OXHrTyw8+hdyaVUizxOvfoFkBixrXnpbC6S7VoLpd8IgLL9ekKAnevLhj3MmDxm0tU86h3NOJyQdMiFT9XTxxRc3vfPBD37wejKmP/QXfgP3A7K3bK/dWqIfrxjIq/i8oOOefiU+crYn0B9bfvM3f7PVEaQs+mAvD+3zkksuue5qeaSdrUQwyUgaPcFJ/wPxpH/SDeAeR9/Rg+95z3ta2XqZgDjJ1GqKlxN7+fXQfukT+opOoX/EL1/iVW/i9iKlMQbSJ9U/Pa0t9pNdUK9+e23b1hOe8IRWL9KAEHxpfP7zn29l4IwNPYSRJqdPkIH6kV95c5+f1JN8GQ/UrTZlAksHpk5tcUgeQN/3LOXt6yFwPw42JMEcZyCNIZmccmvFVByrcWvFVBxx88RU/HHkN+Xmial0V+P6fLjWeHWOf/qnf2rWB9CQ+8bMTxQI5NdtsyDKWdqBdCkqFjhKjyL3q0+/N3ONKOloFMXDH/7w1okMPmbTypOZqXx6q1E8XjJAJL1g41uIKYOlJXFbKrMkwVHqBkxLUcgzwnPccce1NPzeM2AR8dIJC6UXBeyDQh4DZZpSAquFssgnrIVgLgXKjLzFaSmT9VL5bMxnGektHpY0KVxWZfusyLBXyuJ59KMf3V6aoOgtK5GhuiNX/pwLT47qRh3YV8TSBYkLmfQb2f33378RwIc97GHDLrvs0gZv8uvbaMLMilksmOQWF2QQAOW198yLar/927/dBkhxWxpmIfNSi6XEvAGqfdmT+IhHPKJdgzwcdNBBrW1qT37hpw8gOBAZiIclOjAwGbjVhYFRHZKdPqG9Z5n0hBNOaL/FNIB6+SVvGMu7vBpgTfj23nvvJiNlsf+MLtCOldcbw+rJXlT9A5kkSwOffZaW7uVbe2EFMtiDsCFS6lOaqde+3y8H8lkrwVwO8gD6vv83pz5NJNSXCae6MPgjK/o9y7H9eSZB5EuW9B49gIyyLueXiw94wAMawUtf4JAhfY6u4KRj5YS+IgtkwlYdbYmOO/HEE1tclm31HbopafKjfaQc60Haf/rFWpE8qI/EBdoVEqZdk5slaFZCMsgEgx9tmP7R9qxsHXHEEW1vrPYG9M6pp57a4tCmkWfPtQc6F3E78sgj28SLTNShZ/oDqFtbI2wbeNGLXtT6pHEDtEN5oMfocgReO6YfrTQpT/ogi7j6si/yBS94QWv/CGvqF4kWrzrSf4AOlF/tiXzJAPQNOtbvpe3lZln3Eo9J/3qgDuJgwxJMDT4KgPCSwaXcUojwp9xUPNyU37gp/9wsmIpnVjeV15XccphKY1bXpzl+1it5z3U21hP/VjfQGSwpSp1cZzTIpm3w6x6S0g96a0HSTpzyYFCjXDOAyYcZrc6K7FHMBkMEk3IxWOrA8mFAlS/xIjIGPvFRYhQNBUEBGJTd489gj0BJm7J3T7kpG4TUUoV0jz/++MW9Y5QYJS9OCpYSQrT871peDPTKA/IzCyIPIIf1EEz1BBnw1CdlT2aUtzym/GbneXtROGXzwoQlmszMlR+Zyoxc/ZChgVY8BktE8fDDD1+0AAiH3CCZlvT4Y52hVA2oyaP4DLQGEZML8Cz1Gn+zYBaC6XkcyEOfD/cRLnukvPyTvGobyouYIBRJjxwQPvtj+dXf+DOwCiNuliGEMEhbGhNMZBW5NJAYGA1U+oP7Blj7fRElliEkkpXIQG6w1QZA+ulrybuJknqyX1La2v/b3va2NslDIFnt5T+kmI7QlvQX+VdGx+TbMfXnnHPOrQZkPC+CKZxyOio3/QLatkmBfiw9+aVzkB6TJBNpxFGb9IycTVAReroBaVJ/rInyaoKmnO4hS/QOv+KW/jHHHNPqDbnhj3VMf0CUWCulS862Y6hPbYiVmPyFB+HWi7Tr9Iu1IuFTH+oeyAhJo0sjB89MPkxG6QrXZC5tVllhtFFtfPfdd2+6g2N5RgzJ0L+1WfsctVOffBMn8pn0bMlA4Ogn5JKBQP4498hXn1O/0jQWGFPkI5ZCfpNnE2QTYPf4J396Un3ss88+Td8po8mHPkIXQOqHPtMmsh2DpZvO8DIWMmss00a0ifUgZeRgwxJMIMg0HsdZXAo25f6vofKn3FQ54qb8c7NgKv64KXlx84T4dJSkqSPpUAYindfAoQObHZq99d/gEhbxEB4R42ZBlNEY4hen2brOCNojZwb8whe+sN0LDj744NaxKQf1QVmZ+Ru0DYQGRwMJS4RZr4EhSprlgSUDUpee3ehGN2qDZl6CISMwIMsbZZB7iBklRdkgmcgYWa4H8pL4Kb71EMzEkzjllYWKUqYoM0tHOlihWB4pabKjnO2Xpay0A37N4pEJg59lK/EZENUnBW4wRBDBAEGe6pTsWBnUo2skSj1ZGgb3QnwsBZpMCANkvFR7WS3WSjDHfZtf9+Szf0YmynLTm960DXjKK6+ssAZFck46lswMlsKIh+wQOaRSnsTLj3D5XmrSGhNM8PYuEovQCy8+sCVhbO2UHtJvYAzxJ9/HPvaxTTbyLJ9I1C/90i+1vpK0PcuAGIhPWe0N8yzpCZPy8rOcjFcD4edFMEFbAuUzWUKgETdtOXklH+dkqt3TL/p3IA59BBEHfsnIZMsLdXQEEgWs9HRTv6RsksuPthFdCgim/gapD2UVloyRXEg+14vEMyvBDFIfKQfLr8nPGLYV5Xu8/CJayKD2yZEVSzC9QC7JH/KonSPh/JENaL/C3/jGN160EKZvq09kj7HBpM4ETH+RL7ol+8/FxUqszyGrkPjpNdZFujCWeHCOBOtLxhV51d+NGWkTyqcvsJJLr59ogv5Cl8I86lMdxMGGJJgpqIzkfB6F7yE+gp9yni3lIqixm/LLbS5M5SluKl/cLJiKnxPflCy5oPenkY/z4DkY4FmYkDgd0+xLB0EmzM6z1zDQoTTkWZA0IXLJPRYZgwqymGc6rO8AUgwUubJQNpQDYpe3GnV0Sx6Wbikd5NJMVjkQQ8+BEkGg99prr3YNSUfaFIAZtWvpIN8UHGtGPrUC8oFQZimdsuuV0SwQp7zAeglmjyg4M3YEfjzoUZism8cee2xTfj5xxKLpOmTf4EHeFClLWfYKRR5kyuoJaYN5lvo1yJCjAcBA7DmLQvDMZz6zkZxMbDxLXLNirQQzfSbOde5ByLB7lt8Qhuwt5oeFz2CpLSuHNoS8ISqJQ5kMhI4c6zfCqR6yFy3lHhNMZVA3BkAEEzKxUZcGZESpb4smDwZSy3T9sj8oh3rRH9QLUpW05deeRd/iS7lBGHHRAdkfOp5c8QPKPwukPS+CiQgAEq88rM7aBOtSSEXqIm3WhNvEywpI0vUcYUH6xKkukE76EfGgF8nX/ZB5YPmkJ0ygyIusE6f01ZlVFSBnz8RvORZxzfIrWa53Egtph/MgmGkr5PbiF794cZtFkP5NTvLey1sYeWEt/Pmf//nW9lgq+VN+VmTtllUX+rLT73SR8Slxc+7rk8Yx+ssYZuwgf3scExcwNNBHtoGQrbyoP+OgOg4RBM+UV9uRJ0vdyqCOtFMTSOVJveYNdXGkD4jDpNSqWNpZr/9mgfTiYEMSzDFWypDnhDXlUrAptzkwlW7cLNCIptxymJILp/Eu5SikKWcgmnKUlv0uU451KC8PWMqiAJEme0bsC0IadGTnlmksR2T5QeOkKOy70kkN0DongpblUEQjSwLrgbjI0tGslMIwcFoeCjynvCkKoIDdYx2gSBwNphT/1ltv3ZRb/EDiBzNl7YBCsZTYQ4dXJoMEMkXBJZzyUyrIKrmHBIiLtRMBoKzVC8Raslb0eV0vwTTIJa4MsMi3clCK0iI3xBIZ8oa58vTKMAjRMyD/3M/9XLNUWi7PQEJ2rACsYtosGEjE4Zi+5yUHk4Vtttmm+evT4AeZMutHyJLnkMJZMcsSubzEBc7JwFHelFnf0QYRBLLgLMGyfm211VZtKwK/rFPaZwaVDJSInaVrBFD/Ug95mUNaMGXBRDANgAh9P+gaPPuJX8qJvJArUigPXNqHgZDVXztWL73lFbSXTOKUJTLxtqtlT2RafGm7KSPwu5Ksl4Jw8yKYPRBMZF7cVixMlNLWtFV91xHJoA9MGEKKQJ2qp75ciCuiQnb0bvyTCV1hAqJ/2Qak73A9WVRnyE4/KRDWi4Lq+X73u1/zv96+ECTv6yWYkPqWNxNP24t6TNU/v8Yg/ZweYU1Goq2QkEHkh6zSx57nXuKjk9WD9hudBfoSojp+qaxvO+LixC9Nq2E9WOy17ex5NW5IV30ZH/X5tE26VP9Up/ym39KVJoz2W/ZQTsQX5tGexREHG5JgepPJsoGlM9YNDNsbeY5Tzr4D/qecpckpx1xN2FMOy59yKsmsY8oxkU851relHIIw5VimlnIGqCnHKrZWZ+BZytkDOeWm4uGm4ojr/SCJIY6WwB1TNtfKbwbJP7+InHSV0bU43POcgmTR06H6gWwt0NjHSicdAPmg9BBhHZUi8sygIK+QgZEFUyenHHTsDK72NwnDUX78ciHHnEEj1h9+4sRn1ok4UFpx2WcjbuETTh4tS1I4FEdv3ZoF4kv86yWYfT6BjCyVGrBYupJHfQlBspQjff7JOOEMBO6HXFju0mftOzUb1yb4JxtkQ/uIwo+8xYXcCGvAUDZv+CcteeMQYHHEOioefqQ/K7TjtRDMtJ3Ip7+OfBLePZZb8bO+2twfIon8IQ30aP7G4T6YUOqTiJ1z8ZoYar8pe8o8ZcFkmWeJVgfy4B7/9nUhktIhT3Bf/9VG9St+5UW+7Uuj+/lFZqTDnzDiVee2khhw3ROvOvHMpFVdImEG3uRDXM65YHy9GpBx2n/CrjWOHpn0sTTRafZd0iu+s6qcabORm/phbbS0Ki+RiTESkVRmcXpmX7j6UH+pT1sd7MnUDugFstEWEHZbfiJPcSqn9sOPezkiONoWgukalmu7q0XiSL+YBfIP4kre9ttvv9YmyUYZyEL5UlY62H375u3DRhzjDxkjB4YQUCdeBKKPoyvExb+jZW9hrC6pM/nwzP5O9UBn85f26pl85Vu2rg844IBFvS5+8fCvXzJ0IIJpN55zxkR1Hcu2OkVS6VBQVvHgLspDr6Z/eKbt0BGJVz7WA/HGgbJvOIJpz4FZsaUxgkHGVKDzKUdoCOOUmyKknI6J7U85Zu4pR2HawDvlvPU85bxFvJRjQZlyCMVSjiKdcrESTjkdacqZCS3ldKgppwFOufUoGg0u4cXFQhVSakCmgGPR1BbItTflU5Ia8ixIY49CcExeDFY6qoEw9/i3V4pVFXRSDhkxGFLM5GSAzoBnQgNRGIAIBaxG3ug1W85z6VC4nM+KSF86QBlQnHkTMXlz1GfswzNzjn/5mQXCJ275mAfBhJyzSpORSSSlByzcSJ2Xo3rIC2VMvmDfVBQ5x/qGrLLY8UsvqI9+L6r6BW/mWk4GG+21n2ygB1YeftWLiUS/xBaZzoq1EszlkHDaTPKlDSHa0kAkQTosVu4jB6zeypTy6mcGKQNNoP2SC2tYIB3yV2e5lq5lQMu3/lTTy4deNNjRJ4EwrNT6lfrUjw2K6lz/BnGwYLIIseoFBlSTPnUVaAPKp/6lpdy9PD1zrazCzwpxzJNgCqucttEgDuI36THg67uxvEeeCDgZscq7lzaN9FlpUbbcM6lChOgeqxgIk+VdOhIhiY4xAVGXD37wgxflBPqNibJ7vcxM5LQThJTcoa/vWZF00y/WiuQFEhf5sRoqC3IHqS/+jSl0DZmRDbkG2iSyKKxzfhwRdETPP8LJJelKUx2SJf6Q+8Ih+6yJfu0KZArCG7djrXSfPpQmgqmOEo9+ou4QUPAs8djeQO8pK/+4jX7rHigz/a+PIq8MZRkP5EHeLNnnej1tGoSPgw1JMGUgs41cb3RoZFNOB1zKTfnn5g2NccpNpR23FKb8cuupI2HFAfKlM1OESCUix+KhkeoIOmwUpDA6BcXPUjILkm/1MYYBy/J79kCmw1OwZpU9WHYQO1Y5ZeDXjJfS1LEts2eWiLSYFMXCyGJroAkoFM8oGx3UEjnIo7jBhIsSIQ/IIG4vDksQ5Zn0ZkXaKCjHeggmJC6wBcGnNpTBspJ6cM/RshYlqQ0gTMKxpFGGsaghasqcOgFxZd8lS5jB2jYFSjwfDDY42HtGuUuLxUFaBmMDfL8sSI6IWWDASHuZFZuCYPZtV/4yUDkG9Kk2ll/ppRz6kiVrg6PVA1BOk3wWRO2WnLV/MMgl/9IVj7boHjIP2q68scrFL6hfQJbsEU5dIjr29ukv5K/dxrpmwpB+4j6C6WUL6fbt2/7S+EeKlSHIwMmtR9bzIpjqImCRNSkE8kSe6RxL3z1MArTvfq82IAzaedoSmTAe0IfiSXtmKeWP7KI/tQ+EycQj0J+QyLxoAu6RJwsf/4iudEzUZpVBj9RJ31bWgj4PaafiNIlCvrVj5DjPTE4RzPQbn0mjN2NNtAdZGbUnW7dCyBgB3Neue5ANAkeHZG99387sd6bH9S95VSeMFvwnbveNIeo4k+hA/7ONQh320J+MLb6AQXeB/MqjcuvDaRfKqP7TxzNx1J+8PDQvKEccbEiCqUH3SjOVlUyOnedrdeIn/LW4KNQp93+NqTzFbQlIPsmYAkbCKFUkgwJGBBDPMfjXiGdVToE2EVCeCAgFgDTm+4zSMtjpvEiQ6+TX4Mgqk7fB3WMFoujFw1Ha/OjUlB9FT+kZYJVBmVl3WN8MvpQNJWcJ0qARBRkgU5ReFKOlHnnLR9+12Qzqs0DZIhfyXQ/BzKAGkRsrLvn6bE2s00D+lKmyU/wGRbJAEpWJfrD9RPlZKsjSEiCSZGVAWhwLHgUsDcRD3agHSlgcaU/krV4QfUDaLdVbUuYPDCLyDON6WAvmSTAheYLEZxsBkmDrQciZZyww9pkF6XMs7PbskSeyb7+f9k12WTnKAGafGBlm6ZAsTAK1X9bRWN6ANUebySQosswEAmGBtFvp2Wpiuwwii8wgylkBUKf2ovXW7cTZkyp7DIVJHkH9rUcXqqN5EcxA/pQZ0ct+aasz6kI5reLJNxKi7lhzfYqrJyX0o7abl9/AShfC7j4rsjpCXliEyVMdmmSxdiEdlt6Rfm1JnZCjiQhLKPmmXZm02cur/dLN6l3+1otex6wXyWvASKGt6Q/Kj0yz2GZvMd3BYmi/r/av7VvdoKPpHO2RnOhj++TpGPoa+vGI1dlkVlh6f9xG6DPpmySzltrClAkWHa2O7O1neZaO/uZeiKA617/UXdqKFVorMIwJoP6QURNjdcq/yaMVN8YZ7Zc+1cYgq2zKn367Hl0EyhsHG5JgJjME1jeY3J+HI8il3JR/bsrvSm4qni3ZzRN9fImfzCgtVktWDEQPWTO4pD0knGtOJ5lVOaWOAteUDgsCAkSZILc6O0Vgm4SOzQKZz+KYjerA7smz/WPy7Jm47NlBLAycLGjKIL4c+ctbhTq9a+mITx4ouPwBhBzkUVjkwXMDkbBmzyEU/IgH+vKtBWQrHlgvwRRP4pN35aCgERplV89kkQHLAKBcSJ9ZN0ua58IBmdtvikSxSJBR4ojVhlIWjnXBQMOKYfk7ZeI37c5gT5bIlLpUZ7GQya+8Q2Q6KzYVwRRXZAssW+QgvyEk2hD/KXPCKicyaJuHyRwirx58W9GkxwRLXWnv9pRxCD5LjnpybYKgbCy+4rNkZ9kQAbIX3iAofyyN6pUFibzVj76CECKGBmgkWN70JcRH/2PF50d8wvODVILwyqPeEAKrC5mM5Hlf57NA+HkRTHEptz6unuiTlMfnlpRDv3A/26noIdu61AkyqUzuk6F2TUa2Cegf4uWXvPQLekua5Gmw90wdaRvqXT35BqKXLOk9ekd66lfbESe/nL3l9Jh4e7muB4ljVh2e9pz60HbSzvUB29uUGykmU8QuaWrntpGRgfZLn2jrZGEMIgu6gW4lT44f5JtsUpfkwRJIbnkpk9yiz7R7/YSuk45rYdWDI1lLi/zFI88hoNFnxgZ+6DPtRj0nfuVVP9LkTz71MW1JPTFCmCzqh/xoZ9qD/PJjYkEO4lgPxnWxYQnmGPPM1OaExrM5XDrVlJsn0lCm3FrRh+njMDAYCBwzSExBuT1HMGddIgfpimepMqTTkWUGKJ3ebLGvgx79QDYu21SdUAKg80Mffpxu/PZpyqO4he+tSBAFtVZIN2msl2BCykAWIT0g32P59VAmfnpETjCWD4gv8YZU9jLNPsvAtXyJK/fH9ZQ8ju+vBfMmmCDffVkSn2Mvp3HbEq5/zn9vlfEs7Sphci+IzII8M/D1VhHhxNP77fNsIuZZnwftXLqZNIF4+noEeRjfE0dfNmllMJ4F8jUvgqntk01k1Zexl0nacvLNX4hLn7a8JRw/zt0DR37F4X7i7OsZyJ6/Xrf0MnUuv/yIh39H9bZeJK+zEkxIvnq5QNpb/6yXN5BpX1ZwTWaRC6S+kMI+ncgYerkmDXUd2Sc/KfNYV/d6UR7iL+ECbcC95HvKn/wqg3EK1K28j8uaOof19BEghzjYkARzDAIZC6VHMj/lZsFUPJxKVIFTbiNjqizcclDWKTcVT9xa0Yfp45COjtZfk7HOkZl3H9aywnrJjzi5lBPM/CmJXKee+w6Z84QP+ngogwx2OYpXGdKhKaCAkhI2fqXblxf456cnj/EP5BSlNiukmzKsl2AmHsg5ebHaKJv+HcWtHOTCX5S8e5Fvwgsb+fWKUbl7eYJrafT56OsLxjrGtfwIm7qH9ch0ngQz4eSzL6/ztIVY+ZQ1/iPbvrzaceJIP+vLzG/qItBO0y7FL81xO+3bZKBv9/H09ZD7YxnLW1/HwriOv8gg6aVs0oqfcd7WAvKaF8HsMZap814ePeHINgVImdQTJEzui5c8yGHcvlznXpZg+Y0uE1bZ+nB9nkJY5oWksx6CCeM8B33eIW0j7bUP4176gWfqg//EEXkDcmhiColTXOJIOxTHWF7iEk/iVAfjfLvu88Fv0giJ1Tb44eSTP+jJ8xiJI2m6FpYb97lZIA9xsOEtmM4VPudLuY0KlbiUWwpT5Yv7/wl9efryOabOySkdrYfnnvHLgmmPzSyIIuiRDpd0HaXj2NddFEQ6bQ9+xR2/fRkSrof4x/f7eJ0nD7mG/p5ziAKKn6n8rQaRMayXYIJ8iC91G+tH8j2FPu/8Zcbf349iJIfcT71Ko68D50vVSfLR10N/7vlUe1kLNgXBlCf5THyRb18+kP8Mds5TtgyS7vV5STzx55jzsQxzHflnIBan8/jr85QBsg/rWhhpJy33+kldX/dB/C5VdhBO3LNAHudFMFNe4XMO4wF+qgwQgp7nyt7LpCfifRohHgnXyyrnEFnmKA4uxBPEmefrRfI3K8Hs+2Ty5yh/Kas00iaTXh/OvV4eCQfxD+Lgry+7894PRKaJM2lFN49ll/T4n8oz9HXcly3ItWPaQMKIK32/t5r2cTgfx7lWpK2kHrYIC2ahEKRx6ohRChrxeslPYRoUDhl78QCRHyvSwupBjvYqkqVzWC9hLWwe0DsIUAZv/aDqbnZEr5ArWSLXXkAqbJlQl5x6Dak1EbJ1jc4LofYsfueBIpiFuYNiz0xLw0V8vCmIaJabn/MWr0HVm64+fWErwpS/cqtz3uw0iJIlmXor2NuqJdeN7/QDqyQ+eeMTS956n/JXbnWOHOlsX3jQ/r3xTI9P+S238R0Dj8/6+SqBelWnPotGx3kpDEzMEMux9XY9KIJZmCvMgPolIETTpyd86NkAUG5+Lp/3oDyQTR8f9omasb9yq3NICaJClmRKvj4lE/JSbuM6VmcDKWLEKmMA9RmbKb/lVnZp+xxiYuJFv0z5LbfxncmB+tMv9BVH90ym81OLrH6xWvfL/etBEczCJoEGal+WRpu9Rc7Lzc9Fpj0i83Jrd3mbtIfrLBOW27gOHPu9oFkqL7d2B6xZZEiXZ7vBlN9yG98FvXXS/ve8pJatbfTdvJbHoQhmYa6IIkqDHV8X5ocMpv1LIGOCVFgbMnOPTGGeS0aFTQPtPnWnH1SdrQ9IRk9MYJ7Eo7B5ESKZSQNkbPYsLzcF8b9eFMEsbBJQ9hR9lFKuy83PGQDI1ZuMzg2qJefZHaWagTUydZzyW25jOe1efXHROfrDlN9yKzuEPbJ0DaVbtlzX9wlI3bpOHXNIZ/zOA0UwC4UF9Ja/KNL+XmZ7/Sd3CrOBfCGKbB7fdytMg6yn2rH2DamLHMcfli7MB/0Hzw3qBniwCkH2qRfIM0j99fcKmwd9nekv87Lq3ZBQBLNQ6EDRIzwUu4HA0oHf6vmXtt+FOfptW2F2GCxDcChtvz/0P/fC/BFLBWjbnO/t+R+2f2z7tV0+5j3vD3QXfoaQ98ASJdKYevFbQXXhF5HQk/8QS/dyv7Dp0b+o6jeNft0IVQdrQxHMQuE6UB4hlhkU/MPWW3jeuvOGtqNP14z3rBRWh1jTslTjn9l3u9vdhsc85jHtujBf9NZLhAahP/TQQ9sb194g3XrrrYcddtih/Te+sGkQkojc0zG59u/4nXbaqdWFPuDoc0D+Sw3ZngFFbDY//Dv+oIMOGrbffvuaAM+IIpiFwgJ6SwEYmM1cH/7wh7e/u7z85S9vzkdpP/WpT/0vq0Rh9TBwIjvkev/737+R9ic96UnXPS3ME9ozWae9nnHGGcMJJ5wwXHzxxcOXv/zl4W1ve1ubQPm0z4UXXljtehMgOoVsLYm7Pu2001qbf93rXtf0zMknnzzsv//+7dMxz3jGM5ofOolTf4mjsHnwta99bfjEJz4xPOc5z2mfvkIwq2+sHUUwC4UFhGBmmZAyechDHtKWx0u5zx8f/ehH24D6zne+s32frSyYmwY9SYHLLrusHbPXklWN9QzB/MAHPtCuC/MF2ceSTL7q45BDDmnXYMKV58gly/L4d4F0UOqwsOmhjsjdRGDbbbcd3vCGN7T7tY1kbSiCWSgsIMo7e2/OO++89pHh4447bvj4xz++uGxuMKhBeHYYKMnYx30pcYobudlzzz2v81GYJ9JWyRoMmtlzCe4//vGPb8vkte1j06Anh6kPOiUkMttFbF849dRT21+k6JlAHQlfE93ND/Xk7zf0VBH8taMIZqGwAMo7gzC85jWvWfxdmuPznve86238jsWhsDaQmwH1yCOPbNeWa/0pZJ999mnXhfkj7bbfWxyy4h5C86EPfeh6pKYwf9Av5N4TRXWjT0SffOQjHxnue9/7tvPoI8SmyM3mRerpgx/8YDM0IJjVP9aOIpiFGwz6PTQUOwVOsVPeUfKxMNiAf+KJJw4ve9nLhv32268pmYc+9KGNEI0HiRsqyI/VxbGXZVzk7U9O9p6RLcvwU57ylLaBHsjTr8sQTGHINfEhPxl4C0tjpXZN7hzZuvbcNb8syZZrr7jiinZd7Xo2kOlyfSH1kjrhYrlM/TkefPDBw1FHHbVoTVYffd0VZkPafeQZmfb1of4C94EF075YBFP4wtpQBLNwgwElH8VBmfeDac59+8xMNUo/9z/84Q8PN7rRjdo/1e0f7Af1GyrIMvJx3u8bo8DH+5WQmIc97GGNZEZZe9Hn3ve+d3uZipLvZa++CitjuXad++CZa/7tLXvEIx7R9l/e8573bFbks88+u2Q+I5brCz34MdmKNcwn0bR7YZAZbyznkzipuxDWwuzQ9uMgsg3US+rEs/grgrk+FMEs3GBBkUThO++VOGXCwpBBA2E64IAD2pJ5vfH8M0RJk1+QAXMM8nziE5/YCCWQJ7z3ve9tpP1xj3tci+/rX//6omUn8RfWhr5dGzQzcIJzzzJYkv8222zTXrSyF7MwG5brCyHt5J6fCvR9RJ2wWD760Y8eXvCCF7R7wvRkv/rC+kD2/YfTYyFWX31/CNyDIpjrQxHMwg0GUfCUu88Nbbfddm3/GdLoUy32WiI+no+VCYX0pS99qYXZddddFxXQDR1ZVoo8WMK8tIM0so75BNEtbnGL4XOf+9yw2267Nf++8/eVr3ylWXle+9rXtrc0kc/LL7+8xREgmpbXC8tjuXbteNvb3vY6n/9TT5CXfYTx5jKS6dNFhdmwVF/wfUt14UjP0C3IY+qNzvGxdQRTHU6RSWFiVSusHX27B3Xju8bpI+qGH/JXJ/FfBHN9KIJZuMGA0oiitscy37V8xSte0SxrL33pSxcta/whOAYNFgZK37O99tpr2HHHHf+XwrohIgMh+ZAX5fySl7yk7Vt95StfObzqVa9alK3vLVoe33333dvHpR/4wAcO97rXvZqSp+ANvIj7N77xjUbmxS3OUuorY7l2fcwxx7Rj2jU//OZa+9bO7S826JoIFNaO5fqCutAH1IU+kTpI2/YiybHHHtsmU55x6pQTj2sonTM7yDoWYW1fnzj66KPbUf3QV56nbiLrIpjrQxHMwg0GWXoFirs/RolDFA04CsefAcCfNk466aTr+b8hI0o7A6wlp15B59jfcx75vfWtb73eSz4QRW6wLqyM1bZr9/jtiUra9lOf+tThPve5T7XrdWCpvgD90njugV92Ip19/0j4vp6c9+EKa0MmVOkXEP3iXn8fcl0Ec30oglkoXAeKvVdEBtsMGpSRl3tY3/irgXg2ZPCMAn/jG9/YLGe1r3XTwcCYdt2TFkAwvYzl5RJ/lRkPtIX1g67o5Zo+4GW3Rz3qUdfblsCibCJ7+OGHtzrrJw+lczYfQib9zcfyuc/WZQtEYfUoglkoLKDfnE+5PPKRj2wfPQ4uueSStpR76aWXlqJfB8YEh2XAPjXyLswf5N1bgi0Jnnnmme3c7/AQn2c/+9nD3nvvPXz1q18tK80mQNo8HZOXSi644IK2LcHfwnyWyP/hfWv3iCOOaG/3+8EDJGyRm82L9ANGBdt3jj/++HY91l+F5VEEs1BYQCw8ebvQCz/+bmLPoO827rHHHosvRVD2ZemZHSHorMOvf/3rh1122aVZcgqbBghmrPOIpJevHvCAB7StHgceeODwwhe+cLH9FzYNeiuyb8A++MEPHn7hF36h1cUd73jHpm8sxXpBy0tZ/hUPY4t/YfOAvD/72c8OBx100LDVVlsN++67b7surA1FMAuFBRgAKPPsUaPgfSvwjDPOaPtw7KHiBwE1UJSlZ3b0FmCfJWLNYSEuzB8GSvKOzL/4xS+2TxOxYp5yyiltedbb/Npz7XndNKBXYvkiZ1sSzj333NbuL7roosVzzktW7kHqzFH40jmbD/S9icA555zT6uP8889v+2WzZaqwOhTBLBQWEEsBGHDHg20GiFgxy6KwPhg0s1wIpbg3DcbtOlY0ZIXsx5bLWPAL84M6GE9KfS3BdfZY2q4A7oVYQs5L32xepK6in4J+K1VhZRTBLBQWkIG4V+RIpgEgSv7KK69sR+gH7sLqkQG1H2wLmw5pzwbKKTKfto1YFonZ9GAZ6wkkwtLLve8X7vd+x2SnsGkxlj+U3l8bimAWCguI5SCb6ceKJcTIQFxLietHFDXLDsJTg+emgXZN1mm/adfknfP+t4b1Msn8Qfa9zkhbz70xsfdcncWa7K1y9Vh6Z/OiJ5M1+ZoNRTALhUKhUCgUCnNFEcxCoVAoFAqFwlxRBLNQKBQKhUKhMFcUwSwUCoVCoVAozBVFMAuFQqFQKBQKc0URzEKhUCgUCoXCXFEEs1AoFAqFQqEwVxTBLBQKhUKhUCjMFUUwC4VCoVAoFApzRRHMQqFQKBQKhcIcMQz/D/fLfKJ0Hx5kAAAAAElFTkSuQmCC)"
      ],
      "metadata": {
        "id": "Ya2sC3ftL04v"
      }
    },
    {
      "cell_type": "code",
      "source": [
        "superstore = [\"metro\", \"tesco\", \"walmart\", \"kmart\", \"carrefour\"]\n",
        "superstore[-3]"
      ],
      "metadata": {
        "colab": {
          "base_uri": "https://localhost:8080/",
          "height": 35
        },
        "id": "HZ4z-GqFMe-k",
        "outputId": "0b670d32-1297-4656-8c56-0358bd840f77"
      },
      "execution_count": 23,
      "outputs": [
        {
          "output_type": "execute_result",
          "data": {
            "text/plain": [
              "'walmart'"
            ],
            "application/vnd.google.colaboratory.intrinsic+json": {
              "type": "string"
            }
          },
          "metadata": {},
          "execution_count": 23
        }
      ]
    },
    {
      "cell_type": "markdown",
      "source": [
        "### 6.3.1 Modificación de elementos en listas\n",
        "\n",
        "Las listas son mutables por naturaleza, ya que los elementos de la lista se pueden modificar después de haber creado una lista. Puede modificar una lista reemplazando el elemento anterior con un elemento más nuevo en su lugar y sin asignar la lista a una variable completamente nueva. Por ejemplo:"
      ],
      "metadata": {
        "id": "bMLE7mhmMycu"
      }
    },
    {
      "cell_type": "code",
      "source": [
        "fauna = [\"pronghorn\", \"alligator\", \"bison\"]\n",
        "fauna[0] = \"groundhog\"\n",
        "fauna"
      ],
      "metadata": {
        "colab": {
          "base_uri": "https://localhost:8080/"
        },
        "id": "lDNTVb-cM_tL",
        "outputId": "4487161b-f1ec-4280-a7e7-9e848dd94ce8"
      },
      "execution_count": 25,
      "outputs": [
        {
          "output_type": "execute_result",
          "data": {
            "text/plain": [
              "['groundhog', 'alligator', 'bison']"
            ]
          },
          "metadata": {},
          "execution_count": 25
        }
      ]
    },
    {
      "cell_type": "code",
      "source": [
        "fauna[2] = \"skunk\"\n",
        "fauna"
      ],
      "metadata": {
        "colab": {
          "base_uri": "https://localhost:8080/"
        },
        "id": "AbIF4EIjNR-1",
        "outputId": "843e54ce-49bd-41a5-a786-f2537415ceda"
      },
      "execution_count": 26,
      "outputs": [
        {
          "output_type": "execute_result",
          "data": {
            "text/plain": [
              "['groundhog', 'alligator', 'skunk']"
            ]
          },
          "metadata": {},
          "execution_count": 26
        }
      ]
    },
    {
      "cell_type": "code",
      "source": [
        "fauna[-1] = \"beaver\"\n",
        "fauna"
      ],
      "metadata": {
        "colab": {
          "base_uri": "https://localhost:8080/"
        },
        "id": "f67_fLXPNTlF",
        "outputId": "192df586-e0f0-471b-8c88-f87288abc540"
      },
      "execution_count": 27,
      "outputs": [
        {
          "output_type": "execute_result",
          "data": {
            "text/plain": [
              "['groundhog', 'alligator', 'beaver']"
            ]
          },
          "metadata": {},
          "execution_count": 27
        }
      ]
    },
    {
      "cell_type": "markdown",
      "source": [
        "Cuando asigna una variable de lista existente a una nueva variable, una asignación (=) en listas no hace una nueva copia. En cambio, la asignación hace que ambos nombres de variables apunten a la misma lista en la memoria. Por\n",
        "ejemplo:"
      ],
      "metadata": {
        "id": "IWzgUn43Ngfc"
      }
    },
    {
      "cell_type": "code",
      "source": [
        "zoo = [\"Lion\", \"Tiger\", \"Zebra\"]\n",
        "forest = zoo"
      ],
      "metadata": {
        "id": "3wvU2_8NKND7"
      },
      "execution_count": 29,
      "outputs": []
    },
    {
      "cell_type": "markdown",
      "source": [
        "![image.png](data:image/png;base64,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)"
      ],
      "metadata": {
        "id": "bae3efp1NzdF"
      }
    },
    {
      "cell_type": "code",
      "source": [
        "type(zoo)"
      ],
      "metadata": {
        "colab": {
          "base_uri": "https://localhost:8080/"
        },
        "id": "qzp6gZxXOARE",
        "outputId": "b19bb3d8-23a3-454d-e172-a10f6c8427bd"
      },
      "execution_count": 30,
      "outputs": [
        {
          "output_type": "execute_result",
          "data": {
            "text/plain": [
              "list"
            ]
          },
          "metadata": {},
          "execution_count": 30
        }
      ]
    },
    {
      "cell_type": "code",
      "source": [
        "type(forest)"
      ],
      "metadata": {
        "colab": {
          "base_uri": "https://localhost:8080/"
        },
        "id": "2ZHyUD9SOA80",
        "outputId": "30eb75c8-c317-4608-9976-d22b415a0c04"
      },
      "execution_count": 31,
      "outputs": [
        {
          "output_type": "execute_result",
          "data": {
            "text/plain": [
              "list"
            ]
          },
          "metadata": {},
          "execution_count": 31
        }
      ]
    },
    {
      "cell_type": "code",
      "source": [
        "print(zoo)\n",
        "print(forest)"
      ],
      "metadata": {
        "colab": {
          "base_uri": "https://localhost:8080/"
        },
        "id": "DUqSJmAvN5aK",
        "outputId": "554f6f61-73b5-4f9e-887a-48a3141cd4bf"
      },
      "execution_count": 32,
      "outputs": [
        {
          "output_type": "stream",
          "name": "stdout",
          "text": [
            "['Lion', 'Tiger', 'Zebra']\n",
            "['Lion', 'Tiger', 'Zebra']\n"
          ]
        }
      ]
    },
    {
      "cell_type": "code",
      "source": [
        "zoo[0] = \"Fox\"\n",
        "print(zoo)\n",
        "print(forest)"
      ],
      "metadata": {
        "colab": {
          "base_uri": "https://localhost:8080/"
        },
        "id": "NgkTZfFjORd0",
        "outputId": "12bfbc13-b012-405e-ece8-97cfe8deb0fd"
      },
      "execution_count": 33,
      "outputs": [
        {
          "output_type": "stream",
          "name": "stdout",
          "text": [
            "['Fox', 'Tiger', 'Zebra']\n",
            "['Fox', 'Tiger', 'Zebra']\n"
          ]
        }
      ]
    },
    {
      "cell_type": "markdown",
      "source": [
        "El código anterior prueba que asignar una variable de lista existente a una nueva variable no crea una nueva copia de los elementos de lista existentes. Sino que crea un nuevo identificador del mismo objeto o lista."
      ],
      "metadata": {
        "id": "9DbCjnfKPLva"
      }
    },
    {
      "cell_type": "markdown",
      "source": [
        "El corte de listas está permitido en Python, donde una parte de la lista se puede extraer especificando el rango de índice junto con el operador de dos puntos (:) que en sí mismo es una lista.\n",
        "\n",
        "La sintaxis para el corte de listas es:\n",
        "\n",
        "![image.png](data:image/png;base64,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)"
      ],
      "metadata": {
        "id": "TyH-OgNgP6CR"
      }
    },
    {
      "cell_type": "markdown",
      "source": [
        "Donde tanto el inicio como el final son valores enteros (valores positivos o negativos). El corte de lista devuelve una parte de la lista desde el valor del índice de inicio hasta el valor del índice de parada que incluye el valor del índice de inicio pero excluye el valor del índice de parada . El paso especifica el valor de incremento por el que se dividirá y es opcional. Para las\n",
        "frutas de la lista, el desglose del índice positivo y negativo se muestra a continuación.\n",
        "\n",
        "![image.png](data:image/png;base64,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)"
      ],
      "metadata": {
        "id": "r9NLWJNHQUl4"
      }
    },
    {
      "cell_type": "code",
      "source": [
        "fruits = [\"grapefruit\", \"pineapple\", \"blueberries\", \"mango\", \"banana\"]\n",
        "fruits[1:3]"
      ],
      "metadata": {
        "colab": {
          "base_uri": "https://localhost:8080/"
        },
        "id": "DMKeg5Z8QrF5",
        "outputId": "c14cd464-c64e-44d7-9e98-786ec611badd"
      },
      "execution_count": 34,
      "outputs": [
        {
          "output_type": "execute_result",
          "data": {
            "text/plain": [
              "['pineapple', 'blueberries']"
            ]
          },
          "metadata": {},
          "execution_count": 34
        }
      ]
    },
    {
      "cell_type": "code",
      "source": [
        "fruits[:3]"
      ],
      "metadata": {
        "colab": {
          "base_uri": "https://localhost:8080/"
        },
        "id": "JwXbqs26RM4a",
        "outputId": "d6472260-9357-46f5-b946-ae7f2888ca7b"
      },
      "execution_count": 35,
      "outputs": [
        {
          "output_type": "execute_result",
          "data": {
            "text/plain": [
              "['grapefruit', 'pineapple', 'blueberries']"
            ]
          },
          "metadata": {},
          "execution_count": 35
        }
      ]
    },
    {
      "cell_type": "code",
      "source": [
        "fruits[2:]"
      ],
      "metadata": {
        "id": "Xswab88vRRXN"
      },
      "execution_count": null,
      "outputs": []
    },
    {
      "cell_type": "code",
      "source": [
        "fruits[1:4:2]"
      ],
      "metadata": {
        "colab": {
          "base_uri": "https://localhost:8080/"
        },
        "id": "seG5SFjYRUWW",
        "outputId": "da75097f-9076-4f24-987c-1214cd590387"
      },
      "execution_count": 37,
      "outputs": [
        {
          "output_type": "execute_result",
          "data": {
            "text/plain": [
              "['pineapple', 'mango']"
            ]
          },
          "metadata": {},
          "execution_count": 37
        }
      ]
    },
    {
      "cell_type": "code",
      "source": [
        "fruits[:]"
      ],
      "metadata": {
        "colab": {
          "base_uri": "https://localhost:8080/"
        },
        "id": "CRGkXe-9Rk7e",
        "outputId": "f94978b4-b3aa-46dd-ca11-19a79a149e3e"
      },
      "execution_count": 38,
      "outputs": [
        {
          "output_type": "execute_result",
          "data": {
            "text/plain": [
              "['grapefruit', 'pineapple', 'blueberries', 'mango', 'banana']"
            ]
          },
          "metadata": {},
          "execution_count": 38
        }
      ]
    },
    {
      "cell_type": "code",
      "source": [
        "fruits[::2]"
      ],
      "metadata": {
        "colab": {
          "base_uri": "https://localhost:8080/"
        },
        "id": "TNejJM0uRoeY",
        "outputId": "b09cde44-e243-4d2c-cad2-639eab6bf94a"
      },
      "execution_count": 39,
      "outputs": [
        {
          "output_type": "execute_result",
          "data": {
            "text/plain": [
              "['grapefruit', 'blueberries', 'banana']"
            ]
          },
          "metadata": {},
          "execution_count": 39
        }
      ]
    },
    {
      "cell_type": "code",
      "source": [
        "fruits[::-1]"
      ],
      "metadata": {
        "colab": {
          "base_uri": "https://localhost:8080/"
        },
        "id": "QP31LgKPRxxF",
        "outputId": "9cd7ec65-fef5-486c-9828-0aee151149ba"
      },
      "execution_count": 40,
      "outputs": [
        {
          "output_type": "execute_result",
          "data": {
            "text/plain": [
              "['banana', 'mango', 'blueberries', 'pineapple', 'grapefruit']"
            ]
          },
          "metadata": {},
          "execution_count": 40
        }
      ]
    },
    {
      "cell_type": "code",
      "source": [
        "fruits[-3:-1]"
      ],
      "metadata": {
        "colab": {
          "base_uri": "https://localhost:8080/"
        },
        "id": "OM-HCd3yRy_d",
        "outputId": "315b2777-17fe-4b37-b8eb-daaf04543a43"
      },
      "execution_count": 41,
      "outputs": [
        {
          "output_type": "execute_result",
          "data": {
            "text/plain": [
              "['blueberries', 'mango']"
            ]
          },
          "metadata": {},
          "execution_count": 41
        }
      ]
    },
    {
      "cell_type": "markdown",
      "source": [
        "## 6.4 Funciones integradas utilizadas en las listas\n",
        "\n",
        "Hay muchas funciones integradas para las que se puede pasar una lista como argumento (TABLA 6.1)."
      ],
      "metadata": {
        "id": "pqIB2KlPR6Up"
      }
    },
    {
      "cell_type": "markdown",
      "source": [
        "**CUADRO 6.1**\n",
        "Funciones integradas utilizadas en las listas\n",
        "\n",
        "|Funciones Integradas | Descripción |\n",
        "|---------------------|-------------|\n",
        "|len()|La función len() devuelve el número de elementos de una lista|\n",
        "|sum()|función sum() devuelve la suma de los números de la lista.|\n",
        "|any()|La función any() devuelve True si alguno de los valores booleanos de la lista es True|\n",
        "|all()|La función all() devuelve True si todos los valores booleanos de la lista son True, de lo contrario devuelve False|\n",
        "|sorted()|La función sorted() devuelve una copia modificada de la lista y deja intacta la lista original.|\n",
        "\n",
        "Por ejemplo:"
      ],
      "metadata": {
        "id": "j817UzHHSERe"
      }
    },
    {
      "cell_type": "code",
      "source": [
        "lakes = ['superior', 'erie', 'huron', 'ontario', 'powell']\n",
        "len(lakes)"
      ],
      "metadata": {
        "colab": {
          "base_uri": "https://localhost:8080/"
        },
        "id": "l8lefcMDTrZZ",
        "outputId": "432e4311-1a7a-4c16-e336-fd70aa9af43d"
      },
      "execution_count": 42,
      "outputs": [
        {
          "output_type": "execute_result",
          "data": {
            "text/plain": [
              "5"
            ]
          },
          "metadata": {},
          "execution_count": 42
        }
      ]
    },
    {
      "cell_type": "code",
      "source": [
        "numbers = [1, 2, 3, 4, 5]\n",
        "sum(numbers)"
      ],
      "metadata": {
        "colab": {
          "base_uri": "https://localhost:8080/"
        },
        "id": "l0s7j6yiT0I2",
        "outputId": "1a76c380-7d00-4ff0-dda5-d3fd38aedde6"
      },
      "execution_count": 43,
      "outputs": [
        {
          "output_type": "execute_result",
          "data": {
            "text/plain": [
              "15"
            ]
          },
          "metadata": {},
          "execution_count": 43
        }
      ]
    },
    {
      "cell_type": "code",
      "source": [
        "numbers = [1, 2, 3, 4, 5]\n",
        "max(numbers)"
      ],
      "metadata": {
        "colab": {
          "base_uri": "https://localhost:8080/"
        },
        "id": "L2INGXWhUfDL",
        "outputId": "5c94737c-2bf2-4c97-aed0-0b04473e2c82"
      },
      "execution_count": 44,
      "outputs": [
        {
          "output_type": "execute_result",
          "data": {
            "text/plain": [
              "5"
            ]
          },
          "metadata": {},
          "execution_count": 44
        }
      ]
    },
    {
      "cell_type": "code",
      "source": [
        "numbers = [1, 2, 3, 4, 5]\n",
        "min(numbers)"
      ],
      "metadata": {
        "colab": {
          "base_uri": "https://localhost:8080/"
        },
        "id": "m08KltizUmMO",
        "outputId": "1e5f8f5f-1412-46a0-eb0b-96d40a83548d"
      },
      "execution_count": 45,
      "outputs": [
        {
          "output_type": "execute_result",
          "data": {
            "text/plain": [
              "1"
            ]
          },
          "metadata": {},
          "execution_count": 45
        }
      ]
    },
    {
      "cell_type": "code",
      "source": [
        "any([1, 1, 0, 0, 1, 0])"
      ],
      "metadata": {
        "colab": {
          "base_uri": "https://localhost:8080/"
        },
        "id": "hb3Zz1MYUsZ8",
        "outputId": "240bafb0-95ee-4068-8866-669f93a0c7f0"
      },
      "execution_count": 46,
      "outputs": [
        {
          "output_type": "execute_result",
          "data": {
            "text/plain": [
              "True"
            ]
          },
          "metadata": {},
          "execution_count": 46
        }
      ]
    },
    {
      "cell_type": "code",
      "source": [
        "all([1, 1, 1, 1])"
      ],
      "metadata": {
        "colab": {
          "base_uri": "https://localhost:8080/"
        },
        "id": "71Wrmf5fUuAC",
        "outputId": "5e734d46-3ffe-46a4-ebe2-cfafa260eb96"
      },
      "execution_count": 47,
      "outputs": [
        {
          "output_type": "execute_result",
          "data": {
            "text/plain": [
              "True"
            ]
          },
          "metadata": {},
          "execution_count": 47
        }
      ]
    },
    {
      "cell_type": "code",
      "source": [
        "lakes = ['superior', 'erie', 'huron', 'ontario', 'powell']\n",
        "lakes_sorted_new = sorted(lakes)\n",
        "lakes_sorted_new"
      ],
      "metadata": {
        "colab": {
          "base_uri": "https://localhost:8080/"
        },
        "id": "XvC3FGfeU8yC",
        "outputId": "93fa4704-ba7e-4fb7-8933-320c56b30da4"
      },
      "execution_count": 49,
      "outputs": [
        {
          "output_type": "execute_result",
          "data": {
            "text/plain": [
              "['erie', 'huron', 'ontario', 'powell', 'superior']"
            ]
          },
          "metadata": {},
          "execution_count": 49
        }
      ]
    },
    {
      "cell_type": "markdown",
      "source": [
        "## 6.5 Métodos de lista\n",
        "\n",
        "El tamaño de la lista cambia dinámicamente cada vez que agrega o elimina los elementos y no es necesario que lo administre usted mismo. Puede obtener una lista de todos los métodos (TABLA 6.2) asociados con la lista pasando la\n",
        "función de lista a dir()."
      ],
      "metadata": {
        "id": "hDt-czZUVMBA"
      }
    },
    {
      "cell_type": "code",
      "source": [
        "dir(list)"
      ],
      "metadata": {
        "colab": {
          "base_uri": "https://localhost:8080/"
        },
        "id": "i3d48XT-VLko",
        "outputId": "75524efc-408c-48ed-f633-d0da60a88661"
      },
      "execution_count": 50,
      "outputs": [
        {
          "output_type": "execute_result",
          "data": {
            "text/plain": [
              "['__add__',\n",
              " '__class__',\n",
              " '__contains__',\n",
              " '__delattr__',\n",
              " '__delitem__',\n",
              " '__dir__',\n",
              " '__doc__',\n",
              " '__eq__',\n",
              " '__format__',\n",
              " '__ge__',\n",
              " '__getattribute__',\n",
              " '__getitem__',\n",
              " '__gt__',\n",
              " '__hash__',\n",
              " '__iadd__',\n",
              " '__imul__',\n",
              " '__init__',\n",
              " '__init_subclass__',\n",
              " '__iter__',\n",
              " '__le__',\n",
              " '__len__',\n",
              " '__lt__',\n",
              " '__mul__',\n",
              " '__ne__',\n",
              " '__new__',\n",
              " '__reduce__',\n",
              " '__reduce_ex__',\n",
              " '__repr__',\n",
              " '__reversed__',\n",
              " '__rmul__',\n",
              " '__setattr__',\n",
              " '__setitem__',\n",
              " '__sizeof__',\n",
              " '__str__',\n",
              " '__subclasshook__',\n",
              " 'append',\n",
              " 'clear',\n",
              " 'copy',\n",
              " 'count',\n",
              " 'extend',\n",
              " 'index',\n",
              " 'insert',\n",
              " 'pop',\n",
              " 'remove',\n",
              " 'reverse',\n",
              " 'sort']"
            ]
          },
          "metadata": {},
          "execution_count": 50
        }
      ]
    },
    {
      "cell_type": "markdown",
      "source": [
        "Si desea tener información del algún método de las lista utilice la función help(), por ejemplo:"
      ],
      "metadata": {
        "id": "AEulc3-xVj_t"
      }
    },
    {
      "cell_type": "code",
      "source": [
        "help(\"list.copy\")"
      ],
      "metadata": {
        "colab": {
          "base_uri": "https://localhost:8080/"
        },
        "id": "vq8OKJPXVyP8",
        "outputId": "a2fccb73-3b61-4692-eeb0-87b1913ddb54"
      },
      "execution_count": 51,
      "outputs": [
        {
          "output_type": "stream",
          "name": "stdout",
          "text": [
            "Help on method_descriptor in list:\n",
            "\n",
            "list.copy = copy(self, /)\n",
            "    Return a shallow copy of the list.\n",
            "\n"
          ]
        }
      ]
    },
    {
      "cell_type": "code",
      "source": [
        "help(\"list.append\")"
      ],
      "metadata": {
        "colab": {
          "base_uri": "https://localhost:8080/"
        },
        "id": "reKTzSJVV8ta",
        "outputId": "5f817ddc-e402-4d75-efa2-48f3e03a7652"
      },
      "execution_count": 52,
      "outputs": [
        {
          "output_type": "stream",
          "name": "stdout",
          "text": [
            "Help on method_descriptor in list:\n",
            "\n",
            "list.append = append(self, object, /)\n",
            "    Append object to the end of the list.\n",
            "\n"
          ]
        }
      ]
    },
    {
      "cell_type": "markdown",
      "source": [
        "**TABLA 6.2**\n",
        "Varios métodos de lista\n",
        "\n",
        "|Métodos de lista|Sintaxis|Descripción|\n",
        "|-|-|-|\n",
        "|append()|lista.append(elemento)|El método append() agrega un solo elemento al final de la lista. Este método no devuelve una nueva lista y solo modifica la original|\n",
        "|count()|lista.count(elemento)|El método count() cuenta el número de veces que el elemento ha ocurrido en la lista y lo devuelve.|\n",
        "|insert()|lista.insert(index, item)|El método insert() inserta el elemento en el índice dado, desplazando los elementos a la derecha|\n",
        "|extend()|lista.extend(lista2)|El método extend() agrega los elementos en list2 al final de la lista|\n",
        "|index()|lista.index(elemento)|El método index() busca el elemento dado desde el principio de la lista y devuelve su índice. Si el valor aparece más de una vez, obtendrá el índice de la primera. Si el elemento no está presente en la lista, este método arroja ValueError .|\n",
        "|remove()|list.remove(elemento)|El método remove() busca la primera instancia del elemento dado en la lista y lo elimina. Si el elemento no está presente en la lista, este método arroja ValueError|\n",
        "|sort()|lista.sort()|El método sort() ordena los elementos en su lugar en la lista. Este método modifica la lista original y no devuelve una lista nueva|\n",
        "|reverse()|lista.reverse()|El método reverse() invierte los elementos en su lugar en la lista. Este método modifica la lista original y no devuelve una lista nueva|\n",
        "|pop()|lista.pop([index])|El método pop() elimina y devuelve el elemento en el índice dado. Este método devuelve el elemento más a la derecha si se omite el índice|\n",
        "\n",
        "**Nota:** Reemplace la palabra **\"lista\"** mencionada en la sintaxis con el nombre real de su lista en su código.\n",
        "\n",
        "Por ejemplo:"
      ],
      "metadata": {
        "id": "LoM1prPqTlVO"
      }
    },
    {
      "cell_type": "code",
      "source": [
        "cities = [\"oslo\", \"delhi\", \"washington\", \"london\", \"seattle\", \"paris\", \"washington\"]\n",
        "cities.count('seattle')"
      ],
      "metadata": {
        "colab": {
          "base_uri": "https://localhost:8080/"
        },
        "id": "G5w63j9SaxbT",
        "outputId": "bcef5a2c-a587-4f0b-95b1-50827407f596"
      },
      "execution_count": 59,
      "outputs": [
        {
          "output_type": "execute_result",
          "data": {
            "text/plain": [
              "1"
            ]
          },
          "metadata": {},
          "execution_count": 59
        }
      ]
    },
    {
      "cell_type": "code",
      "source": [
        "cities.index('washington')"
      ],
      "metadata": {
        "colab": {
          "base_uri": "https://localhost:8080/"
        },
        "id": "4DIh9I1Xa91Z",
        "outputId": "c1d7d2f6-240e-4c55-e3f0-36bd721c2f20"
      },
      "execution_count": 60,
      "outputs": [
        {
          "output_type": "execute_result",
          "data": {
            "text/plain": [
              "2"
            ]
          },
          "metadata": {},
          "execution_count": 60
        }
      ]
    },
    {
      "cell_type": "code",
      "source": [
        "cities.reverse()\n",
        "cities"
      ],
      "metadata": {
        "colab": {
          "base_uri": "https://localhost:8080/"
        },
        "id": "YJM6mAoCbB38",
        "outputId": "1bef966b-8627-4791-ef27-92ac5abba834"
      },
      "execution_count": 63,
      "outputs": [
        {
          "output_type": "execute_result",
          "data": {
            "text/plain": [
              "['washington', 'paris', 'seattle', 'london', 'washington', 'delhi', 'oslo']"
            ]
          },
          "metadata": {},
          "execution_count": 63
        }
      ]
    },
    {
      "cell_type": "code",
      "source": [
        "cities.append('brussels')\n",
        "cities"
      ],
      "metadata": {
        "colab": {
          "base_uri": "https://localhost:8080/"
        },
        "id": "mWYdl5esbKu4",
        "outputId": "cdcd1327-95c4-43f1-947a-6fca47b85f33"
      },
      "execution_count": 64,
      "outputs": [
        {
          "output_type": "execute_result",
          "data": {
            "text/plain": [
              "['washington',\n",
              " 'paris',\n",
              " 'seattle',\n",
              " 'london',\n",
              " 'washington',\n",
              " 'delhi',\n",
              " 'oslo',\n",
              " 'brussels']"
            ]
          },
          "metadata": {},
          "execution_count": 64
        }
      ]
    },
    {
      "cell_type": "code",
      "source": [
        "cities.sort()\n",
        "cities"
      ],
      "metadata": {
        "colab": {
          "base_uri": "https://localhost:8080/"
        },
        "id": "sNFYShzxbO3C",
        "outputId": "63037f31-cc98-420a-c7ac-a85a7058e4a2"
      },
      "execution_count": 66,
      "outputs": [
        {
          "output_type": "execute_result",
          "data": {
            "text/plain": [
              "['brussels',\n",
              " 'delhi',\n",
              " 'london',\n",
              " 'oslo',\n",
              " 'paris',\n",
              " 'seattle',\n",
              " 'washington',\n",
              " 'washington']"
            ]
          },
          "metadata": {},
          "execution_count": 66
        }
      ]
    },
    {
      "cell_type": "code",
      "source": [
        "cities.pop()\n",
        "cities"
      ],
      "metadata": {
        "colab": {
          "base_uri": "https://localhost:8080/"
        },
        "id": "Mfuuot8TbR8c",
        "outputId": "80fe545e-010b-4c46-8044-90e857c3aca5"
      },
      "execution_count": 67,
      "outputs": [
        {
          "output_type": "execute_result",
          "data": {
            "text/plain": [
              "['brussels', 'delhi', 'london', 'oslo', 'paris', 'seattle', 'washington']"
            ]
          },
          "metadata": {},
          "execution_count": 67
        }
      ]
    },
    {
      "cell_type": "code",
      "source": [
        "more_cities = [\"brussels\", \"copenhagen\"]\n",
        "cities.extend(more_cities)\n",
        "cities"
      ],
      "metadata": {
        "colab": {
          "base_uri": "https://localhost:8080/"
        },
        "id": "DmcaVPz1bTrG",
        "outputId": "97f3230f-4727-4e57-f798-2319170f8e4f"
      },
      "execution_count": 68,
      "outputs": [
        {
          "output_type": "execute_result",
          "data": {
            "text/plain": [
              "['brussels',\n",
              " 'delhi',\n",
              " 'london',\n",
              " 'oslo',\n",
              " 'paris',\n",
              " 'seattle',\n",
              " 'washington',\n",
              " 'brussels',\n",
              " 'copenhagen']"
            ]
          },
          "metadata": {},
          "execution_count": 68
        }
      ]
    },
    {
      "cell_type": "code",
      "source": [
        "cities.remove(\"brussels\")\n",
        "cities"
      ],
      "metadata": {
        "colab": {
          "base_uri": "https://localhost:8080/"
        },
        "id": "1pQgJHEcbsTp",
        "outputId": "7ae61dbe-127b-4105-9520-daf21144d70d"
      },
      "execution_count": 69,
      "outputs": [
        {
          "output_type": "execute_result",
          "data": {
            "text/plain": [
              "['delhi',\n",
              " 'london',\n",
              " 'oslo',\n",
              " 'paris',\n",
              " 'seattle',\n",
              " 'washington',\n",
              " 'brussels',\n",
              " 'copenhagen']"
            ]
          },
          "metadata": {},
          "execution_count": 69
        }
      ]
    },
    {
      "cell_type": "markdown",
      "source": [
        "### 6.5.1 Llenar listas con elementos\n",
        "\n",
        "Formas populares de llenar listas es comenzar con una lista vacía [], luego usar las funciones append() o extend() para agregar elementos a la lista. Por ejemplo:"
      ],
      "metadata": {
        "id": "Q_8_E_kQb6uA"
      }
    },
    {
      "cell_type": "code",
      "source": [
        "continents = []\n",
        "continents.append(\"Asia\")\n",
        "continents.append(\"Europe\")\n",
        "continents.append(\"Africa\")\n",
        "continents"
      ],
      "metadata": {
        "colab": {
          "base_uri": "https://localhost:8080/"
        },
        "id": "zr_il_wRcMpZ",
        "outputId": "614b5aaa-627f-4531-b062-ebaa6460e257"
      },
      "execution_count": 70,
      "outputs": [
        {
          "output_type": "execute_result",
          "data": {
            "text/plain": [
              "['Asia', 'Europe', 'Africa']"
            ]
          },
          "metadata": {},
          "execution_count": 70
        }
      ]
    },
    {
      "cell_type": "markdown",
      "source": [
        "**Programa 6.1: Programa para construir dinámicamente la entrada del usuario como una lista**"
      ],
      "metadata": {
        "id": "xL13tuSfcV9O"
      }
    },
    {
      "cell_type": "code",
      "source": [
        "list_items = input(\"Enter list items separated by a space \").split()\n",
        "print(f\"List items are {list_items}\")"
      ],
      "metadata": {
        "colab": {
          "base_uri": "https://localhost:8080/"
        },
        "id": "M0PNEfM8cbA4",
        "outputId": "7f985a8e-0466-4f52-990f-b7042cf76133"
      },
      "execution_count": 71,
      "outputs": [
        {
          "output_type": "stream",
          "name": "stdout",
          "text": [
            "Enter list items separated by a space 1 2 3 4\n",
            "List items are ['1', '2', '3', '4']\n"
          ]
        }
      ]
    },
    {
      "cell_type": "code",
      "source": [
        "items_of_list = []\n",
        "total_items = int(input(\"Enter the number of items \"))\n",
        "for i in range(total_items):\n",
        "  item = input(\"Enter list item: \")\n",
        "  items_of_list.append(item)\n",
        "  print(f\"List items are {items_of_list}\")"
      ],
      "metadata": {
        "id": "nq0TZT3qcqqI"
      },
      "execution_count": null,
      "outputs": []
    },
    {
      "cell_type": "markdown",
      "source": [
        "**SALIDA**\n",
        "Introduzca los elementos de la lista separados por un espacio Asia Europa África\n",
        "Los elementos de la lista son ['Asia', 'Europa', 'África']\n",
        "Introduce el número de artículos 2\n",
        "Ingrese el elemento de la lista: Australia\n",
        "Ingrese el elemento de la lista: América\n",
        "Los elementos de la lista son ['Australia', 'América']"
      ],
      "metadata": {
        "id": "OPNchOYrdOBr"
      }
    },
    {
      "cell_type": "markdown",
      "source": [
        "### 6.5.2 Recorrido de listas\n",
        "Usando un ciclo for puede iterar a través de cada elemento en una lista."
      ],
      "metadata": {
        "id": "gCzzPurtdpnR"
      }
    },
    {
      "cell_type": "markdown",
      "source": [
        "**Programa 6.2:** Programa para ilustrar el recorrido de listas usando el ciclo for"
      ],
      "metadata": {
        "id": "gn3sIwT1fUJU"
      }
    },
    {
      "cell_type": "code",
      "source": [
        "fast_food = [\"waffles\", \"sandwich\", \"burger\", \"fries\"]\n",
        "\n",
        "for each_food_item in fast_food:\n",
        "  print(f\"I like to eat {each_food_item}\")\n",
        "\n",
        "for each_food_item in [\"waffles\", \"sandwich\", \"burger\", \"fries\"]:\n",
        "  print(f\"I like to eat {each_food_item}\")"
      ],
      "metadata": {
        "id": "bsOJBzMZc9ua"
      },
      "execution_count": null,
      "outputs": []
    },
    {
      "cell_type": "markdown",
      "source": [
        "**Programa 6.3:** Programa para mostrar los valores de índice de elementos en la lista"
      ],
      "metadata": {
        "id": "ndfC3n6ufhNj"
      }
    },
    {
      "cell_type": "code",
      "source": [
        "silicon_valley = [\"google\", \"amd\", \"yahoo\", \"cisco\", \"oracle\"]\n",
        "\n",
        "for index_value in range(len(silicon_valley)):\n",
        "    print(f\"The index value of '{silicon_valley[index_value]}' is {index_value}\")"
      ],
      "metadata": {
        "id": "0T_XwHZNfo2O"
      },
      "execution_count": null,
      "outputs": []
    },
    {
      "cell_type": "markdown",
      "source": [
        "### 6.5.3 Listas anidadas\n",
        "Una lista dentro de otra lista se denomina lista anidada y puede obtener el comportamiento de las listas anidadas en Python almacenando listas dentro de los elementos de otra lista. Puede recorrer los elementos de las listas\n",
        "anidadas utilizando el bucle ***for***.\n",
        "\n",
        "La sintaxis de las listas anidadas es:\n",
        "\n",
        "![image.png](data:image/png;base64,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)"
      ],
      "metadata": {
        "id": "EZZoDtRMf5en"
      }
    },
    {
      "cell_type": "markdown",
      "source": [
        "Cada lista dentro de otra lista está separada por una coma. Por ejemplo:"
      ],
      "metadata": {
        "id": "W7j4LSqDh4qy"
      }
    },
    {
      "cell_type": "code",
      "source": [
        "asia = [[\"India\", \"Japan\", \"Korea\"], [\"Srilanka\", \"Myanmar\", \"Thailand\"], [\"Cambodia\", \"Vietnam\", \"Israel\"]]\n",
        "asia[0]"
      ],
      "metadata": {
        "colab": {
          "base_uri": "https://localhost:8080/"
        },
        "id": "oXfFwfd4kUpj",
        "outputId": "1a725188-8d1f-4f1e-9e85-a3e43b69fa86"
      },
      "execution_count": 75,
      "outputs": [
        {
          "output_type": "execute_result",
          "data": {
            "text/plain": [
              "['India', 'Japan', 'Korea']"
            ]
          },
          "metadata": {},
          "execution_count": 75
        }
      ]
    },
    {
      "cell_type": "code",
      "source": [
        "asia[0][1]"
      ],
      "metadata": {
        "colab": {
          "base_uri": "https://localhost:8080/",
          "height": 35
        },
        "id": "IlLHHc5ik9RA",
        "outputId": "79768643-6c39-4dc8-8cfd-f69d66e97b77"
      },
      "execution_count": 76,
      "outputs": [
        {
          "output_type": "execute_result",
          "data": {
            "text/plain": [
              "'Japan'"
            ],
            "application/vnd.google.colaboratory.intrinsic+json": {
              "type": "string"
            }
          },
          "metadata": {},
          "execution_count": 76
        }
      ]
    },
    {
      "cell_type": "code",
      "source": [
        "asia[1][2] = \"Philippines\"\n",
        "asia"
      ],
      "metadata": {
        "colab": {
          "base_uri": "https://localhost:8080/"
        },
        "id": "8ZkHIdt0lLuo",
        "outputId": "302b6424-014c-4a51-db33-361fb6f46402"
      },
      "execution_count": 77,
      "outputs": [
        {
          "output_type": "execute_result",
          "data": {
            "text/plain": [
              "[['India', 'Japan', 'Korea'],\n",
              " ['Srilanka', 'Myanmar', 'Philippines'],\n",
              " ['Cambodia', 'Vietnam', 'Israel']]"
            ]
          },
          "metadata": {},
          "execution_count": 77
        }
      ]
    },
    {
      "cell_type": "markdown",
      "source": [
        "## 6.6 La declaración ***del***\n",
        "Puede eliminar un elemento de una lista en función de su índice en lugar de su valor. La diferencia entre la instrucción del y la función pop() es que la instrucción del no devuelve ningún valor, mientras que la función pop()\n",
        "devuelve un valor. La instrucción del también se puede usar para eliminar segmentos de una lista o borrar toda la lista."
      ],
      "metadata": {
        "id": "XepZuoi1lAk6"
      }
    },
    {
      "cell_type": "code",
      "source": [
        "a = [5, -8, 99.99, 432, 108, 213]\n",
        "del a[0]\n",
        "a"
      ],
      "metadata": {
        "colab": {
          "base_uri": "https://localhost:8080/"
        },
        "id": "Cye067RLlDKb",
        "outputId": "9e7e6e5b-fb9b-4358-853a-e2655803e718"
      },
      "execution_count": 78,
      "outputs": [
        {
          "output_type": "execute_result",
          "data": {
            "text/plain": [
              "[-8, 99.99, 432, 108, 213]"
            ]
          },
          "metadata": {},
          "execution_count": 78
        }
      ]
    },
    {
      "cell_type": "code",
      "source": [
        "del a[2:4]\n",
        "a"
      ],
      "metadata": {
        "colab": {
          "base_uri": "https://localhost:8080/"
        },
        "id": "Tde_itqgnRsC",
        "outputId": "1fdb7a06-4768-4894-8e7f-7e5f7e554267"
      },
      "execution_count": 79,
      "outputs": [
        {
          "output_type": "execute_result",
          "data": {
            "text/plain": [
              "[-8, 99.99, 213]"
            ]
          },
          "metadata": {},
          "execution_count": 79
        }
      ]
    },
    {
      "cell_type": "code",
      "source": [
        "del a[:]\n",
        "a"
      ],
      "metadata": {
        "colab": {
          "base_uri": "https://localhost:8080/"
        },
        "id": "uvp3vFnznYmt",
        "outputId": "896db1e6-bd36-4b6f-bf39-af122501bdc8"
      },
      "execution_count": 80,
      "outputs": [
        {
          "output_type": "execute_result",
          "data": {
            "text/plain": [
              "[]"
            ]
          },
          "metadata": {},
          "execution_count": 80
        }
      ]
    },
    {
      "cell_type": "markdown",
      "source": [
        "## 6.7 Resumen\n",
        "\n",
        "- Las listas son una estructura de datos básica y útil integrada en el lenguaje Python.\n",
        "- Las funciones integradas incluyen len(), que devuelve la longitud de la lista; max(), que devuelve el elemento máximo de la lista; min(), que devuelve el elemento mínimo de la lista y sum(), que devuelve la suma de todos los elementos de la lista.\n",
        "- Se puede acceder a elementos individuales de la lista mediante el operador de índice [].\n",
        "- Las listas son secuencias mutables que se pueden usar para agregar, eliminar, clasificar e incluso invertir elementos.\n",
        "- El método sort() se utiliza para ordenar los elementos de la lista.\n",
        "- El método split() se puede utilizar para dividir una cadena en una lista.\n",
        "- Lista anidada significa una lista dentro de otra lista.\n",
        "\n",
        "\n"
      ],
      "metadata": {
        "id": "cz0--CvZnplm"
      }
    }
  ]
}