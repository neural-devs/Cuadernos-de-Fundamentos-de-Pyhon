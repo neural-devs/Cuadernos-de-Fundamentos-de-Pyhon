{
  "nbformat": 4,
  "nbformat_minor": 0,
  "metadata": {
    "colab": {
      "provenance": [],
      "collapsed_sections": []
    },
    "kernelspec": {
      "name": "python3",
      "display_name": "Python 3"
    },
    "language_info": {
      "name": "python"
    }
  },
  "cells": [
    {
      "cell_type": "markdown",
      "source": [
        "# 5 Cadenas (Strings)\n",
        "\n",
        "**OBJETIVOS:** Utilice indexación y métodos de cadena integrados para manipular y procesar los valores de cadena."
      ],
      "metadata": {
        "id": "OfNxzrpK510g"
      }
    },
    {
      "cell_type": "markdown",
      "source": [
        "**LOS RESULTADOS DEL APRENDIZAJE:** Al final del capítulo, se espera que usted\n",
        "\n",
        "- Acceder a caracteres individuales en una cadena y aplicar operaciones básicas de cadena. \n",
        "- Buscar y recuperar una subcadena de una cadena. \n",
        "- Usar métodos de cadena para manipular cadenas."
      ],
      "metadata": {
        "id": "HzW9Avs06Ux-"
      }
    },
    {
      "cell_type": "markdown",
      "source": [
        "El uso de cadenas abunda en casi todos los tipos de aplicaciones. Una cadena consta de una secuencia de caracteres, que incluye letras, números, signos de puntuación y espacios. Para representar cadenas, puede usar comillas simples,\n",
        "comillas dobles o comillas triples."
      ],
      "metadata": {
        "id": "cvc5QUwR6yn1"
      }
    },
    {
      "cell_type": "markdown",
      "source": [
        "## 5.1 Creación y almacenamiento de cadenas\n",
        "\n",
        "Las cadenas son otro tipo de datos básico disponible en Python. Constan de uno o más caracteres rodeados de comillas coincidentes. Por ejemplo,\n",
        "\n"
      ],
      "metadata": {
        "id": "mJtkF0vK66sp"
      }
    },
    {
      "cell_type": "code",
      "source": [
        "comilla_simple = 'This is a single message'\n",
        "\n",
        "double_comilla = \"Hey it is my book\"\n",
        "\n",
        "caracter_simple = \"A\"\n",
        "\n",
        "cadena_vacia = \"\"\n",
        "\n",
        "cadena_vacia = ''\n",
        "\n",
        "comilla_simple_entre_comillas_dobles = \"Opportunities don't happen. You create them.\"\n",
        "\n",
        "doble_comilla_simple_entre_comillas_dobles = \"Why did she call the man 'smart'?\"\n",
        "\n",
        "comillas_iguales = 'I\\'ve an idea'\n",
        "\n",
        "cadena_entre_triple_comilla = '''Esta\n",
        "… es\n",
        "… triple\n",
        "… comilla'''\n",
        "\n",
        "cadena_de_comillas_triples = 'Este\\es\\ntriple\\ncita'"
      ],
      "metadata": {
        "id": "UkVzX1sL65fI"
      },
      "execution_count": null,
      "outputs": []
    },
    {
      "cell_type": "code",
      "source": [
        "comillas_iguales = 'I've an idea'"
      ],
      "metadata": {
        "colab": {
          "base_uri": "https://localhost:8080/",
          "height": 131
        },
        "id": "72s_jTWwWTTa",
        "outputId": "4e863d17-6b6a-41ee-b27b-6b35fe531c64"
      },
      "execution_count": 41,
      "outputs": [
        {
          "output_type": "error",
          "ename": "SyntaxError",
          "evalue": "ignored",
          "traceback": [
            "\u001b[0;36m  File \u001b[0;32m\"<ipython-input-41-d3d0e5f8b93c>\"\u001b[0;36m, line \u001b[0;32m1\u001b[0m\n\u001b[0;31m    comillas_iguales = 'I've an idea'\u001b[0m\n\u001b[0m                           ^\u001b[0m\n\u001b[0;31mSyntaxError\u001b[0m\u001b[0;31m:\u001b[0m invalid syntax\n"
          ]
        }
      ]
    },
    {
      "cell_type": "code",
      "source": [
        "comillas_iguales = \"I've an idea\"\n",
        "comillas_iguales"
      ],
      "metadata": {
        "colab": {
          "base_uri": "https://localhost:8080/",
          "height": 35
        },
        "id": "7TWOln6qWfeH",
        "outputId": "afc3e3a4-f12f-4011-f8a3-8efdfbf8428d"
      },
      "execution_count": 45,
      "outputs": [
        {
          "output_type": "execute_result",
          "data": {
            "text/plain": [
              "\"I've an idea\""
            ],
            "application/vnd.google.colaboratory.intrinsic+json": {
              "type": "string"
            }
          },
          "metadata": {},
          "execution_count": 45
        }
      ]
    },
    {
      "cell_type": "code",
      "source": [
        "comillas_iguales = 'I\\'ve an idea'\n",
        "comillas_iguales"
      ],
      "metadata": {
        "colab": {
          "base_uri": "https://localhost:8080/",
          "height": 35
        },
        "id": "GfAkAxC1WpQL",
        "outputId": "ffb362c2-7590-4ac3-f802-4a9a85bd185f"
      },
      "execution_count": 46,
      "outputs": [
        {
          "output_type": "execute_result",
          "data": {
            "text/plain": [
              "\"I've an idea\""
            ],
            "application/vnd.google.colaboratory.intrinsic+json": {
              "type": "string"
            }
          },
          "metadata": {},
          "execution_count": 46
        }
      ]
    },
    {
      "cell_type": "code",
      "source": [
        "comillas_iguales = \"I\\\"ve an idea\"\n",
        "comillas_iguales"
      ],
      "metadata": {
        "colab": {
          "base_uri": "https://localhost:8080/",
          "height": 35
        },
        "id": "n7a1s9XBXQPY",
        "outputId": "12232a6b-eea6-458a-f4f9-a74df30dd4f0"
      },
      "execution_count": 47,
      "outputs": [
        {
          "output_type": "execute_result",
          "data": {
            "text/plain": [
              "'I\"ve an idea'"
            ],
            "application/vnd.google.colaboratory.intrinsic+json": {
              "type": "string"
            }
          },
          "metadata": {},
          "execution_count": 47
        }
      ]
    },
    {
      "cell_type": "markdown",
      "source": [
        "Las cadenas están rodeadas por comillas simples o dobles. Para almacenar una cadena dentro de una variable, solo necesita asignar una cadena a una variable. En el código anterior, todas las variables del lado izquierdo del\n",
        "operador de asignación son variables de cadena. Un solo carácter también se trata como una cadena. Una cadena no necesita tener ningún carácter en ella. Ambos '' y \"\" son cadenas válidas, llamadas cadenas vacías. Una cadena\n",
        "entre comillas dobles puede contener comillas simples. Del mismo modo, una cadena entre comillas simples puede contener comillas dobles. Básicamente, si un tipo de comillas rodea la cadena, debe usar el otro tipo dentro de ella.\n",
        "Si desea incluir las mismas comillas dentro de una cadena que usó para encerrar la cadena, entonces debe anteponer la comilla interna con una barra invertida. Si tiene una cadena que abarca varias líneas, puede incluirse entre comillas triples. Todos los espacios en blanco y las nuevas líneas utilizadas dentro de las comillas triples se reflejan literalmente en la cadena. Puede encontrar el tipo de una variable pasándola como argumento a la función type(). Las cadenas de Python son del tipo de datos **str**."
      ],
      "metadata": {
        "id": "odA1opoL-XH-"
      }
    },
    {
      "cell_type": "markdown",
      "source": [
        "### 5.1.1 La función str()\n",
        "\n",
        "La función str() devuelve una cadena que se considera una representación informal o bien imprimible del objeto dado. La sintaxis de la función str() es:\n",
        "\n",
        "**str(object)**\n",
        "\n",
        "Devuelve una versión de cadena del objeto. Si no se proporciona el objeto, devuelve una cadena vacía."
      ],
      "metadata": {
        "id": "-Iqe9Jan_rtl"
      }
    },
    {
      "cell_type": "code",
      "execution_count": 48,
      "metadata": {
        "colab": {
          "base_uri": "https://localhost:8080/",
          "height": 35
        },
        "id": "F73QSeCf5vrB",
        "outputId": "95701088-8047-4db2-9f4c-ee8a9972635c"
      },
      "outputs": [
        {
          "output_type": "execute_result",
          "data": {
            "text/plain": [
              "'10'"
            ],
            "application/vnd.google.colaboratory.intrinsic+json": {
              "type": "string"
            }
          },
          "metadata": {},
          "execution_count": 48
        }
      ],
      "source": [
        "# Aquí el tipo entero se convierte en tipo cadena. Observe las comillas simples para representar la cadena.\n",
        "\n",
        "str(10)"
      ]
    },
    {
      "cell_type": "code",
      "source": [
        "# create_string es una cadena vacía y de tipo str\n",
        "\n",
        "create_string = str()\n",
        "type(create_string)"
      ],
      "metadata": {
        "colab": {
          "base_uri": "https://localhost:8080/"
        },
        "id": "hixpJD5_AorT",
        "outputId": "b4f9b8be-753c-4e80-e415-8e55e85c4529"
      },
      "execution_count": 49,
      "outputs": [
        {
          "output_type": "execute_result",
          "data": {
            "text/plain": [
              "str"
            ]
          },
          "metadata": {},
          "execution_count": 49
        }
      ]
    },
    {
      "cell_type": "markdown",
      "source": [
        "## 5.2 Operaciones básicas con cadenas\n",
        "\n",
        "En Python, las cadenas también se pueden concatenar usando el signo + y el operador * se usa para crear una secuencia repetida de cadenas"
      ],
      "metadata": {
        "id": "Ds2B4L9XBJPz"
      }
    },
    {
      "cell_type": "code",
      "source": [
        "cadena_1 = \"Face\"\n",
        "cadena_2 = \"book\"\n",
        "cadena_concatenada = cadena_1 + cadena_2\n",
        "cadena_concatenada"
      ],
      "metadata": {
        "colab": {
          "base_uri": "https://localhost:8080/",
          "height": 35
        },
        "id": "s5oN-92eBT7Q",
        "outputId": "56228abe-7b17-4472-f833-1c526a687cf9"
      },
      "execution_count": 50,
      "outputs": [
        {
          "output_type": "execute_result",
          "data": {
            "text/plain": [
              "'Facebook'"
            ],
            "application/vnd.google.colaboratory.intrinsic+json": {
              "type": "string"
            }
          },
          "metadata": {},
          "execution_count": 50
        }
      ]
    },
    {
      "cell_type": "code",
      "source": [
        "cadena_concatenada_con_espacio = \"Hola \"+\"amigos\"\n",
        "cadena_concatenada_con_espacio"
      ],
      "metadata": {
        "colab": {
          "base_uri": "https://localhost:8080/",
          "height": 35
        },
        "id": "5UJLMwowCC4f",
        "outputId": "916c41fb-47b2-46dc-d3ab-5c42d0050557"
      },
      "execution_count": 52,
      "outputs": [
        {
          "output_type": "execute_result",
          "data": {
            "text/plain": [
              "'Hola amigos'"
            ],
            "application/vnd.google.colaboratory.intrinsic+json": {
              "type": "string"
            }
          },
          "metadata": {},
          "execution_count": 52
        }
      ]
    },
    {
      "cell_type": "code",
      "source": [
        "Precio = 50 + \"centavos\""
      ],
      "metadata": {
        "id": "GmsAmn5aCZix"
      },
      "execution_count": null,
      "outputs": []
    },
    {
      "cell_type": "code",
      "source": [
        "Precio = str(50) + \"centavos\"\n",
        "Precio"
      ],
      "metadata": {
        "colab": {
          "base_uri": "https://localhost:8080/",
          "height": 35
        },
        "id": "PxH7P5OKC6nS",
        "outputId": "dbc85dea-5491-465a-eb73-b10dbb7f6ef9"
      },
      "execution_count": 54,
      "outputs": [
        {
          "output_type": "execute_result",
          "data": {
            "text/plain": [
              "'50centavos'"
            ],
            "application/vnd.google.colaboratory.intrinsic+json": {
              "type": "string"
            }
          },
          "metadata": {},
          "execution_count": 54
        }
      ]
    },
    {
      "cell_type": "code",
      "source": [
        "Precio = str(50) +\" \"+ \"centavos\"\n",
        "Precio"
      ],
      "metadata": {
        "colab": {
          "base_uri": "https://localhost:8080/",
          "height": 35
        },
        "id": "pvbVZQC3a-r-",
        "outputId": "3605f9e0-c72e-48db-fbaa-eed36da562ec"
      },
      "execution_count": 55,
      "outputs": [
        {
          "output_type": "execute_result",
          "data": {
            "text/plain": [
              "'50 centavos'"
            ],
            "application/vnd.google.colaboratory.intrinsic+json": {
              "type": "string"
            }
          },
          "metadata": {},
          "execution_count": 55
        }
      ]
    },
    {
      "cell_type": "code",
      "source": [
        "repetición_de_cadena = \"wow\" * 5\n",
        "repetición_de_cadena"
      ],
      "metadata": {
        "colab": {
          "base_uri": "https://localhost:8080/",
          "height": 35
        },
        "id": "sxalv3TFDI-J",
        "outputId": "a98785d3-f01d-4322-a5a9-d085c347914e"
      },
      "execution_count": 58,
      "outputs": [
        {
          "output_type": "execute_result",
          "data": {
            "text/plain": [
              "'wowwowwowwowwow'"
            ],
            "application/vnd.google.colaboratory.intrinsic+json": {
              "type": "string"
            }
          },
          "metadata": {},
          "execution_count": 58
        }
      ]
    },
    {
      "cell_type": "markdown",
      "source": [
        "Se asignan dos variables de cadena con valores de cadena \"Face\" y \"book\". La cadena_1 y la cadena_2 se concatenan usando el operador + para formar una nueva cadena. La nueva cadena concatenated_string tiene los valores de ambas cadenas. Como puede ver en la salida, no hay espacio entre los dos valores de cadena\n",
        "concatenados. Si necesita espacios en blanco entre cadenas concatenadas, todo lo que necesita hacer es incluir espacios en blanco dentro de una cadena. No puede usar el operador + para concatenar valores de dos tipos diferentes. Por ejemplo, no puede concatenar el tipo de datos de cadena con el tipo de datos entero. Debe convertir el tipo entero en tipo cadena y luego concatenar los valores. Puedes usar el operador de multiplicación en una cadena. Repite la cadena la cantidad de veces que especifique y el valor de la cadena \"wow\" se repite cinco veces."
      ],
      "metadata": {
        "id": "WEssC1K1DSPF"
      }
    },
    {
      "cell_type": "markdown",
      "source": [
        "**IMPORTANTE**\n",
        "\n",
        "Python no puede concatenar valor de cadena con valor entero ya que son de diferentes tipos de datos. Debe convertir el tipo entero en tipo cadena antes de concatenar valores enteros y cadenas."
      ],
      "metadata": {
        "id": "xX1s07YhEbyS"
      }
    },
    {
      "cell_type": "markdown",
      "source": [
        "**Operadores in y not in**\n",
        "\n",
        "Puede verificar la presencia de una cadena en otra cadena utilizando los operadores **in** y **not in**. Devuelve un valor booleano verdadero o falso. El operador **in** se evalúa como True si el valor de cadena en el operando izquierdo aparece en la secuencia de caracteres del valor de cadena en el operando derecho. El operador **not in** se evalúa como True si el valor de cadena en el operando izquierdo no aparece en la secuencia de caracteres del valor de cadena en el operando derecho."
      ],
      "metadata": {
        "id": "frBQFWD0Ei-l"
      }
    },
    {
      "cell_type": "code",
      "source": [
        "fruit_string = \"apple is a fruit\"\n",
        "fruit_sub_string = \"apple\"\n",
        "fruit_sub_string in fruit_string"
      ],
      "metadata": {
        "colab": {
          "base_uri": "https://localhost:8080/"
        },
        "id": "fk8DPBxkFMWB",
        "outputId": "b57487ec-5af0-4b08-d60e-46ae7785ab9d"
      },
      "execution_count": 60,
      "outputs": [
        {
          "output_type": "execute_result",
          "data": {
            "text/plain": [
              "False"
            ]
          },
          "metadata": {},
          "execution_count": 60
        }
      ]
    },
    {
      "cell_type": "code",
      "source": [
        "\"apple\" in fruit_string"
      ],
      "metadata": {
        "colab": {
          "base_uri": "https://localhost:8080/"
        },
        "id": "qaZY1ekZbuG3",
        "outputId": "927618e3-1ecd-43e7-ecd2-75ae322cdaeb"
      },
      "execution_count": 61,
      "outputs": [
        {
          "output_type": "execute_result",
          "data": {
            "text/plain": [
              "True"
            ]
          },
          "metadata": {},
          "execution_count": 61
        }
      ]
    },
    {
      "cell_type": "code",
      "source": [
        "another_fruit_string = \"orange\"\n",
        "another_fruit_string not in fruit_string"
      ],
      "metadata": {
        "colab": {
          "base_uri": "https://localhost:8080/"
        },
        "id": "AhDdvU5mFaYH",
        "outputId": "d3bac4eb-7c15-4799-b84f-73b6069fe5af"
      },
      "execution_count": 62,
      "outputs": [
        {
          "output_type": "execute_result",
          "data": {
            "text/plain": [
              "True"
            ]
          },
          "metadata": {},
          "execution_count": 62
        }
      ]
    },
    {
      "cell_type": "markdown",
      "source": [
        "### 5.2.1 Comparación de cadenas\n",
        "\n",
        "Puede usar (>, <, <=, >=, ==, !=) para comparar dos cadenas que resulten en Boolean True o valor False . Python compara cadenas usando el valor ASCII de los caracteres. Por ejemplo:\n"
      ],
      "metadata": {
        "id": "Xh7WWW6dAsHM"
      }
    },
    {
      "cell_type": "code",
      "source": [
        "\"january\" == \"jane\"\n",
        "False\n",
        "\"january\" != \"jane\"\n",
        "True\n",
        "\"january\" < \"jane\"\n",
        "False\n",
        "\"january\" > \"jane\"\n",
        "True\n",
        "\"january\" <= \"jane\"\n",
        "False\n",
        "\"january\" >= \"jane\"\n",
        "True\n",
        "\"filled\" > \"\"\n",
        "True"
      ],
      "metadata": {
        "id": "_EII2vxOGBki"
      },
      "execution_count": null,
      "outputs": []
    },
    {
      "cell_type": "markdown",
      "source": [
        "Las cadenas se pueden comparar utilizando varios operadores de comparación. La igualdad de cadenas es comparado usando == (doble signo igual). La desigualdad de cadenas se compara usando el signo !=. Supongamos que tiene string_1 como \"january\" y string_2 como \"jane\". Los dos primeros personajes de string_1 y string_2 (j y j) se comparan. Como son iguales, los dos segundos caracteres\n",
        "se comparan (a y a). Como también son iguales, los dos terceros caracteres (n y n) se comparan. Dado que los terceros caracteres tambien son iguales, el cuarto caracter de ambos las cadenas se comparan y debido a que 'u' tiene un valor ASCII mayor que 'e', ​​​​string_1 es mayor que string_2. Incluso puede comparar una cadena con una cadena vacía."
      ],
      "metadata": {
        "id": "_02OYYqAGXt-"
      }
    },
    {
      "cell_type": "markdown",
      "source": [
        "### 5.2.2 Funciones integradas utilizadas en cadenas\n",
        "\n",
        "Hay muchas funciones integradas para las que se puede pasar una cadena como argumento (TABLA 5.1)."
      ],
      "metadata": {
        "id": "UBhVIjU2HUHD"
      }
    },
    {
      "cell_type": "markdown",
      "source": [
        "Funciones integradas | Descripción | \n",
        "--- | --- |\n",
        "len()|La función len() calcula el número de caracteres en una cadena. <br> Los caracteres de espacio en blanco también se\n",
        "cuentan | \n",
        "max()|La función max() devuelve un carácter que tiene el valor ASCII más alto. |\n",
        "min()|La función min() devuelve el carácter que tiene el valor ASCII más bajo |"
      ],
      "metadata": {
        "id": "4LqIE__pHhxK"
      }
    },
    {
      "cell_type": "code",
      "source": [
        "count_characters = len(\"eskimos\")\n",
        "count_characters"
      ],
      "metadata": {
        "colab": {
          "base_uri": "https://localhost:8080/"
        },
        "id": "FhuHHusiHgCK",
        "outputId": "88802d3d-e1e1-4304-b52b-b9cd2eac81d8"
      },
      "execution_count": 63,
      "outputs": [
        {
          "output_type": "execute_result",
          "data": {
            "text/plain": [
              "7"
            ]
          },
          "metadata": {},
          "execution_count": 63
        }
      ]
    },
    {
      "cell_type": "code",
      "source": [
        "max(\"axel\")"
      ],
      "metadata": {
        "colab": {
          "base_uri": "https://localhost:8080/",
          "height": 35
        },
        "id": "eR3nZE67K-h2",
        "outputId": "f3304fcd-2c09-4422-d16e-a5ab8164bed5"
      },
      "execution_count": 64,
      "outputs": [
        {
          "output_type": "execute_result",
          "data": {
            "text/plain": [
              "'x'"
            ],
            "application/vnd.google.colaboratory.intrinsic+json": {
              "type": "string"
            }
          },
          "metadata": {},
          "execution_count": 64
        }
      ]
    },
    {
      "cell_type": "code",
      "source": [
        "min(\"brad\")"
      ],
      "metadata": {
        "colab": {
          "base_uri": "https://localhost:8080/",
          "height": 35
        },
        "id": "eLu7aL79LAn2",
        "outputId": "4c03001c-60d3-4744-a042-d062c96e0e5f"
      },
      "execution_count": 65,
      "outputs": [
        {
          "output_type": "execute_result",
          "data": {
            "text/plain": [
              "'a'"
            ],
            "application/vnd.google.colaboratory.intrinsic+json": {
              "type": "string"
            }
          },
          "metadata": {},
          "execution_count": 65
        }
      ]
    },
    {
      "cell_type": "markdown",
      "source": [
        "El número de caracteres en la cadena \"esquimales\" ÿ se calcula usando la función len(). Los caracteres con el valor ASCII más alto y más bajo se calculan usando las funciones max() y min()."
      ],
      "metadata": {
        "id": "Ca_QWXBeLKWb"
      }
    },
    {
      "cell_type": "markdown",
      "source": [
        "## 5.3 Acceder a los caracteres de la cadena por número de índice\n",
        "\n",
        "Cada carácter de la cadena ocupa una posición en la cadena. Cada uno de los caracteres de la cadena corresponde a un número de índice. El primer carácter está en el índice 0; el siguiente carácter está en el índice 1, y así sucesivamente. La longitud de una cadena es el número de caracteres que contiene. Puede acceder a cada carácter de una cadena mediante un operador de subíndice, es decir, un corchete. Los corchetes se utilizan para realizar la indexación en una cadena para obtener el valor en un índice o posición específicos. Esto también se llama operador de subíndice.\n",
        "\n",
        "El desglose del índice para la cadena \"sé tú mismo\" asignada a la variable de cadena **word_phrase** se muestra a continuación:\n",
        "\n",
        "![image.png](data:image/png;base64,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)"
      ],
      "metadata": {
        "id": "ORshpt_iLbXz"
      }
    },
    {
      "cell_type": "markdown",
      "source": [
        "La sintaxis para acceder a un carácter individual en una cadena se muestra a continuación:\n",
        "\n",
        "**cadena_nombre[índice]**\n",
        "\n",
        "Donde el índice suele estar en el rango de 0 a uno menos que la longitud de la cadena. El valor de index siempre debe ser un número entero e indica el carácter al que se accede."
      ],
      "metadata": {
        "id": "KWa1AEi9MFHQ"
      }
    },
    {
      "cell_type": "code",
      "source": [
        "word_phrase = \"be yourself\"\n",
        "\n",
        "print(word_phrase[0])\n",
        "print(word_phrase[1])\n",
        "print(word_phrase[2])\n",
        "print(word_phrase[3])\n",
        "print(word_phrase[4])\n",
        "print(word_phrase[5])\n",
        "print(word_phrase[6])\n",
        "print(word_phrase[7])\n",
        "print(word_phrase[8])\n",
        "print(word_phrase[9])\n",
        "print(word_phrase[10])"
      ],
      "metadata": {
        "id": "Q3gvdOfyOxJj",
        "colab": {
          "base_uri": "https://localhost:8080/"
        },
        "outputId": "cd393421-0905-4073-83a7-43b89b5fe5d5"
      },
      "execution_count": 66,
      "outputs": [
        {
          "output_type": "stream",
          "name": "stdout",
          "text": [
            "b\n",
            "e\n",
            " \n",
            "y\n",
            "o\n",
            "u\n",
            "r\n",
            "s\n",
            "e\n",
            "l\n",
            "f\n"
          ]
        }
      ]
    },
    {
      "cell_type": "code",
      "source": [
        "print(word_phrase[0], word_phrase[1], word_phrase[2])"
      ],
      "metadata": {
        "colab": {
          "base_uri": "https://localhost:8080/"
        },
        "id": "bYV1EH29eFZc",
        "outputId": "01d99be3-5a66-40bf-92b9-ed912aedc260"
      },
      "execution_count": 68,
      "outputs": [
        {
          "output_type": "stream",
          "name": "stdout",
          "text": [
            "b e  \n"
          ]
        }
      ]
    },
    {
      "cell_type": "code",
      "source": [
        "print(word_phrase[11])"
      ],
      "metadata": {
        "id": "QyCKsSdoPW4W",
        "colab": {
          "base_uri": "https://localhost:8080/",
          "height": 166
        },
        "outputId": "1df5f918-fa80-442c-f278-00dfda3fad50"
      },
      "execution_count": 80,
      "outputs": [
        {
          "output_type": "error",
          "ename": "IndexError",
          "evalue": "ignored",
          "traceback": [
            "\u001b[0;31m---------------------------------------------------------------------------\u001b[0m",
            "\u001b[0;31mIndexError\u001b[0m                                Traceback (most recent call last)",
            "\u001b[0;32m<ipython-input-80-ca29b4a0dadc>\u001b[0m in \u001b[0;36m<module>\u001b[0;34m\u001b[0m\n\u001b[0;32m----> 1\u001b[0;31m \u001b[0mprint\u001b[0m\u001b[0;34m(\u001b[0m\u001b[0mword_phrase\u001b[0m\u001b[0;34m[\u001b[0m\u001b[0;36m11\u001b[0m\u001b[0;34m]\u001b[0m\u001b[0;34m)\u001b[0m\u001b[0;34m\u001b[0m\u001b[0;34m\u001b[0m\u001b[0m\n\u001b[0m",
            "\u001b[0;31mIndexError\u001b[0m: string index out of range"
          ]
        }
      ]
    },
    {
      "cell_type": "markdown",
      "source": [
        "Al hacer referencia a los números de índice entre corchetes, puede acceder a caracteres individuales en una cadena. El número de índice comienza con cero correspondiente al primer carácter de la cadena. El número de índice aumenta en uno a medida que avanzamos para acceder a la siguiente letra a la derecha de la letra actual. El carácter de espacio en blanco entre ser y usted mismo tiene su propio número de índice, es decir, el último carácter de la cadena está referenciado por un valor de índice que es el (tamaño de la cadena – 1) o (len(cadena) – 1). Si intenta especificar un número de índice mayor que el número de caracteres en la cadena, entonces resulta en IndexError: error de índice de cadena fuera de rango."
      ],
      "metadata": {
        "id": "1JpDajsBPdhC"
      }
    },
    {
      "cell_type": "markdown",
      "source": [
        "También puede acceder a caracteres individuales en una cadena mediante la indexación negativa. Si tiene una cadena larga y desea acceder a los caracteres finales de la cadena, puede contar hacia atrás desde el final de la cadena a partir de un número de índice de -1. El desglose del índice negativo para la cadena \"sé tú mismo\" asignada a la variable de cadena **word_phrase** se\n",
        "muestra a continuación:\n",
        "\n",
        "![image.png](data:image/png;base64,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)"
      ],
      "metadata": {
        "id": "feoinaUKP5vH"
      }
    },
    {
      "cell_type": "code",
      "source": [
        "print(word_phrase[-1])\n",
        "\n",
        "print(word_phrase[-2])"
      ],
      "metadata": {
        "colab": {
          "base_uri": "https://localhost:8080/"
        },
        "id": "x0RUyf6ZRRjK",
        "outputId": "2fb0b339-b299-44a6-c40d-7db0c73e0154"
      },
      "execution_count": 69,
      "outputs": [
        {
          "output_type": "stream",
          "name": "stdout",
          "text": [
            "f\n",
            "l\n"
          ]
        }
      ]
    },
    {
      "cell_type": "markdown",
      "source": [
        "Al usar el número de índice negativo de -11, puede imprimir el carácter 'f' ÿ, el número de índice negativo de -2 imprime el carácter 'l' ÿ. Puede  beneficiarse del uso de la indexación negativa cuando desee acceder a los caracteres al final de una cadena larga."
      ],
      "metadata": {
        "id": "rWpZlApcRsOn"
      }
    },
    {
      "cell_type": "markdown",
      "source": [
        "## 5.4 Corte y unión de cadenas\n",
        "\n",
        "La sintaxis de \"segmento\" es una forma práctica de referirse a subpartes de una secuencia de caracteres dentro de una cadena original. La sintaxis para cortar cadenas es:\n",
        "\n",
        "![image.png](data:image/png;base64,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)"
      ],
      "metadata": {
        "id": "qI0zXqteQMO4"
      }
    },
    {
      "cell_type": "markdown",
      "source": [
        "Con el corte de cadenas, puede acceder a una secuencia de caracteres especificando un rango de números de índice separados por dos puntos. El corte de cadenas devuelve una secuencia de caracteres que comienza en el inicio y se extiende hasta el final, pero sin incluirlo. Los valores de indexación inicial y final deben ser números enteros. El corte de cadenas se puede realizar mediante indexación positiva o negativa.\n",
        "\n",
        "![image.png](data:image/png;base64,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)\n",
        "\n"
      ],
      "metadata": {
        "id": "0A1nM8L9SRUk"
      }
    },
    {
      "cell_type": "code",
      "source": [
        "healthy_drink = \"green tea\"\n",
        "print(healthy_drink[0:3])"
      ],
      "metadata": {
        "colab": {
          "base_uri": "https://localhost:8080/"
        },
        "id": "fa_Jy1R-SkZy",
        "outputId": "57acaa88-80f8-47fc-d81f-5b18bcf145f3"
      },
      "execution_count": 70,
      "outputs": [
        {
          "output_type": "stream",
          "name": "stdout",
          "text": [
            "gre\n"
          ]
        }
      ]
    },
    {
      "cell_type": "code",
      "source": [
        "print(healthy_drink[:5])"
      ],
      "metadata": {
        "colab": {
          "base_uri": "https://localhost:8080/"
        },
        "id": "3byBNiRSfi2R",
        "outputId": "57865d59-f27e-4180-ac91-de68b714cb2b"
      },
      "execution_count": 71,
      "outputs": [
        {
          "output_type": "stream",
          "name": "stdout",
          "text": [
            "green\n"
          ]
        }
      ]
    },
    {
      "cell_type": "code",
      "source": [
        "print(healthy_drink[6:])"
      ],
      "metadata": {
        "colab": {
          "base_uri": "https://localhost:8080/"
        },
        "id": "RKHM19iAfv3P",
        "outputId": "c2204227-4ab7-48b0-894c-868c272ad639"
      },
      "execution_count": 72,
      "outputs": [
        {
          "output_type": "stream",
          "name": "stdout",
          "text": [
            "tea\n"
          ]
        }
      ]
    },
    {
      "cell_type": "code",
      "source": [
        "print(healthy_drink[:])"
      ],
      "metadata": {
        "colab": {
          "base_uri": "https://localhost:8080/"
        },
        "id": "0VUe2xQpgA2H",
        "outputId": "32f3137d-fa24-4262-86f6-7907ee17c245"
      },
      "execution_count": 73,
      "outputs": [
        {
          "output_type": "stream",
          "name": "stdout",
          "text": [
            "green tea\n"
          ]
        }
      ]
    },
    {
      "cell_type": "code",
      "source": [
        "print(healthy_drink[4:4])"
      ],
      "metadata": {
        "colab": {
          "base_uri": "https://localhost:8080/"
        },
        "id": "JoxVSrWlgZMF",
        "outputId": "4e43f181-aa27-48ff-b2e2-ac82c2fd0145"
      },
      "execution_count": 78,
      "outputs": [
        {
          "output_type": "stream",
          "name": "stdout",
          "text": [
            "\n"
          ]
        }
      ]
    },
    {
      "cell_type": "code",
      "source": [
        "print(healthy_drink[6:20])"
      ],
      "metadata": {
        "colab": {
          "base_uri": "https://localhost:8080/"
        },
        "id": "1Gstnv6hfXhz",
        "outputId": "aade36da-ac0c-4b5e-e34d-0f610566c48e"
      },
      "execution_count": 79,
      "outputs": [
        {
          "output_type": "stream",
          "name": "stdout",
          "text": [
            "tea\n"
          ]
        }
      ]
    },
    {
      "cell_type": "markdown",
      "source": [
        "Se crea una subcadena al dividir las cadenas, que es básicamente una cadena que ya existe dentro de otra cadena. Una subcadena es cualquier secuencia de caracteres contenida en una cadena. La cadena \"green tea\" se asigna a\n",
        "la variable bebida_saludable y se extrae una secuencia de caracteres o una subcadena desde el principio (Índice 0) hasta el tercer carácter (Índice 2). En el corte de cadenas, el valor de índice inicial (incluido) es donde comienza\n",
        "el corte y el valor de índice final (excluyendo) es donde termina el corte. Si se omite el índice de inicio , el corte comienza desde el primer número de índice (Índice 0) hasta el índice final (excluyendo) en la cadena. Luego se\n",
        "imprime la subcadena que comienza desde el índice 0 hasta el índice 4. Si se omite el índice final , el corte comienza desde el índice inicial y sube hasta el final del índice de cadena.Se crea una subcadena al dividir las cadenas, que es básicamente una cadena que ya existe dentro de otra cadena. Una subcadena es cualquier secuencia de caracteres contenida en una cadena. La cadena \"green tea\" se asigna a la variable bebida_saludable ÿ y se extrae una secuencia de caracteres o una subcadena desde el principio (Índice 0) hasta el tercer carácter (Índice 2). En el corte de cadenas, el valor de índice inicial (incluido) es donde comienza el corte y el valor de índice final (excluyendo) es donde termina el corte. Si se omite el índice de inicio , el corte\n",
        "comienza desde el primer número de índice (Índice 0) hasta el índice final (excluyendo) en la cadena. Luego se imprime la subcadena que comienza desde el índice 0 hasta el índice 4. Si se omite el índice final , el corte comienza desde el índice inicial y sube hasta el final del índice de cadena."
      ],
      "metadata": {
        "id": "le8Wi8VKS-z3"
      }
    },
    {
      "cell_type": "markdown",
      "source": [
        "El corte también se puede hacer usando los números enteros negativos.\n",
        "\n",
        "![image.png](data:image/png;base64,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)"
      ],
      "metadata": {
        "id": "0Rg2znLdTAso"
      }
    },
    {
      "cell_type": "markdown",
      "source": [
        "El índice negativo se puede usar para acceder a caracteres individuales en una cadena. La indexación negativa comienza con el índice -1 correspondiente al último carácter de la cadena y luego el índice disminuye en uno a medida que nos movemos hacia la izquierda."
      ],
      "metadata": {
        "id": "rXdSyK93Bdwu"
      }
    },
    {
      "cell_type": "code",
      "source": [
        "healthy_drink[-3:-1]"
      ],
      "metadata": {
        "colab": {
          "base_uri": "https://localhost:8080/",
          "height": 35
        },
        "id": "zvl2DX0UB08A",
        "outputId": "712847c8-da41-4861-df0f-acf4ccee8995"
      },
      "execution_count": 81,
      "outputs": [
        {
          "output_type": "execute_result",
          "data": {
            "text/plain": [
              "'te'"
            ],
            "application/vnd.google.colaboratory.intrinsic+json": {
              "type": "string"
            }
          },
          "metadata": {},
          "execution_count": 81
        }
      ]
    },
    {
      "cell_type": "code",
      "source": [
        "healthy_drink[6:-1]"
      ],
      "metadata": {
        "colab": {
          "base_uri": "https://localhost:8080/",
          "height": 35
        },
        "id": "M5dmAAStBzu4",
        "outputId": "76e4ec6a-e6e4-4623-d818-658548e38f1d"
      },
      "execution_count": 82,
      "outputs": [
        {
          "output_type": "execute_result",
          "data": {
            "text/plain": [
              "'te'"
            ],
            "application/vnd.google.colaboratory.intrinsic+json": {
              "type": "string"
            }
          },
          "metadata": {},
          "execution_count": 82
        }
      ]
    },
    {
      "cell_type": "markdown",
      "source": [
        "Debe especificar el número entero negativo más bajo en la posición de índice de inicio cuando use números de índice negativos como ocurre antes en la cadena. También puedes combinar números de indexación positivos y negativos."
      ],
      "metadata": {
        "id": "1Sixi3g6BqbD"
      }
    },
    {
      "cell_type": "markdown",
      "source": [
        "### 5.4.1 Especificación de pasos o saltos en la operación de corte\n",
        "\n",
        "En la operación de corte, se puede especificar un tercer argumento llamado paso o salto, que es opcional, junto con los números de índice de inicio y finalización . Este saltp se refiere a la cantidad de caracteres que se pueden omitir después del carácter de inicio de indexación en la cadena. El valor predeterminado del salto es uno. En los ejemplos de división anteriores, no se especifica el salto y, en su ausencia, se usa un valor predeterminado\n",
        "de uno. Por ejemplo:\n",
        "\n"
      ],
      "metadata": {
        "id": "4xXu_EC0BuoF"
      }
    },
    {
      "cell_type": "code",
      "source": [
        "newspaper = \"new york times\"\n",
        "print(newspaper[0:12:2])\n"
      ],
      "metadata": {
        "colab": {
          "base_uri": "https://localhost:8080/"
        },
        "id": "oFr0eZ5WCnNB",
        "outputId": "3b4c06d6-9bd0-443d-a412-e5bc49947980"
      },
      "execution_count": 83,
      "outputs": [
        {
          "output_type": "stream",
          "name": "stdout",
          "text": [
            "nwyr i\n"
          ]
        }
      ]
    },
    {
      "cell_type": "code",
      "source": [
        "print(newspaper[::4])"
      ],
      "metadata": {
        "colab": {
          "base_uri": "https://localhost:8080/"
        },
        "id": "W4sxrhQ7iBvX",
        "outputId": "8bee3443-f567-4fd8-e50b-17cccc17694d"
      },
      "execution_count": 84,
      "outputs": [
        {
          "output_type": "stream",
          "name": "stdout",
          "text": [
            "ny e\n"
          ]
        }
      ]
    },
    {
      "cell_type": "code",
      "source": [
        "print(newspaper[::-1])\n"
      ],
      "metadata": {
        "colab": {
          "base_uri": "https://localhost:8080/"
        },
        "id": "jTkd7PUQjDeq",
        "outputId": "42efcc48-e00c-4653-b27f-2c3987042a92"
      },
      "execution_count": 85,
      "outputs": [
        {
          "output_type": "stream",
          "name": "stdout",
          "text": [
            "semit kroy wen\n"
          ]
        }
      ]
    },
    {
      "cell_type": "markdown",
      "source": [
        "En el segmento [0:12:4] toma el carácter en el índice 0 que es n e imprimirá cada 4 caracteres en la cadena que se extiende hasta el carácter 12 (excluyendo). Puede omitir tanto el inicio como el final de los valores de índice para considerar el rango completo de caracteres en la cadena especificando dos puntos mientras se considera el argumento de paso que especificará la cantidad de caracteres para omitir."
      ],
      "metadata": {
        "id": "622ElKTGDegH"
      }
    },
    {
      "cell_type": "markdown",
      "source": [
        "**Programa 5.1:** Escribir código de Python para determinar si la cadena dada es un palíndromo o no, usa el corte."
      ],
      "metadata": {
        "id": "VkvjBlZ5CmZa"
      }
    },
    {
      "cell_type": "code",
      "source": [
        "def main():\n",
        "  user_string = input(\"Enter string: \")\n",
        "  if user_string == user_string[::-1]:\n",
        "      print(f\"User entered string is palindrome\")\n",
        "  else:\n",
        "    print(f\"User entered string is not a palindrome\")\n",
        "\n",
        "if __name__ == \"__main__\":\n",
        "  main()"
      ],
      "metadata": {
        "colab": {
          "base_uri": "https://localhost:8080/"
        },
        "id": "D9hRRvwtD2WS",
        "outputId": "aab07dde-d42f-45fa-a185-28075732ac36"
      },
      "execution_count": 87,
      "outputs": [
        {
          "output_type": "stream",
          "name": "stdout",
          "text": [
            "Enter string: planta\n",
            "User entered string is not a palindrome\n"
          ]
        }
      ]
    },
    {
      "cell_type": "code",
      "source": [
        "# Paso o salto negativo\n",
        "# Inversión de lam cadena\n",
        "cadena = \"palabra\"\n",
        "cadena[::-1]"
      ],
      "metadata": {
        "colab": {
          "base_uri": "https://localhost:8080/",
          "height": 35
        },
        "id": "Euo5N0ehEtsH",
        "outputId": "6f5421c1-c3e1-4ac9-b00c-28579f14fefe"
      },
      "execution_count": 88,
      "outputs": [
        {
          "output_type": "execute_result",
          "data": {
            "text/plain": [
              "'arbalap'"
            ],
            "application/vnd.google.colaboratory.intrinsic+json": {
              "type": "string"
            }
          },
          "metadata": {},
          "execution_count": 88
        }
      ]
    },
    {
      "cell_type": "code",
      "source": [
        "# Paso o salto negativo\n",
        "# Inversión de lam cadena\n",
        "cadena = \"anitalavalatina\"\n",
        "cadena[::-1]"
      ],
      "metadata": {
        "colab": {
          "base_uri": "https://localhost:8080/",
          "height": 35
        },
        "id": "2Hosu0myj5ak",
        "outputId": "f0e039be-412a-436d-a390-735820f52251"
      },
      "execution_count": 89,
      "outputs": [
        {
          "output_type": "execute_result",
          "data": {
            "text/plain": [
              "'anitalavalatina'"
            ],
            "application/vnd.google.colaboratory.intrinsic+json": {
              "type": "string"
            }
          },
          "metadata": {},
          "execution_count": 89
        }
      ]
    },
    {
      "cell_type": "markdown",
      "source": [
        "### 5.4.2 Unión de cadenas mediante el método join()\n",
        "\n",
        "Las cadenas se pueden unir con la cadena join() . El método join() proporciona una forma flexible de concatenar cadenas. La sintaxis del método join() es:\n",
        "\n",
        "**string_name.join(secuencia)**\n",
        "\n",
        "Aquí la secuencia puede ser una cadena o una lista. Si la secuencia es una cadena, la función join() inserta string_name entre cada carácter de la secuencia de cadenas y devuelve la cadena concatenada. Si la secuencia es una lista, la función join() inserta string_name entre cada elemento de la secuencia de la lista y devuelve la cadena concatenada. Cabe señalar que todos\n",
        "los elementos de la lista deben ser de tipo cadena."
      ],
      "metadata": {
        "id": "uQnPqOOFFqfE"
      }
    },
    {
      "cell_type": "code",
      "source": [
        "date_of_birth = [\"17\", \"09\", \"1950\"]\n",
        "\":\"+date_of_birth"
      ],
      "metadata": {
        "id": "qaqfYFMUkkkz"
      },
      "execution_count": null,
      "outputs": []
    },
    {
      "cell_type": "code",
      "source": [
        "date_of_birth = [\"17\", \"09\", \"1950\"]\n",
        "\":\".join(date_of_birth)"
      ],
      "metadata": {
        "colab": {
          "base_uri": "https://localhost:8080/",
          "height": 35
        },
        "id": "6xDrg5a6GW-j",
        "outputId": "740636f8-58bf-4470-fe27-ce7e374b507e"
      },
      "execution_count": 91,
      "outputs": [
        {
          "output_type": "execute_result",
          "data": {
            "text/plain": [
              "'17:09:1950'"
            ],
            "application/vnd.google.colaboratory.intrinsic+json": {
              "type": "string"
            }
          },
          "metadata": {},
          "execution_count": 91
        }
      ]
    },
    {
      "cell_type": "code",
      "source": [
        "date_of_birth = [\"17\", \"09\", \"1950\"]\n",
        "\",\".join(date_of_birth)"
      ],
      "metadata": {
        "colab": {
          "base_uri": "https://localhost:8080/",
          "height": 35
        },
        "id": "vBBbxpiRlGPa",
        "outputId": "7d8ac823-ebc7-4a33-a778-604b0e454458"
      },
      "execution_count": 92,
      "outputs": [
        {
          "output_type": "execute_result",
          "data": {
            "text/plain": [
              "'17,09,1950'"
            ],
            "application/vnd.google.colaboratory.intrinsic+json": {
              "type": "string"
            }
          },
          "metadata": {},
          "execution_count": 92
        }
      ]
    },
    {
      "cell_type": "code",
      "source": [
        "date_of_birth = [\"17\", \"09\", \"1950\"]\n",
        "\"/\".join(date_of_birth)"
      ],
      "metadata": {
        "colab": {
          "base_uri": "https://localhost:8080/",
          "height": 35
        },
        "id": "f3_mN6KzlLVX",
        "outputId": "935d976b-3e0b-4316-97a8-fb0316704a33"
      },
      "execution_count": 93,
      "outputs": [
        {
          "output_type": "execute_result",
          "data": {
            "text/plain": [
              "'17/09/1950'"
            ],
            "application/vnd.google.colaboratory.intrinsic+json": {
              "type": "string"
            }
          },
          "metadata": {},
          "execution_count": 93
        }
      ]
    },
    {
      "cell_type": "code",
      "source": [
        "date_of_birth = [\"17\", \"09\", \"1950\"]\n",
        "\" \".join(date_of_birth)"
      ],
      "metadata": {
        "colab": {
          "base_uri": "https://localhost:8080/",
          "height": 35
        },
        "id": "RushlyPklZaE",
        "outputId": "e278df3e-c99d-41ac-a045-08ac9553ab3a"
      },
      "execution_count": 95,
      "outputs": [
        {
          "output_type": "execute_result",
          "data": {
            "text/plain": [
              "'17 09 1950'"
            ],
            "application/vnd.google.colaboratory.intrinsic+json": {
              "type": "string"
            }
          },
          "metadata": {},
          "execution_count": 95
        }
      ]
    },
    {
      "cell_type": "code",
      "source": [
        "date_of_birth = [\"17\", \"09\", \"1950\"]\n",
        "\"-\".join(date_of_birth)"
      ],
      "metadata": {
        "colab": {
          "base_uri": "https://localhost:8080/",
          "height": 35
        },
        "id": "hfJ900IXmGx6",
        "outputId": "1576f4f0-37be-4901-a1de-b6b5646af038"
      },
      "execution_count": 97,
      "outputs": [
        {
          "output_type": "execute_result",
          "data": {
            "text/plain": [
              "'17-09-1950'"
            ],
            "application/vnd.google.colaboratory.intrinsic+json": {
              "type": "string"
            }
          },
          "metadata": {},
          "execution_count": 97
        }
      ]
    },
    {
      "cell_type": "code",
      "source": [
        "date_of_birth = [\"17\", \"09\", \"1950\"]\n",
        "\"\".join(date_of_birth)"
      ],
      "metadata": {
        "colab": {
          "base_uri": "https://localhost:8080/",
          "height": 35
        },
        "id": "VWtIUkkelxsQ",
        "outputId": "a42b360d-815c-4e23-90d4-2e57c460dc00"
      },
      "execution_count": 96,
      "outputs": [
        {
          "output_type": "execute_result",
          "data": {
            "text/plain": [
              "'17091950'"
            ],
            "application/vnd.google.colaboratory.intrinsic+json": {
              "type": "string"
            }
          },
          "metadata": {},
          "execution_count": 96
        }
      ]
    },
    {
      "cell_type": "code",
      "source": [
        "social_app = [\"instagram\", \"is\", \"an\", \"photo\", \"sharing\", \"application\"]\n",
        "\"\".join(social_app)"
      ],
      "metadata": {
        "colab": {
          "base_uri": "https://localhost:8080/",
          "height": 35
        },
        "id": "mBb8HfyTHDB4",
        "outputId": "4c89719b-a090-41b6-d291-8641623d4f18"
      },
      "execution_count": 98,
      "outputs": [
        {
          "output_type": "execute_result",
          "data": {
            "text/plain": [
              "'instagramisanphotosharingapplication'"
            ],
            "application/vnd.google.colaboratory.intrinsic+json": {
              "type": "string"
            }
          },
          "metadata": {},
          "execution_count": 98
        }
      ]
    },
    {
      "cell_type": "code",
      "source": [
        "social_app = [\"instagram\", \"is\", \"an\", \"photo\", \"sharing\", \"application\"]\n",
        "\" \".join(social_app)"
      ],
      "metadata": {
        "colab": {
          "base_uri": "https://localhost:8080/",
          "height": 35
        },
        "id": "dIFXVuSTmRLZ",
        "outputId": "b450e400-9219-459d-d754-58299a457650"
      },
      "execution_count": 99,
      "outputs": [
        {
          "output_type": "execute_result",
          "data": {
            "text/plain": [
              "'instagram is an photo sharing application'"
            ],
            "application/vnd.google.colaboratory.intrinsic+json": {
              "type": "string"
            }
          },
          "metadata": {},
          "execution_count": 99
        }
      ]
    },
    {
      "cell_type": "code",
      "source": [
        "numbers = \"123\"\n",
        "characters = \"amy\"\n",
        "password = numbers.join(characters)\n",
        "password"
      ],
      "metadata": {
        "colab": {
          "base_uri": "https://localhost:8080/",
          "height": 35
        },
        "id": "gAHjO67AHJ2U",
        "outputId": "f11e29b5-ed4d-46a8-e186-743cba5994f9"
      },
      "execution_count": 104,
      "outputs": [
        {
          "output_type": "execute_result",
          "data": {
            "text/plain": [
              "'a123m123y'"
            ],
            "application/vnd.google.colaboratory.intrinsic+json": {
              "type": "string"
            }
          },
          "metadata": {},
          "execution_count": 104
        }
      ]
    },
    {
      "cell_type": "markdown",
      "source": [
        "### 5.4.3 Dividir cadenas usando el método split()\n",
        "\n",
        "El método split() devuelve una lista de elementos de cadena dividiendo la cadena usando la cadena delimitadora. La sintaxis del método split() es:\n",
        "\n",
        "**string_name.split([separador [, maxsplit]])**\n",
        "\n",
        "Aquí separador es la cadena delimitadora y es opcional. Una cadena determinada se divide en una lista de cadenas según el separador especificado. Si no se especifica el separador , el espacio en blanco se considera como la cadena delimitadora para separar las cadenas. Si se proporciona maxsplit , como máximo se realizan divisiones máximas (por lo tanto, la lista tendrá como máximo maxsplit + 1 elementos). Si no se especifica maxsplit, entonces no hay límite en el número de divisiones."
      ],
      "metadata": {
        "id": "t8X5qajYE98e"
      }
    },
    {
      "cell_type": "code",
      "source": [
        "inventors = \"edison, tesla, marconi, newton\"\n",
        "inventors.split(\",\")"
      ],
      "metadata": {
        "colab": {
          "base_uri": "https://localhost:8080/"
        },
        "id": "u30inDZ8HgKv",
        "outputId": "1d4779e4-98d8-4382-a5a3-b62bc3e93416"
      },
      "execution_count": 105,
      "outputs": [
        {
          "output_type": "execute_result",
          "data": {
            "text/plain": [
              "['edison', ' tesla', ' marconi', ' newton']"
            ]
          },
          "metadata": {},
          "execution_count": 105
        }
      ]
    },
    {
      "cell_type": "code",
      "source": [
        "type(inventors.split(\",\"))"
      ],
      "metadata": {
        "colab": {
          "base_uri": "https://localhost:8080/"
        },
        "id": "efTeX-8gHuyn",
        "outputId": "8f5b1174-2ecd-4d70-9470-d2080134144f"
      },
      "execution_count": 106,
      "outputs": [
        {
          "output_type": "execute_result",
          "data": {
            "text/plain": [
              "list"
            ]
          },
          "metadata": {},
          "execution_count": 106
        }
      ]
    },
    {
      "cell_type": "code",
      "source": [
        "# Número de elementos de la lista\n",
        "# Número de palabras (separador \"espacio simple\")\n",
        "len(inventors.split(\",\"))"
      ],
      "metadata": {
        "colab": {
          "base_uri": "https://localhost:8080/"
        },
        "id": "kMoG29zCH7f9",
        "outputId": "cf7619d2-5e47-4c17-de21-8a37891e0b78"
      },
      "execution_count": 107,
      "outputs": [
        {
          "output_type": "execute_result",
          "data": {
            "text/plain": [
              "4"
            ]
          },
          "metadata": {},
          "execution_count": 107
        }
      ]
    },
    {
      "cell_type": "markdown",
      "source": [
        "### 5.4.4 Las cadenas son inmutables\n",
        "\n",
        "Las cadenas son inmutables, no se pueden modificar. Los caracteres de una cadena no se pueden cambiar una vez que se asigna un valor de cadena a la variable de cadena. Sin embargo, puede asignar diferentes valores de cadena a la misma variable de cadena, es decir, reasignarle valores, pero ello implica un nuevo valor a nivel de la variable."
      ],
      "metadata": {
        "id": "P2dhkwllJOgn"
      }
    },
    {
      "cell_type": "code",
      "source": [
        "immutable = \"dollar\"\n",
        "immutable[0] = \"c\""
      ],
      "metadata": {
        "colab": {
          "base_uri": "https://localhost:8080/",
          "height": 184
        },
        "id": "jiYnGL4QJmfC",
        "outputId": "4a8a463d-5ffd-40f1-e6b9-0cd6aacd8178"
      },
      "execution_count": 110,
      "outputs": [
        {
          "output_type": "error",
          "ename": "TypeError",
          "evalue": "ignored",
          "traceback": [
            "\u001b[0;31m---------------------------------------------------------------------------\u001b[0m",
            "\u001b[0;31mTypeError\u001b[0m                                 Traceback (most recent call last)",
            "\u001b[0;32m<ipython-input-110-e6150c5a2235>\u001b[0m in \u001b[0;36m<module>\u001b[0;34m\u001b[0m\n\u001b[1;32m      1\u001b[0m \u001b[0mimmutable\u001b[0m \u001b[0;34m=\u001b[0m \u001b[0;34m\"dollar\"\u001b[0m\u001b[0;34m\u001b[0m\u001b[0;34m\u001b[0m\u001b[0m\n\u001b[0;32m----> 2\u001b[0;31m \u001b[0mimmutable\u001b[0m\u001b[0;34m[\u001b[0m\u001b[0;36m0\u001b[0m\u001b[0;34m]\u001b[0m \u001b[0;34m=\u001b[0m \u001b[0;34m\"c\"\u001b[0m\u001b[0;34m\u001b[0m\u001b[0;34m\u001b[0m\u001b[0m\n\u001b[0m",
            "\u001b[0;31mTypeError\u001b[0m: 'str' object does not support item assignment"
          ]
        }
      ]
    },
    {
      "cell_type": "code",
      "source": [
        "immutable = \"collar\"\n",
        "immutable"
      ],
      "metadata": {
        "colab": {
          "base_uri": "https://localhost:8080/",
          "height": 35
        },
        "id": "FuW1a3QSJ_ho",
        "outputId": "8dc31588-99a4-40d8-c005-7979f884c2c9"
      },
      "execution_count": 109,
      "outputs": [
        {
          "output_type": "execute_result",
          "data": {
            "text/plain": [
              "'collar'"
            ],
            "application/vnd.google.colaboratory.intrinsic+json": {
              "type": "string"
            }
          },
          "metadata": {},
          "execution_count": 109
        }
      ]
    },
    {
      "cell_type": "code",
      "source": [
        "string_immutable = \"c\" + immutable[1:]\n",
        "string_immutable\n"
      ],
      "metadata": {
        "colab": {
          "base_uri": "https://localhost:8080/",
          "height": 35
        },
        "id": "g8VUlS0XJ4_k",
        "outputId": "b2c57b15-57f2-488a-b9bb-70af8c9951c5"
      },
      "execution_count": 111,
      "outputs": [
        {
          "output_type": "execute_result",
          "data": {
            "text/plain": [
              "'collar'"
            ],
            "application/vnd.google.colaboratory.intrinsic+json": {
              "type": "string"
            }
          },
          "metadata": {},
          "execution_count": 111
        }
      ]
    },
    {
      "cell_type": "markdown",
      "source": [
        "## 5.5 Métodos y propiedades de las cadenas\n",
        "\n",
        "Puede obtener una lista de todos los métodos asociados con la cadena pasando  str como argmento a la función dir():"
      ],
      "metadata": {
        "id": "Cmuwny3xKdIG"
      }
    },
    {
      "cell_type": "code",
      "source": [
        "dir(str)"
      ],
      "metadata": {
        "colab": {
          "base_uri": "https://localhost:8080/"
        },
        "id": "n6_qK6FdK177",
        "outputId": "2af92191-3fd9-4e8f-eec9-80d4c8fb883a"
      },
      "execution_count": 112,
      "outputs": [
        {
          "output_type": "execute_result",
          "data": {
            "text/plain": [
              "['__add__',\n",
              " '__class__',\n",
              " '__contains__',\n",
              " '__delattr__',\n",
              " '__dir__',\n",
              " '__doc__',\n",
              " '__eq__',\n",
              " '__format__',\n",
              " '__ge__',\n",
              " '__getattribute__',\n",
              " '__getitem__',\n",
              " '__getnewargs__',\n",
              " '__gt__',\n",
              " '__hash__',\n",
              " '__init__',\n",
              " '__init_subclass__',\n",
              " '__iter__',\n",
              " '__le__',\n",
              " '__len__',\n",
              " '__lt__',\n",
              " '__mod__',\n",
              " '__mul__',\n",
              " '__ne__',\n",
              " '__new__',\n",
              " '__reduce__',\n",
              " '__reduce_ex__',\n",
              " '__repr__',\n",
              " '__rmod__',\n",
              " '__rmul__',\n",
              " '__setattr__',\n",
              " '__sizeof__',\n",
              " '__str__',\n",
              " '__subclasshook__',\n",
              " 'capitalize',\n",
              " 'casefold',\n",
              " 'center',\n",
              " 'count',\n",
              " 'encode',\n",
              " 'endswith',\n",
              " 'expandtabs',\n",
              " 'find',\n",
              " 'format',\n",
              " 'format_map',\n",
              " 'index',\n",
              " 'isalnum',\n",
              " 'isalpha',\n",
              " 'isascii',\n",
              " 'isdecimal',\n",
              " 'isdigit',\n",
              " 'isidentifier',\n",
              " 'islower',\n",
              " 'isnumeric',\n",
              " 'isprintable',\n",
              " 'isspace',\n",
              " 'istitle',\n",
              " 'isupper',\n",
              " 'join',\n",
              " 'ljust',\n",
              " 'lower',\n",
              " 'lstrip',\n",
              " 'maketrans',\n",
              " 'partition',\n",
              " 'replace',\n",
              " 'rfind',\n",
              " 'rindex',\n",
              " 'rjust',\n",
              " 'rpartition',\n",
              " 'rsplit',\n",
              " 'rstrip',\n",
              " 'split',\n",
              " 'splitlines',\n",
              " 'startswith',\n",
              " 'strip',\n",
              " 'swapcase',\n",
              " 'title',\n",
              " 'translate',\n",
              " 'upper',\n",
              " 'zfill']"
            ]
          },
          "metadata": {},
          "execution_count": 112
        }
      ]
    },
    {
      "cell_type": "markdown",
      "source": [
        "Por otro lado, puede tener una descripción de cada elemento con la función help()"
      ],
      "metadata": {
        "id": "UwaasfQ4K8Lt"
      }
    },
    {
      "cell_type": "code",
      "source": [
        "cadena = \"Seguimos aprendiendo Python!\""
      ],
      "metadata": {
        "id": "Zur9skHbLZ-U"
      },
      "execution_count": 114,
      "outputs": []
    },
    {
      "cell_type": "code",
      "source": [
        "help(\"str.count\")"
      ],
      "metadata": {
        "colab": {
          "base_uri": "https://localhost:8080/"
        },
        "id": "x_N7Y3aTLHpr",
        "outputId": "e3b8d30a-8cb6-4b36-9bae-1e1973364c94"
      },
      "execution_count": 113,
      "outputs": [
        {
          "output_type": "stream",
          "name": "stdout",
          "text": [
            "Help on method_descriptor in str:\n",
            "\n",
            "str.count = count(...)\n",
            "    S.count(sub[, start[, end]]) -> int\n",
            "    \n",
            "    Return the number of non-overlapping occurrences of substring sub in\n",
            "    string S[start:end].  Optional arguments start and end are\n",
            "    interpreted as in slice notation.\n",
            "\n"
          ]
        }
      ]
    },
    {
      "cell_type": "code",
      "source": [
        "cadena.count(\"n\")"
      ],
      "metadata": {
        "colab": {
          "base_uri": "https://localhost:8080/"
        },
        "id": "5zoWRYgwLSRC",
        "outputId": "a51a7e2f-7bbe-479a-daaf-96aa6442f96f"
      },
      "execution_count": 115,
      "outputs": [
        {
          "output_type": "execute_result",
          "data": {
            "text/plain": [
              "3"
            ]
          },
          "metadata": {},
          "execution_count": 115
        }
      ]
    },
    {
      "cell_type": "code",
      "source": [
        "cadena.count(\"n\", 0, 12)"
      ],
      "metadata": {
        "colab": {
          "base_uri": "https://localhost:8080/"
        },
        "id": "6wjuo4YQMevI",
        "outputId": "1c276da2-b296-43f8-c726-012e7eb90410"
      },
      "execution_count": 116,
      "outputs": [
        {
          "output_type": "execute_result",
          "data": {
            "text/plain": [
              "0"
            ]
          },
          "metadata": {},
          "execution_count": 116
        }
      ]
    },
    {
      "cell_type": "code",
      "source": [
        "cadena.count(\"n\", 12)"
      ],
      "metadata": {
        "colab": {
          "base_uri": "https://localhost:8080/"
        },
        "id": "VaQxB4RBMlWr",
        "outputId": "23cf0e29-b61c-4251-b884-ca6dcd48b76b"
      },
      "execution_count": 117,
      "outputs": [
        {
          "output_type": "execute_result",
          "data": {
            "text/plain": [
              "3"
            ]
          },
          "metadata": {},
          "execution_count": 117
        }
      ]
    }
  ]
}