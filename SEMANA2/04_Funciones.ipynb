{
  "nbformat": 4,
  "nbformat_minor": 0,
  "metadata": {
    "colab": {
      "provenance": [],
      "collapsed_sections": []
    },
    "kernelspec": {
      "name": "python3",
      "display_name": "Python 3"
    }
  },
  "cells": [
    {
      "cell_type": "markdown",
      "metadata": {
        "id": "s2J4nzgRh2yt"
      },
      "source": [
        "# 4 Funciones\n",
        "**OBJETIVOS:**\n",
        "Aprenda a definir e invocar funciones y comprender el uso de argumentos y\n",
        "parámetros para pasar información a una función, así como para devolver información de un\n",
        "función."
      ]
    },
    {
      "cell_type": "markdown",
      "metadata": {
        "id": "tbhFWr89iKJo"
      },
      "source": [
        "**LOS RESULTADOS DEL APRENDIZAJE:**\n",
        "Al final de este capítulo, se espera que\n",
        "* Comprender el propósito de las funciones en Python.\n",
        "* Definir e invocar funciones.\n",
        "* Recibir los datos devueltos de las funciones.\n",
        "* Comprender el uso de módulos y funciones integradas en Python.\n",
        "* Determinar el alcance de las variables.\n",
        "* Reconocer diferentes formas de argumentos de una función."
      ]
    },
    {
      "cell_type": "markdown",
      "metadata": {
        "id": "URGpg9W8jXJC"
      },
      "source": [
        "Las funciones son uno de los bloques de construcción fundamentales en el lenguaje de programación Python.\n",
        "Las funciones se utilizan cuando tiene un bloque de declaraciones que deben ejecutarse múltiples\n",
        "tiempos dentro del programa. En lugar de escribir el bloque de declaraciones repetidamente para\n",
        "realizar la acción, puede utilizar una función para realizar esa acción. Este bloque de declaraciones\n",
        "se agrupan y se les da un nombre que se puede usar para invocarlo desde otras partes\n",
        "Del programa. Escribe una función una vez, pero puede ejecutarla tantas veces como desee.\n",
        "Las funciones también reducen el tamaño del programa al eliminar el código rudimentario. Funciones\n",
        "pueden ser funciones integradas o funciones definidas por el usuario."
      ]
    },
    {
      "cell_type": "markdown",
      "metadata": {
        "id": "nFHC3MUAjjJi"
      },
      "source": [
        "## 4.1 Funciones Integradas\n",
        "El intérprete de Python tiene una serie de funciones integradas y siempre\n",
        "disponible. Usted Ya ha observado algunas de las funciones integradas como input(), print(), range()\n",
        "y otros en capítulos anteriores. Analicemos algunas funciones integradas más (TABLA 4.1)."
      ]
    },
    {
      "cell_type": "markdown",
      "metadata": {
        "id": "FeKIyro0kB1-"
      },
      "source": [
        "**TABLA 4.1**\n",
        "Algunas funciones integradas en Python"
      ]
    },
    {
      "cell_type": "markdown",
      "metadata": {
        "id": "fKRA6Q3noeoH"
      },
      "source": [
        "Nombre Función | Sintaxis | Explicación\n",
        "--- | --- | ---\n",
        "abs() |abs(x) donde x es un número entero o de punto flotante. | La función abs() devuelve el valor absoluto de un número.\n",
        "min() | min(arg_1, arg_2, arg_3,…,arg_n) donde arg_1, arg_2, arg_3 son los argumentos. | La función min() devuelve el menor de dos o más argumentos.\n",
        "max() | max(arg_1, arg_2, arg_3,…,arg_n) donde arg_1, arg_2, arg_3 son los argumentos. | La función max() devuelve el mayor de dos o más argumentos.\n",
        "divmod() | divmod(a, b) donde a y b son números que representa el numerador y denominador. | La función divmod() devuelve el resto de la división de a entre b\n",
        "pow() | pow (x, y) donde x e y son números.. | La función pow (x, y) devuelve x a la potencia y que es equivalente a usar el operador de energía: x ** y.\n",
        "len() | len(S) donde s puede ser una cadena, byte, lista, tupla, rango, diccionario o un conjunto.. | La función len () devuelve la longitud o el número de elementos en un objeto.\n"
      ]
    },
    {
      "cell_type": "markdown",
      "metadata": {
        "id": "Lq3eOvqxV5G0"
      },
      "source": [
        "Por ejemplo:"
      ]
    },
    {
      "cell_type": "code",
      "metadata": {
        "colab": {
          "base_uri": "https://localhost:8080/"
        },
        "id": "GLMy7-YZhzMj",
        "outputId": "28b3b0fc-0377-4c96-e574-939731a09e54"
      },
      "source": [
        "# Valor absoluto de -3\n",
        "abs(-3)"
      ],
      "execution_count": 47,
      "outputs": [
        {
          "output_type": "execute_result",
          "data": {
            "text/plain": [
              "3"
            ]
          },
          "metadata": {},
          "execution_count": 47
        }
      ]
    },
    {
      "cell_type": "code",
      "metadata": {
        "colab": {
          "base_uri": "https://localhost:8080/"
        },
        "id": "A_JZj8IfVJ3j",
        "outputId": "ff8ad48c-bb19-4eb0-8002-a7994bb876f6"
      },
      "source": [
        "# El valor mínimo de un conjunto de datos\n",
        "min(1, 2, 3, 4, 5)"
      ],
      "execution_count": 48,
      "outputs": [
        {
          "output_type": "execute_result",
          "data": {
            "text/plain": [
              "1"
            ]
          },
          "metadata": {},
          "execution_count": 48
        }
      ]
    },
    {
      "cell_type": "code",
      "metadata": {
        "colab": {
          "base_uri": "https://localhost:8080/"
        },
        "id": "rQ1jfiMCWcpW",
        "outputId": "d043bb3b-ce75-46a0-9235-2f4d6d110bf1"
      },
      "source": [
        "# El valor máximo de un conjunto de datos\n",
        "max(4, 5, 6, 7, 8)"
      ],
      "execution_count": 49,
      "outputs": [
        {
          "output_type": "execute_result",
          "data": {
            "text/plain": [
              "8"
            ]
          },
          "metadata": {},
          "execution_count": 49
        }
      ]
    },
    {
      "cell_type": "code",
      "metadata": {
        "colab": {
          "base_uri": "https://localhost:8080/"
        },
        "id": "vN7HiUx5Wgde",
        "outputId": "4b5c4368-bccc-42ff-ef70-30919afbf35e"
      },
      "source": [
        "# El resutado de una división de un número entero y su resto\n",
        "divmod(5, 2)"
      ],
      "execution_count": 50,
      "outputs": [
        {
          "output_type": "execute_result",
          "data": {
            "text/plain": [
              "(2, 1)"
            ]
          },
          "metadata": {},
          "execution_count": 50
        }
      ]
    },
    {
      "cell_type": "code",
      "metadata": {
        "colab": {
          "base_uri": "https://localhost:8080/"
        },
        "id": "eL7XI7a8eFAS",
        "outputId": "4be10025-14d5-4a55-a60f-ef0692cec6a9"
      },
      "source": [
        "# El resutado de una división de un número real y su resto\n",
        "divmod(8.5, 3)"
      ],
      "execution_count": 51,
      "outputs": [
        {
          "output_type": "execute_result",
          "data": {
            "text/plain": [
              "(2.0, 2.5)"
            ]
          },
          "metadata": {},
          "execution_count": 51
        }
      ]
    },
    {
      "cell_type": "code",
      "metadata": {
        "colab": {
          "base_uri": "https://localhost:8080/"
        },
        "id": "9I2GHgvTeVl7",
        "outputId": "c5bb5242-07b9-4363-b166-5bd965b268df"
      },
      "source": [
        "# El resultado de elevar 3 a la potencia 2: 3**2\n",
        "pow(3, 2)"
      ],
      "execution_count": 52,
      "outputs": [
        {
          "output_type": "execute_result",
          "data": {
            "text/plain": [
              "9"
            ]
          },
          "metadata": {},
          "execution_count": 52
        }
      ]
    },
    {
      "cell_type": "code",
      "metadata": {
        "colab": {
          "base_uri": "https://localhost:8080/"
        },
        "id": "o4Zapsj6ebjS",
        "outputId": "69c95cb0-8f78-4739-e275-f22faf003ffd"
      },
      "source": [
        "# La longitud de una cadena de texto\n",
        "len(\"América Latina\")"
      ],
      "execution_count": 53,
      "outputs": [
        {
          "output_type": "execute_result",
          "data": {
            "text/plain": [
              "14"
            ]
          },
          "metadata": {},
          "execution_count": 53
        }
      ]
    },
    {
      "cell_type": "markdown",
      "metadata": {
        "id": "ZC2LHxwYeNeK"
      },
      "source": [
        "## 4.2 Módulos de uso común"
      ]
    },
    {
      "cell_type": "markdown",
      "metadata": {
        "id": "F_lr_FpnfNs7"
      },
      "source": [
        "Los módulos en Python son **bibliotecas** reutilizables de código con extensión .py, que implementa un grupo de métodos y declaraciones. Python viene con muchos módulos integrados como parte de la biblioteca estándar.\n",
        "Para usar un módulo en su programa, importe el módulo usando la declaración de importación. Todos Las declaraciones de importación se colocan al principio del programa. La sintaxis de la declaración de importación es,"
      ]
    },
    {
      "cell_type": "markdown",
      "metadata": {
        "id": "Rv74HM_ifd7c"
      },
      "source": [
        "![image.png](data:image/png;base64,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)"
      ]
    },
    {
      "cell_type": "markdown",
      "metadata": {
        "id": "3AOFxbVxjg9F"
      },
      "source": [
        "Por ejemplo, puede importar el módulo **math** de esta forma:"
      ]
    },
    {
      "cell_type": "code",
      "metadata": {
        "id": "QtufXg1Ijynb"
      },
      "source": [
        "# Importación del módulo math\n",
        "import math"
      ],
      "execution_count": 61,
      "outputs": []
    },
    {
      "cell_type": "markdown",
      "metadata": {
        "id": "EWZwgvQxk0YV"
      },
      "source": [
        "El módulo de matemáticas **math** es parte de la biblioteca estándar de Python que proporciona acceso a varios funciones matemáticas y siempre disponible para el programador. La sintaxis para usar una función definida en un módulo es:\n",
        "\n",
        "## nombre_modulo.nombre_función() \n",
        "\n",
        "El nombre del módulo y el nombre de la función están separados por un punto.\n",
        "Aquí enumeramos algunas de las funciones compatibles con el módulo math."
      ]
    },
    {
      "cell_type": "code",
      "metadata": {
        "id": "cRByNuPElMdm"
      },
      "source": [
        "# Importación del modulo math\n",
        "import math"
      ],
      "execution_count": 55,
      "outputs": []
    },
    {
      "cell_type": "code",
      "metadata": {
        "colab": {
          "base_uri": "https://localhost:8080/"
        },
        "id": "MaAIL0kM2KOV",
        "outputId": "03d24a8c-ee52-493e-fb41-f09aa7b83871"
      },
      "source": [
        "# La función ceil() en Python nos permite redondear a un número entero superior.\n",
        "print(math.ceil(5.4))"
      ],
      "execution_count": 56,
      "outputs": [
        {
          "output_type": "stream",
          "name": "stdout",
          "text": [
            "6\n"
          ]
        }
      ]
    },
    {
      "cell_type": "code",
      "metadata": {
        "id": "ys8BjoCx2RdU"
      },
      "source": [
        "# La función floor() en Python nos permite redondear a un número entero inferior.\n",
        "print(math.floor(5.4))"
      ],
      "execution_count": null,
      "outputs": []
    },
    {
      "cell_type": "code",
      "metadata": {
        "colab": {
          "base_uri": "https://localhost:8080/"
        },
        "id": "j9uoy_hh4V92",
        "outputId": "e601edae-f3d0-42d9-dd74-516be275d87c"
      },
      "source": [
        "# Raiz cuadrada del número 4\n",
        "print(math.sqrt(4))"
      ],
      "execution_count": 57,
      "outputs": [
        {
          "output_type": "stream",
          "name": "stdout",
          "text": [
            "2.0\n"
          ]
        }
      ]
    },
    {
      "cell_type": "code",
      "metadata": {
        "colab": {
          "base_uri": "https://localhost:8080/"
        },
        "id": "d8HUJjsW4wMY",
        "outputId": "3c32a6a8-2696-4ae5-a853-74411d835ddb"
      },
      "source": [
        "# El valor de PI\n",
        "print(math.pi)"
      ],
      "execution_count": 58,
      "outputs": [
        {
          "output_type": "stream",
          "name": "stdout",
          "text": [
            "3.141592653589793\n"
          ]
        }
      ]
    },
    {
      "cell_type": "code",
      "metadata": {
        "colab": {
          "base_uri": "https://localhost:8080/"
        },
        "id": "E5uTkL4745GY",
        "outputId": "bcd766be-bff2-4e4e-ddad-b8435fae95c7"
      },
      "source": [
        "# El coseno de un radian\n",
        "print(math.cos(1))"
      ],
      "execution_count": 59,
      "outputs": [
        {
          "output_type": "stream",
          "name": "stdout",
          "text": [
            "0.5403023058681398\n"
          ]
        }
      ]
    },
    {
      "cell_type": "code",
      "metadata": {
        "colab": {
          "base_uri": "https://localhost:8080/"
        },
        "id": "SUOB6seB-d6l",
        "outputId": "9032ec85-7e70-4bc7-9712-443e303b674e"
      },
      "source": [
        "# El factorial de 6\n",
        "print(math.factorial(6))"
      ],
      "execution_count": 60,
      "outputs": [
        {
          "output_type": "stream",
          "name": "stdout",
          "text": [
            "720\n"
          ]
        }
      ]
    },
    {
      "cell_type": "code",
      "metadata": {
        "id": "InfeopWS-nOs"
      },
      "source": [
        "# 2 elevado al cubo: 2**3\n",
        "print(math.pow(2, 3))"
      ],
      "execution_count": null,
      "outputs": []
    },
    {
      "cell_type": "markdown",
      "source": [
        "**Creación de Módulos**"
      ],
      "metadata": {
        "id": "nsUA7gIOhQgM"
      }
    },
    {
      "cell_type": "code",
      "source": [
        "# Crear un archivo: mimodulo.py, con el siguiente contenido:\n",
        "pi = 3.141592\n",
        "\n",
        "def sumar(a, b):\n",
        "  return a + b\n",
        "\n",
        "def sumar2(a, b, c):\n",
        "  return a + b + c\n",
        "\n",
        "def es_par(n):\n",
        "  return n % 2 == 0\n",
        "\n",
        "class Clase_01:\n",
        "  def __init__(self):\n",
        "    print(\"Esto es el init de la Clase_01\")\n",
        "\n",
        "  def multiplica(self, a, b):\n",
        "    return a*b"
      ],
      "metadata": {
        "id": "vULH_s2rijYE"
      },
      "execution_count": null,
      "outputs": []
    },
    {
      "cell_type": "code",
      "source": [
        "# Crear un archivo: main_01.py, con el siguiente contenido:\n",
        "import mimodulo\n",
        "\n",
        "print(mimodulo.es_par(5))\n",
        "print(mimodulo.sumar(7, 5))\n",
        "print(mimodulo.sumar2(7, 5, 3))\n",
        "print(mimodulo.pi)\n",
        "\n",
        "Objeto_01 = mimodulo.Clase_01()\n",
        "print(Objeto_01.multiplica(3, 7))"
      ],
      "metadata": {
        "id": "ofYihuSfiyBT"
      },
      "execution_count": null,
      "outputs": []
    },
    {
      "cell_type": "code",
      "source": [
        "# Crear un archivo: main_02.py, con el siguiente contenido:\n",
        "from mimodulo import es_par, sumar, sumar2, pi, Clase_01\n",
        "\n",
        "# print(mimodulo.es_par(5))\n",
        "# print(mimodulo.sumar(7, 5))\n",
        "# print(mimodulo.sumar2(7, 5, 3))\n",
        "# print(mimodulo.pi)\n",
        "\n",
        "print(es_par(5))\n",
        "print(sumar(7, 5))\n",
        "print(sumar2(7, 5, 3))\n",
        "print(pi)\n",
        "\n",
        "Objeto_01 = Clase_01()\n",
        "print(Objeto_01.multiplica(3, 7))"
      ],
      "metadata": {
        "id": "JPm6YkY2AHCg"
      },
      "execution_count": null,
      "outputs": []
    },
    {
      "cell_type": "code",
      "source": [
        "# Crear un archivo: main_03.py, con el siguiente contenido:\n",
        "from mimodulo import sumar, sumar2\n",
        "\n",
        "# print(mimodulo.es_par(5))\n",
        "# print(mimodulo.sumar(7, 5))\n",
        "# print(mimodulo.sumar2(7, 5, 3))\n",
        "# print(mimodulo.pi)\n",
        "\n",
        "print(sumar(7, 5))\n",
        "print(sumar2(7, 5, 3))"
      ],
      "metadata": {
        "id": "NKPJLv0VAWQB"
      },
      "execution_count": null,
      "outputs": []
    },
    {
      "cell_type": "code",
      "source": [
        "# Crear un archivo: main_04.py, con el siguiente contenido:\n",
        "from mimodulo import *\n",
        "\n",
        "# print(mimodulo.es_par(5))\n",
        "# print(mimodulo.sumar(7, 5))\n",
        "# print(mimodulo.sumar2(7, 5, 3))\n",
        "# print(mimodulo.pi)\n",
        "\n",
        "print(es_par(5))\n",
        "print(sumar(7, 5))\n",
        "print(sumar2(7, 5, 3))\n",
        "print(pi)\n",
        "\n",
        "Objeto_01 = Clase_01()\n",
        "print(Objeto_01.multiplica(3, 7))"
      ],
      "metadata": {
        "id": "86IhR7tvAYVA"
      },
      "execution_count": null,
      "outputs": []
    },
    {
      "cell_type": "code",
      "source": [
        "# Crear un archivo: main_05.py, con el siguiente contenido:\n",
        "import mimodulo as mimod\n",
        "\n",
        "print(mimod.es_par(5))\n",
        "print(mimod.sumar(7, 5))\n",
        "print(mimod.sumar2(7, 5, 3))\n",
        "print(mimod.pi)\n",
        "\n",
        "Objeto_01 = mimod.Clase_01()\n",
        "print(Objeto_01.multiplica(3, 7))"
      ],
      "metadata": {
        "id": "x_e-ICzPAZ8o"
      },
      "execution_count": null,
      "outputs": []
    },
    {
      "cell_type": "code",
      "source": [
        "# Crear un archivo: main_06.py, con el siguiente contenido:\n",
        "from mimodulo import sumar as sum1, sumar2 as sum2, Clase_01 as Clas1\n",
        "\n",
        "# print(mimodulo.es_par(5))\n",
        "# print(mimodulo.sumar(7, 5))\n",
        "# print(mimodulo.sumar2(7, 5, 3))\n",
        "# print(mimodulo.pi)\n",
        "\n",
        "print(sum1(7, 5))\n",
        "print(sum2(7, 5, 3))\n",
        "\n",
        "Objeto_01 = Clas1()\n",
        "print(Objeto_01.multiplica(3, 7))"
      ],
      "metadata": {
        "id": "qPWjXpEMAbap"
      },
      "execution_count": null,
      "outputs": []
    },
    {
      "cell_type": "markdown",
      "metadata": {
        "id": "R8pN1CJ3AiR2"
      },
      "source": [
        "# Importante\n",
        "La función integrada **dir()** devuelve una lista ordenada de cadenas separadas por comas que contienen los nombres de funciones, clases y variables tal como se definen en el módulo. Por ejemplo, puedes encontrar todas las funciones admitidas por el módulo matemático pasando el nombre del módulo como un argumento para la función **dir()**."
      ]
    },
    {
      "cell_type": "code",
      "metadata": {
        "id": "O1QHxboWArbd",
        "colab": {
          "base_uri": "https://localhost:8080/"
        },
        "outputId": "7b25b69e-52ec-4a89-f1d5-2f3989026d9e"
      },
      "source": [
        "# Explorando el módulo math\n",
        "import math\n",
        "dir(math)"
      ],
      "execution_count": 62,
      "outputs": [
        {
          "output_type": "execute_result",
          "data": {
            "text/plain": [
              "['__doc__',\n",
              " '__loader__',\n",
              " '__name__',\n",
              " '__package__',\n",
              " '__spec__',\n",
              " 'acos',\n",
              " 'acosh',\n",
              " 'asin',\n",
              " 'asinh',\n",
              " 'atan',\n",
              " 'atan2',\n",
              " 'atanh',\n",
              " 'ceil',\n",
              " 'copysign',\n",
              " 'cos',\n",
              " 'cosh',\n",
              " 'degrees',\n",
              " 'e',\n",
              " 'erf',\n",
              " 'erfc',\n",
              " 'exp',\n",
              " 'expm1',\n",
              " 'fabs',\n",
              " 'factorial',\n",
              " 'floor',\n",
              " 'fmod',\n",
              " 'frexp',\n",
              " 'fsum',\n",
              " 'gamma',\n",
              " 'gcd',\n",
              " 'hypot',\n",
              " 'inf',\n",
              " 'isclose',\n",
              " 'isfinite',\n",
              " 'isinf',\n",
              " 'isnan',\n",
              " 'ldexp',\n",
              " 'lgamma',\n",
              " 'log',\n",
              " 'log10',\n",
              " 'log1p',\n",
              " 'log2',\n",
              " 'modf',\n",
              " 'nan',\n",
              " 'pi',\n",
              " 'pow',\n",
              " 'radians',\n",
              " 'remainder',\n",
              " 'sin',\n",
              " 'sinh',\n",
              " 'sqrt',\n",
              " 'tan',\n",
              " 'tanh',\n",
              " 'tau',\n",
              " 'trunc']"
            ]
          },
          "metadata": {},
          "execution_count": 62
        }
      ]
    },
    {
      "cell_type": "markdown",
      "metadata": {
        "id": "4Inpl6y1E043"
      },
      "source": [
        "Se muestran varias funciones asociadas con el módulo matemático **math**\n",
        "Otra función incorporada que le resultará útil es la función **help()** que invoca el sistema de ayuda incorporado. El argumento de la función **help()** es una cadena, que se busca como nombre de un módulo, función, clase, método, palabra clave o tema de documentación, y luego un tema relacionado La página de ayuda está impresa en la consola. Por ejemplo, si desea buscar información sobre la fucnión gcd() en el módulo **math** y luego pasa el nombre de la función como un argumento sin paréntesis."
      ]
    },
    {
      "cell_type": "code",
      "metadata": {
        "colab": {
          "base_uri": "https://localhost:8080/"
        },
        "id": "0_1UaVXAFjK4",
        "outputId": "042832e3-e597-4615-ab94-5bf82f70a709"
      },
      "source": [
        "# Solicitando ayuda de la función gcd() perteneciente al módulo math\n",
        "help(math.gcd)"
      ],
      "execution_count": 63,
      "outputs": [
        {
          "output_type": "stream",
          "name": "stdout",
          "text": [
            "Help on built-in function gcd in module math:\n",
            "\n",
            "gcd(x, y, /)\n",
            "    greatest common divisor of x and y\n",
            "\n"
          ]
        }
      ]
    },
    {
      "cell_type": "code",
      "source": [
        "help(math.pow)"
      ],
      "metadata": {
        "colab": {
          "base_uri": "https://localhost:8080/"
        },
        "id": "RhH8ZD-5bpgs",
        "outputId": "dc632d9b-fd73-4527-f1c0-5b5e7151a625"
      },
      "execution_count": 64,
      "outputs": [
        {
          "output_type": "stream",
          "name": "stdout",
          "text": [
            "Help on built-in function pow in module math:\n",
            "\n",
            "pow(x, y, /)\n",
            "    Return x**y (x to the power of y).\n",
            "\n"
          ]
        }
      ]
    },
    {
      "cell_type": "markdown",
      "metadata": {
        "id": "kfR35bKRFQAP"
      },
      "source": [
        "Otro módulo útil en la biblioteca estándar de Python es el módulo **random** que genera números aleatorios."
      ]
    },
    {
      "cell_type": "code",
      "metadata": {
        "id": "Eoc-aENiHrAl"
      },
      "source": [
        "# Importación del módulo random\n",
        "import random"
      ],
      "execution_count": 65,
      "outputs": []
    },
    {
      "cell_type": "code",
      "metadata": {
        "colab": {
          "base_uri": "https://localhost:8080/"
        },
        "id": "mb_AO5RpH6Qt",
        "outputId": "44de1fa2-ff1f-4308-c085-b3f8eb00173b"
      },
      "source": [
        "# Número aleatorio entre 0 y 1\n",
        "print(random.random())"
      ],
      "execution_count": 66,
      "outputs": [
        {
          "output_type": "stream",
          "name": "stdout",
          "text": [
            "0.1257336078973197\n"
          ]
        }
      ]
    },
    {
      "cell_type": "code",
      "metadata": {
        "colab": {
          "base_uri": "https://localhost:8080/"
        },
        "id": "hZnp_A3dH8dG",
        "outputId": "b336671b-c160-4a66-ff41-014469c1654c"
      },
      "source": [
        "# Número aleatorio entero entre 5 y 10\n",
        "print(random.randint(5,10))"
      ],
      "execution_count": 73,
      "outputs": [
        {
          "output_type": "stream",
          "name": "stdout",
          "text": [
            "6\n"
          ]
        }
      ]
    },
    {
      "cell_type": "markdown",
      "metadata": {
        "id": "Wekuq9wKLgCi"
      },
      "source": [
        "Los módulos o bibliotecas de terceros se pueden instalar y administrar mediante el paquete de Python administrador pip. La sintaxis de pip es:\n",
        "\n",
        "## pip install nombre_modulo"
      ]
    },
    {
      "cell_type": "markdown",
      "metadata": {
        "id": "AQvCsefYLo-a"
      },
      "source": [
        "Arrow es una biblioteca de Python popular que ofrece un enfoque sensato y amigable para los humanos para crear, manipular, formatear y convertir fechas, horas y marcas de tiempo. Para instalar el módulo **arrow**, abra una ventana de símbolo del sistema y escriba el siguiente comando desde cualquier lugar.\n",
        "\n",
        "## C:\\\\> pip install arrow"
      ]
    },
    {
      "cell_type": "code",
      "metadata": {
        "colab": {
          "base_uri": "https://localhost:8080/"
        },
        "id": "8pCqYlGoMOqa",
        "outputId": "5c616115-4665-4b22-9bfb-2e345d6d60d5"
      },
      "source": [
        "# Instalamos el módulo arrow\n",
        "!pip install arrow"
      ],
      "execution_count": 74,
      "outputs": [
        {
          "output_type": "stream",
          "name": "stdout",
          "text": [
            "Looking in indexes: https://pypi.org/simple, https://us-python.pkg.dev/colab-wheels/public/simple/\n",
            "Requirement already satisfied: arrow in /usr/local/lib/python3.7/dist-packages (1.2.3)\n",
            "Requirement already satisfied: python-dateutil>=2.7.0 in /usr/local/lib/python3.7/dist-packages (from arrow) (2.8.2)\n",
            "Requirement already satisfied: typing-extensions in /usr/local/lib/python3.7/dist-packages (from arrow) (4.1.1)\n",
            "Requirement already satisfied: six>=1.5 in /usr/local/lib/python3.7/dist-packages (from python-dateutil>=2.7.0->arrow) (1.15.0)\n"
          ]
        }
      ]
    },
    {
      "cell_type": "code",
      "metadata": {
        "id": "6Q-rkenCMY6o"
      },
      "source": [
        "# Importamos el módulo arrow\n",
        "import arrow"
      ],
      "execution_count": 76,
      "outputs": []
    },
    {
      "cell_type": "markdown",
      "metadata": {
        "id": "grksM2tZN52c"
      },
      "source": [
        "UTC es el estándar de tiempo que se usa comúnmente en todo el mundo. Los centros de cronometraje del mundo han acordado mantener sus escalas de tiempo estrechamente sincronizadas, o coordinadas, por lo tanto el nombre Hora universal coordinada. La fecha actual, incluida la hora, se muestra mediante\n",
        "función **now()**"
      ]
    },
    {
      "cell_type": "code",
      "metadata": {
        "colab": {
          "base_uri": "https://localhost:8080/"
        },
        "id": "vV4E2zvjNtC8",
        "outputId": "97cc111a-28ca-455c-f2ce-0c2f79b4c160"
      },
      "source": [
        "# Obtener la fecha y hora UTC actual\n",
        "a = arrow.utcnow()\n",
        "print(a)\n",
        "\n",
        "# Obtener nuevamente la fecha y hora UTC actual\n",
        "print(a.now())"
      ],
      "execution_count": 77,
      "outputs": [
        {
          "output_type": "stream",
          "name": "stdout",
          "text": [
            "2022-10-30T01:16:51.378099+00:00\n",
            "2022-10-30T01:16:51.380111+00:00\n"
          ]
        }
      ]
    },
    {
      "cell_type": "markdown",
      "metadata": {
        "id": "1InfutT8PtFc"
      },
      "source": [
        "# 4.3 Definición de función y llamado a la función\n",
        "\n",
        "Puede crear sus propias funciones y utilizarlas cuando y donde sea necesario. \n",
        "Las funciones definidas por el usuario, son bloques de código reutilizables creados por los usuarios para realizar alguna tarea específica en el programa.\n",
        "La sintaxis para la definición de función es:"
      ]
    },
    {
      "cell_type": "markdown",
      "metadata": {
        "id": "eb4zWGJJMG5M"
      },
      "source": [
        "![image.png](data:image/png;base64,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)"
      ]
    },
    {
      "cell_type": "markdown",
      "metadata": {
        "id": "ApCKBaQi0Wfs"
      },
      "source": [
        "En Python, una definición de función consta de la palabra clave def, seguida de\n",
        "\n",
        "1. **El nombre de la función**. El nombre de la función debe adherirse al mismo nombre reglas como variables: use letras, números o un guión bajo, pero el nombre no puede comience con un número. Además, no puede utilizar una palabra clave como nombre de función.\n",
        "2. **La lista de parámetros de la función** se incluye entre paréntesis y se separa por comas Algunas funciones no tienen ningún parámetro, mientras que otras pueden tener uno o más parámetros.\n",
        "3. **Se requieren dos puntos al final del encabezado de la función**. La primera línea de la función La definición que incluye el nombre de la función se denomina encabezado de función.\n",
        "4. **El bloque de declaraciones que definen el cuerpo de la función comienza en la siguiente línea de la encabezado de función y deben tener el mismo nivel de sangría**. La palabra clave def introduce una definición de función. El término parámetro o parámetro formal se utiliza a menudo para referirse a las variables que se encuentran en la definición de la función.\n"
      ]
    },
    {
      "cell_type": "markdown",
      "metadata": {
        "id": "_Mqwdy1_1SKs"
      },
      "source": [
        "La primera declaración entre el bloque de declaraciones dentro de la función\n",
        "La definición puede ser opcionalmente una cadena de documentación o una cadena de documentos. Hay herramientas que utilizan cadenas de documentos para producir documentos en línea o documentación impresa automáticamente. Las comillas triples se utilizan para representar docstrings. Por ejemplo:\n",
        "\n",
        "\"\" \"Esta es una cadena de documentos de una sola línea\" \"\"\n",
        "O\n",
        "\"\"\" Este es multilínea docstring \"\" \""
      ]
    },
    {
      "cell_type": "markdown",
      "metadata": {
        "id": "kQKoAh1220MY"
      },
      "source": [
        "**Definir una función no la ejecuta**. Definir una función simplemente nombra la función y especifica qué hacer cuando se llama a la función. Llamar a la función realmente realiza las acciones especificadas con los parámetros indicados. La sintaxis para la llamada de función o la función de llamada es:\n",
        "\n",
        "## nombre_funcion (argumento_1, argumento_2,…, argumento_n)\n",
        "\n",
        "Los argumentos son el valor real que se pasa a la función de llamada. Debe haber\n",
        "una correspondencia uno a uno entre los parámetros formales en la definición de función y los argumentos reales de la función que llama. Cuando se llama a una función, el formal los parámetros están temporalmente \"vinculados\" a los argumentos y sus valores iniciales se asignan a través de la función de llamada.\n",
        "Una función debe definirse antes de que se llame y el bloque de declaraciones en la función La definición se ejecuta solo después de llamar a la función. Normalmente, las declaraciones en los programas de Python se ejecutan uno tras otro, en el orden en que están escritos. Las definiciones de funciones no alteran el flujo de ejecución del programa. Cuando llamas a un función, el control fluye de la función que llama a la definición de la función. Una vez el\n",
        "se ejecuta el bloque de sentencias en la definición de función, luego el control fluye de regreso al llamando a la función y procede con la siguiente instrucción. El intérprete de Python realiza un seguimiento de el flujo de control entre diferentes declaraciones en el programa."
      ]
    },
    {
      "cell_type": "markdown",
      "metadata": {
        "id": "zK1dc9zt4eIN"
      },
      "source": [
        "Antes de ejecutar el código en el programa fuente, el intérprete de Python define automáticamente pocas variables especiales. Si el intérprete de Python está ejecutando el programa fuente como un programa principal, establece la variable especial incorporada __name__ para que tenga un valor de cadena \"__main__\".\n",
        "\n",
        "Después de configurar estas variables especiales, el intérprete de Python lee el programa para ejecutar el código que se encuentra en él. Se ejecuta todo el código que está en el nivel de sangría 0. Bloque de declaraciones en la definición de función no se ejecuta a menos que se llame a la función."
      ]
    },
    {
      "cell_type": "code",
      "metadata": {
        "id": "ajMg5lRB5S7u"
      },
      "source": [
        "if __name__ == \"__main__\":\n",
        "  print(\"Hola Mundo\")"
      ],
      "execution_count": null,
      "outputs": []
    },
    {
      "cell_type": "markdown",
      "source": [
        "**¿Qué hace ‘if __name__ == \"__main__\":’ en Python?**\n",
        "\n",
        "Finalicemos el entendimiento a través de un ejemplo:"
      ],
      "metadata": {
        "id": "XbDOiWC-CuWz"
      }
    },
    {
      "cell_type": "code",
      "source": [
        "# Creamos un archivo llamado ejemplo.py\n",
        "\n",
        "print(\"crea la funcion 1\")\n",
        "def funcion1():\n",
        "    print(\"ejecuta la funcion 1\")\n",
        " \n",
        "print(\"crea la funcion 2\")\n",
        "def funcion2():\n",
        "    print(\"ejecuta la funcion 2\")\n",
        " \n",
        "print(\"antes de comprobar __name__\")\n",
        "\n",
        "if __name__ == '__main__':\n",
        "    funcion1()  \n",
        "    funcion2()\n",
        "\n",
        "print(\"despues del bloque __name__\")\n"
      ],
      "metadata": {
        "id": "B5fcUjSLDYTd"
      },
      "execution_count": null,
      "outputs": []
    },
    {
      "cell_type": "markdown",
      "source": [
        "Si ejecutamos el código invocando al archivo ejemplo.py, el valor de __name__ será '__main__', por lo tanto, las instrucciones funcion1() y funcion(2) serán ejecutadas. Sin embargo si imprtamos el archivo ejemplo.py desde otro archivo de python, a través de la instrucción import, por ejemplo:\n",
        "\n",
        "import ejemplo\n",
        "\n",
        "ejemplo.funcion1()\n",
        "\n",
        "Al hacer la imprtación, se ejecutan todas las instrucciones que están dentro del archivo ejemplo.py, pero cuando hace la validación:\n",
        "\n",
        "if __name__ == '__main__':\n",
        "\n",
        "El valor de __name__ es igual a ejemplo, por lo tanto las intrucciones: funcion1() y funcion2, no se ejecutaran."
      ],
      "metadata": {
        "id": "3ozH1Cg_DjMS"
      }
    },
    {
      "cell_type": "markdown",
      "metadata": {
        "id": "jH1sTBSU48zp"
      },
      "source": [
        "Finalmente, la variable especial, __name__ con \"__main__\", es el punto de entrada a su programa. Cuando El intérprete de Python lee la declaración if y ve que __name__ es igual a \"__main__\", ejecutará el bloque de declaraciones presentes allí."
      ]
    },
    {
      "cell_type": "markdown",
      "metadata": {
        "id": "gWsoG1sC56Pz"
      },
      "source": [
        "## Programa 4.1: Programa para demostrar una función con y sin argumentos\n",
        "\n",
        "1. def funcion_definida_sin_un_argumento():\n",
        "2. print(\"Esta es una definición de función sin argumento\")\n",
        "3. def funcion_definida_con_un_argumento(message):\n",
        "4. print(f\"Esta es una definición de función con {mensaje}\")\n",
        "5. def main():\n",
        "6. funcion_definida_sin_un_argumento()\n",
        "7. funcion_definida_con_un_argumento(\"Un Argumento\")\n",
        "8. if __name__ == \"__main__\":\n",
        "9. main()"
      ]
    },
    {
      "cell_type": "markdown",
      "metadata": {
        "id": "0Eb1mzOh73aX"
      },
      "source": [
        "## Producción\n",
        "\n",
        "Esta es una definición de función sin argumento\n",
        "\n",
        "Esta es una definición de función con un argumento\n",
        "\n",
        "Cuando codifica programas Python, es una buena práctica poner todos los\n",
        "funciones de llamada dentro de la definición de función main(). Dado que el programa anterior es un programa fuente principal independiente, el intérprete de Python asigna el valor de cadena \"__main__ \" a la variable especial incorporada __name__ cuya igualdad se comprueba mediante la condición if y también es el punto de entrada de su programa. Si la condición es verdadera\n",
        "luego, el intérprete de Python llama a la función main(). En la definición de función main() hay dos funciones de llamada. Puede tener cualquier número de definiciones de funciones y sus funciones de llamada en su programa. Cuando se llama a la función sin ningún argumento el control fluye a la definición de función y muestra la declaración. Después, al ejecutar la definición de función, el control vuelve al lugar en la funcion desde donde lo había dejado y comienza a ejecutar la siguiente instrucción. En este punto, se ejecuta la llamada a la función con un argumento que es un valor de cadena. El control pasa a la definición de función que tiene un parámetro y asigna el valor de la cadena para el parámetro de mensaje. El valor de la cadena pasada se muestra:"
      ]
    },
    {
      "cell_type": "markdown",
      "metadata": {
        "id": "kkd4rLXj_TBT"
      },
      "source": [
        "## Programa 4.2: Programa para encontrar el área del trapecio \n",
        "Usando la fórmula Área = (1/2) * (a + b) * h Donde ayb son las 2 bases\n",
        "del trapecio y h es la altura\n"
      ]
    },
    {
      "cell_type": "code",
      "metadata": {
        "colab": {
          "base_uri": "https://localhost:8080/"
        },
        "id": "58KVDt32FeBq",
        "outputId": "97c2d92d-ff75-496d-9f76-39542ab49d1d"
      },
      "source": [
        "def area_trapecio(a, b, h):\n",
        "  area = 0.5 * (a + b) * h\n",
        "  print(f\"El área de Trapecio es: {area}\")\n",
        "\n",
        "def main():\n",
        "  area_trapecio(10, 15, 20)\n",
        "\n",
        "if __name__ == \"__main__\":\n",
        "  main()"
      ],
      "execution_count": 79,
      "outputs": [
        {
          "output_type": "stream",
          "name": "stdout",
          "text": [
            "El área de Trapecio es: 250.0\n"
          ]
        }
      ]
    },
    {
      "cell_type": "code",
      "source": [
        "def area_trapecio(a, b, h):\n",
        "  area = 0.5 * (a + b) * h\n",
        "  print(f\"El área de Trapecio es: {area}\")\n",
        "\n",
        "area_trapecio(10, 15, 20) "
      ],
      "metadata": {
        "colab": {
          "base_uri": "https://localhost:8080/"
        },
        "id": "b7Gfp3AFfpzi",
        "outputId": "6b77f1ac-adc2-42f7-ccf0-f4d47e14617e"
      },
      "execution_count": 83,
      "outputs": [
        {
          "output_type": "stream",
          "name": "stdout",
          "text": [
            "El área de Trapecio es: 250.0\n"
          ]
        }
      ]
    },
    {
      "cell_type": "markdown",
      "metadata": {
        "id": "HrBPHDmDGncE"
      },
      "source": [
        "Aquí la definición de función area_trapecio(a, b, h) usa tres parámetros formales a, b, h para representar los valores reales pasados ​​por el usuario en la función de llamada area_trapezium (10,15, 20). Los argumentos en la función que llama son números. Las variables a, b y h son asignados con valores de 10, 15 y 20 respectivamente. Se calcula el área de un trapecio usando la fórmula 0.5 * (a + b) * h y el resultado se asigna a la variable área y el se muestra lo mismo"
      ]
    },
    {
      "cell_type": "markdown",
      "metadata": {
        "id": "g_f7rlP0G0yL"
      },
      "source": [
        "# Programa 4.3: Programa que usa el mismo nombre de variable en función de llamada y definición de función"
      ]
    },
    {
      "cell_type": "code",
      "metadata": {
        "colab": {
          "base_uri": "https://localhost:8080/"
        },
        "id": "lqkPHCyhHSwt",
        "outputId": "89c55475-6ed7-43c3-a19a-dcd923bcbb6c"
      },
      "source": [
        "god_name = input(\"¿Quién es el dios de los mares según la mitología griega?\")\n",
        "def greek_mythology(god_name):\n",
        "  print(f\"El dios de los mares según la mitología griega es {god_name}\")\n",
        "\n",
        "def main():\n",
        "  greek_mythology(god_name)\n",
        "\n",
        "if __name__ == \"__main__\":\n",
        "  main()"
      ],
      "execution_count": 84,
      "outputs": [
        {
          "output_type": "stream",
          "name": "stdout",
          "text": [
            "¿Quién es el dios de los mares según la mitología griega?Poseidon\n",
            "El dios de los mares según la mitología griega es Poseidon\n"
          ]
        }
      ]
    },
    {
      "cell_type": "markdown",
      "metadata": {
        "id": "qeSCkgN1INCB"
      },
      "source": [
        "Los argumentos pasados ​​por el programa de llamada y los parámetros utilizados para recibir los valores. En la definición de función puede tener los mismos nombres de variable. Sin embargo, es imperativo reconocer que son variables totalmente independientes, ya que existen en diferentes ámbitos. En el código anterior, la variable god_name que aparece en la función de llamada y en la función definición son variables diferentes. La función **greek_mythology()** es una función void."
      ]
    },
    {
      "cell_type": "markdown",
      "metadata": {
        "id": "phyng6n4IaqJ"
      },
      "source": [
        "## 4.4: La declaración de retorno **return** y la función **void**\n",
        "La mayoría de las veces es posible que desee que la función realice su tarea especificada para calcular un valor\n",
        "y devolver el valor a la función de llamada para que pueda almacenarse en una variable y usarse\n",
        "más tarde. Esto se puede lograr utilizando la declaración de retorno opcional en la definición de la función. La sintaxis de la declaración de retorno es:"
      ]
    },
    {
      "cell_type": "markdown",
      "metadata": {
        "id": "UPzhIVsRMvxc"
      },
      "source": [
        "![image.png](data:image/png;base64,iVBORw0KGgoAAAANSUhEUgAAAakAAABpCAYAAACAs9xbAAAT6klEQVR4Ae2dO+4cRRfFvQViyNgCEuyAHALWgGAFhEDCDoDcIuDtl4Qd2RjMG9s5uQP20J9+o+/8Ob7umel398yckprqrrrPU1X3dI8tc61JCwJBIAgEgSCwUQSubTSuhBUEgkAQCAJBoAlJZRMEgSAQBILAZhEISW12aRJYEAgCQSAIhKSyB4JAEAgCQWCzCISkNrs0CSwIBIEgEARCUtkDQSAIBIEgsFkEQlKbXZoEFgSCQBAIAiGp7IEgEASCQBDYLAIhqc0uTQILAkEgCASBkNSJ7oGnT5+eaOQJOwgEgSDQHYGQVHesNiUJSd26dWtTMSWYIBAEgsDUCISkpkZ0IXuQ1Lfffts8fPhwIY9xEwSCQBBYHoGQ1PKYT+IRkrp3715z586dENUkiMZIEAgCW0QgJLXFVekQk0jqyZMnIaoOeEUkCASB00QgJHWa69Y4SYWoTnQRE3YQCAJHEQhJHYVomwKVpEJU21ynRBUEgsA4BEJS4/BbTbuNpEJUqy1HHAeBIDATAiGpmYCd2ywkdffu3ebx48cvXPnLFHOjH/tBIAgshUBIaimkJ/ZziKQgrhDVxIDHXBAIAqsgEJJaBfbxTo+RVIhqPMaxEASCwPoIhKTWX4NBEXQhqRDVIGijFASCwIYQCEltaDH6hMJfkuDPpP7++++jV37664NsZINAENgSAiGpLa1Gj1j6kBREFqLqAW5Eg0AQ2AwCIanNLEW/QPqSVIiqH76RDgJBYBsIhKS2sQ69oxhCUiGq3jBHIQgEgZURCEmtvABD3UNSP/zwQ/PXX3/1vm7fvp1/lHYo8NELAkFgUQRCUovCPZ2zMSQFsYWopluLWAoCQWA+BEJS82E7q+WxJBWimnV5YjwIBIGJEAhJTQTk0mamIKkQ1dKrFn9BIAj0RSAk1RexjciLpP78889m7JWf/jayqAkjCASBFxAYTFLPnj1rcq2HwaNHj3Z/cWIsQUk/RPXC2chAEAgCG0BgMEldv369uXHjRq4VMeBv94lkpuhDVBs4kQkhCASB5xAYRVJTFMbYGP9z3ZQYhqieOx95CAJBYGUERpHUH3/80eQ6PwxCVCufyrgPAkHgCoGQVIi29UUjRHV1RnITBILAigiEpEJSrSTFF3KIasWTGddBIAjsEAhJhaT2klSIKlUiCASBtREISYWkDpJUiGrtIxr/QeCyERhFUr///nuT6zIwyE9/l10okn0QWAuBkFSItvOLRohqrWMav0HgchEISYWkOpMUX80hqsstFsk8CKyBQEgqJNWLpCCqW7du5f9HtcZpjc8gcIEIjCKp3377rcl1mRiEqC6wWiTlILACAiGpEO3gF40Q1QonNi6DwIUhEJIKSQ0mKb6iQ1QXVjGSbhBYGIFRJPXrr782S1/Xrl1rPv74485+X3nlleb999/vLD93Pm+//XbzxhtvbCaeKfINUS18av/v7qWXXmo4D34x9c8//zRffPFF8+677zavvvrq7l4R8hdf0ON6/PixhtNvDIFzWSffm9y/8847vZFelKQgixo0RbtPoUR/6yQFCXmeTpLnSFKs3ykTlQp679OzogIEoz3Gwf/333+votG4ep978803r/Q++eSTK50+N/h+7bXX+qhEticCU6xTT5eziUO42ouctb5tUZKiQPNlI1L65ptvdsH3ISqS3TJJEV/9UuJZMZ8rSZ0qUVGoWbMhh6fvYZtSXnETO19OtUEizFUyGfuGLn2+0tLmQ0A4n8MX7wcffHBFUv7C1BW9VUmKwqavKxHXsZ6Dp4J/TJb5JX/uqyTcFt85kxT5nsoX1Y8//rgr4OwnriGHp+shm0NOb9r8nNfW9FPg0K+lahMi5ItNeFFE04JAFwTYo+yb+sLURReZ1UkKwiEBFXQ96zD4T2XIMO4k9fnnn18dHObqV5lIinHZrDJ86eBHP9Np/phtxay+xqZx77Hd9qWl2Oj5wkSnTVZfn46B6/qXqvtd8n4uoqIw8lbGpqf4QiwUawpy29cEX0cq5mCELs3HHDvZ4OesTz/99EpOBIY9yTOvhjzxcAixTdPbo4o5ttGn0BOvxtFVPH2+5hSHclIs9BCw5rFPk3/9OZV/CZEfz9IhRmGHrn+1SYbe43Ub5OM6wnUXyMD/YEOx45s9oNzoWQ/iZlzrhSvmGANzcGFO+0jr5bG7XfSZI098y4ZsthVd5LUXiBMdxwnf+FAOrB+xaz8dWidB1+Zj3z5gnDg9VuIjLsaw1dYO4Y38sTxkEzvkyqUcNde1H0VSv/zyS9Pneuutt3ZfNq7jYx999NGugGv+s88+2yVHrzGSRY5nxinKmvv666938ppnnHl03nvvvZ2cZPSMjMjJx7rYll/6tlh9Xvfkiz89c+/xVjyInZgljyxjevbcGHN9yazRT01UXkTJmULhb/YUIDXmOIDocAi5R4dLzXWRV6OgSJbeD7fHIJ0qr4IjGxQEmp7VExcxUyw0RvHq0igQ0uG+NgoT89hWk7x6L5zCR4WOHJAT4WJDY4zXYgMW+OLinnkvxIphaK+iCl6eO+OMKSf1wlxxaRxZvRBoTMSmZ3pfc+XBOPmxbj7mOREbMuSPnGwKR8WODMWbS9gTG0066n2dmCcn/GMDHY9H64ccGMgGveZ83zNe7UtX9hUzssJVY4fywA7N9w2xD2n/ndqe2tevX78qlF2LYC2gKuxODtUW4HgRr89VHlJye/UZ+RoHROHEUW3quc2W5pSLE4rmvMf3IV9tJOT5o8+FTcaJye2LhInHx9e4n5qovPhyQNkLunQAVJhUGNjWKir0ahwwdOlrkx/mdTCRkZ2qo0OLPHHJNs8q6MTFMxeFiWf8eDFjrkvz+NCvTXFCqt5UEPEjPY9LsaKDDy41L27oqGFHdqXva1NjkF7XXi8G2KT5S4EXWC+G5E9cxKw83Z/jR+yQBXLCra6D8sOeF3/fB4pL+8W/IISBMFR8xIRfXw/G5K+Og7v2lvwg78Trecofdtij5A2OnoPbQbcL3rJ7LA/suazH1ue+26losTiUpADMLy/AFFIIxue5d5n6zFyVP0ZS0lHhhjRU+DVGLzm377ZdViR1jBzaSAqicR/cy3aVZ04+mKt6epaM7KzRQ1IPHjxo2T3DhrThOUgcTA4tvQjJCw1FguYHUoXOCzM2a9NBBUsVZC86VUcFkkNLIaBg4ZeCoiKpIoZNZFS4vKArjxpPfVYRo6/Nc/MijpwKnOt5XswrX+IS6bguMt6Er497TjUG1z12L1yFFVgqhzasNAfGrJH2QPWjfYSc1gcZbDLG5U12yRUZ7DLGM02Ys/5qsoWcfPi+Uk7I1/0kf75OyGnd3Sbj8lXjJh7lwzpAVFWetVLrinfXPMhb/tnzQ9vzq9HDylCSqm/+XjxFUP41QpL7SEok4gW5fu3UZ/xJT77bSEoyh2xLn15fMB6rz+u+kg7x+ZeV/Eoe/2DAM/eOX7UlnS30UxMUW1OHl0PSVvxUMDn0FA4OBtihpwOKHR1G5rwQa/vrcKOnJtttOip69PsOox9s5FRAD9mVb+/94KtI+rxyJk4VR+b9a6/qeZEjZxGV7KoIY5PY1bCvNfG8PQblKZ2uvdumkBK/1oUYPDfZdL8ej+bVK2bPhTnh4OvuubOGbflIj71ErHqGVBxL5sBQF/Zq27dO7Hfp1dw07nETp8aJw9dc4y7fB+8ueZCX58L90LYpkmojCwD1wu/PbUW6klJ9poCj58W+zW8X25UMsOOEU+flWzIiNifCSlLoECvjxORfciL1Nj9rjs1BUF4sanHR5ufQ6QBS0JDjcNeCxrjkvIhgx/2oiHDg3XbV0RzFoK2IYVcy+PWCobdjxqtd5eW9FyuKRW0q5Nj15iRZ/YCPx0Gsjtk+Uvdxt6kY6Ic2tw02FH6Ks/uptpnTuiLf1lwGH960Rr6/FAe5VHJA1+3hGxzBel9R9vVD3vcC9vatk6+PY+BE0BY3Pnw9u8ijcwzvY3l4Lvgf00aR1KNHj5o+F0X25Zdf3qtT519//fXdpvvwww+vdABQzyrSigF95hnXGP587KuvvnrBJn7QlQ59F9suz71sV1s8K2bu8SfdttgY0zw9saBHLhwan0PW/RHDIYxdd477mzdvTvoTnzY3h5lcuTggtfnb3b4CIR0Vo7bDQyGqfhjbp+N+RWryo94LmRduiEC+fFx6bb0XsTrvfmoBxj6+2nLGDrrKETnX30fqPq5YuuAh2UO9f40ckvM5x5Mc2l4YfB95sXfsfH8pji72nNg9rnrva1jXo22dPK+6T9wW2Kv52ng+bfsbHeVZX25kr6133zUP5LWfnDzb7Bwb2xRJUTRFKmwKFWYVeOYZ92cRGePcc1WSQt7lfB6bzHmhV/F2He65qq5kvScWv1wHP9iRvN7UJI8s95qnF/ntIx/pqnfdJe/nIig2sd4k2fhtxcCLzyGS8mLUdnjkByzxgy23XXX80HuR8IPna+zF399qsdOlqYjVONB1P/sKMIVFDf9ewBwbclZTsamFSOMUOBp4KT7wc9uy1bXXXu5TNMEQXKTrOciv1rfmooLr/pwclKPsqFdx137ReO3renmcknX8fZ2c+N2O/6RX49Pa1DyVf41XmHn+ist79894Wx6Mey5j9gG2FiWpJQtmfPX7yh2L15wE5cXCD68fHi/QHDR0dFgoVjpcLsc9h0nFrB565ih8HDIdYmR5FhHq0Nc3XI/NC5m/3aswYptChG3F7fq69/iIvTbFosKk+J1IiR1f9PirRUmxyr4XGzAkPq2BMCF3jXvRIl7J1liPPavI4oNYafgAd2IkB2/Ey5zHiw3pMM+9YtZ+wAa2GEcefTXsSV4xaE695+u5YpNn7S3saM+g6z5la986+brLHjrYV9zkpibbzHlMbgcM0ZG9rnh3yYM4sIssF37HtJBUz58sxxbzc9Sfk6DY3F2KBQfBD5oOCL0OZD08HGCf88ONnsjODxzyOvhe9DRWD6PLVCLDluKk2O0rhLJJoZW8F1Pmqx8KnnJzP8TJHE0FljH0wZAYVdyRcUywwyXf0ldM8qlnZL0w75x2/I8XbNmjJzZwIi5fb8fO80VH6+j7CBlylh1sKS+F6DHsK7Ru0+PkXjhjV7Hjj6Y9JZJgzOP2dfI5xU2+yq3G5nE7Lr6WrLPWHfuu43kIb2S65oGsXpjqSxBzfVtIKiT13E+LfUl0boJiQ3OYdHDqgfQNT8HQ4UCeA+2HFFlkOHhcfkiZ8yLNoaWISQd76HhRUaFgrvrZKRaCxZ83FSoKBnEdayIF4qiNWFXkapzyU8eJh8JFzxx5cO8YCxPm8O+FnHv03K6KXdecah56Jh+PS0VVsRG3fFfsiQt55aN1xB5jXGAi/ZqzYpAN+kMNW5LFJjgRnxprywsGcWp/Il/j3rdO2CEHrT/xY6fqy598ICe8mPO1JGfhIvuH8Eamax74cZwV19B+FEn9/PPPTa7LxWAJghq6sc9RjwLI4aeYpPVHQERCEU+bDwHIUyTlLzVDPYakQrSDXjRCUEOP3DA9DrsO/r436GGWL0PL3+75qkmbDwF98R37Au0aQUgqJNWbpEJQXY/XdHKH/jxqOi/na0k/pUH0/lPc+Wa8Tmb8hKiXqam++ENSIaleJBWCWufw68+bKAD+5wzrRHNaXvXnVyqeEFba9AhAUBCTcO7y56xdoghJhaQ6k1QIqsuRmkdGB9/7eTxNa9Xj7XI/rff//hZd9R2imhZpf4kS1lN5GEVSP/30U5PrMjAIQU115GInCASBPgiEpEK0R180QlB9jlRkg0AQmBKBkFRI6iBJhaCmPG6xFQSCQF8EQlIhqb0kFYLqe5wiHwSCwNQIhKRCUq0kFYKa+qjFXhAIAkMQGEVSDx8+bHKdHwY3btyY5X+3MWSDRicIBIHLRiAkFaJ97kUjBHXZBSHZB4GtITCKpL777rsm13oY8H/AnfJLNgS1teOZeIJAEBhMUs+ePWtyrYcB/1r5lCQVgkoxCAJBYIsIDCapLSZzSTE9ffp0MpIKQV3SzkmuQeC0EAhJndZ6XUUrkuLfJRtzhaCuIM1NEAgCG0QgJLXBRekS0hQkFYLqgnRkgkAQWBOBkNSa6I/wPZakQlAjwI9qEAgCiyEQkloM6mkdjSGpENS0axFrQSAIzIdASGo+bGe1PJSkQlCzLkuMB4EgMDECIamJAV3KHCSlf7rowYMHu38h4lgfglpqdeInCASBqRAISU2F5MJ2+pJUCGrhBYq7IBAEJkEgJDUJjMsb6UNSIajl1yceg0AQmAaBkNQ0OC5u5cmTJ51+7gtBLb40cRgEgsCECISkJgRzSVNdSCoEteSKxFcQCAJzIBCSmgPVBWweI6kQ1AKLEBdBIAjMjkBIanaI53Egkrp//35Tr++//z7/P6h5YI/VIBAEFkYgJLUw4FO520dSIaipEI6dIBAEtoBASGoLqzAghjaSCkENADIqQSAIbBqBkNSml2d/cJWkQlD7scpMEAgCp4tASOpE185JKgR1oouYsINAEDiKQEjqKETbFICk+Bt8Iahtrk+iCgJBYBoEQlLT4Li4FUjqyy+/zN/iWxz5OAwCQWBJBEJSS6I9oS9Iin9QNi0IBIEgcM4IhKROdHX5t/vSgkAQCALnjkBI6txXOPkFgSAQBE4YgZDUCS9eQg8CQSAInDsCIalzX+HkFwSCQBA4YQRCUie8eAk9CASBIHDuCISkzn2Fk18QCAJB4IQRCEmd8OIl9CAQBILAuSMQkjr3FU5+QSAIBIETRiAkdcKLl9CDQBAIAueOQEjq3Fc4+QWBIBAEThiB/wGWc05BautqGgAAAABJRU5ErkJggg==)"
      ]
    },
    {
      "cell_type": "markdown",
      "metadata": {
        "id": "7_w3G0UUUOvM"
      },
      "source": [
        "Si hay una lista de expresiones, se evalúa; de lo contrario, se sustituye por None. La declaración de retorno deja la definición de función actual con la lista_expresión (o Ninguno) como valor de retorno. La declaración de retorno finaliza la ejecución de la definición de función en la que aparece y devuelve el control a la función de llamada. También puede devolver un valor opcional a su llamada de función. En Python, es posible definir funciones sin una declaración de retorno. Funciones como esto se llama funciones **void** y devuelven None."
      ]
    },
    {
      "cell_type": "markdown",
      "metadata": {
        "id": "JNC2zcAUU2tK"
      },
      "source": [
        "## Importante\n",
        "Las funciones sin una declaración de retorno devuelven un valor intrascendente. Este valor se llama **None** (es un nombre incorporado) que significa para nada\". La escritura del valor **None** normalmente se suprime mediante el intérprete.\n",
        "\n",
        "Si desea devolver un valor utilizando la declaración de retorno de la definición de función, entonces tienes que asignar el resultado de la función a una variable. **Una función puede devolver solo una valor, pero ese valor puede ser una lista o una tupla.**"
      ]
    },
    {
      "cell_type": "markdown",
      "metadata": {
        "id": "WyvVlfB0VMvs"
      },
      "source": [
        "En algunos casos, tiene sentido devolver varios valores si están relacionados entre sí. **Por lo tanto, devuelva los valores múltiples separados por una coma que, por defecto, se construye como una tupla de Python**. Cuando la función de llamada recibe una tupla de la definición de la función, Es común asignar el resultado a múltiples variables especificando el mismo número de variables en el lado izquierdo de la asignación, ya que fueron devueltas por la función\n",
        "definición. **Esto se llama desembalaje de tuplas**.\n",
        "\n",
        "En algunos casos, tiene sentido devolver varios valores si están relacionados entre sí. Si por lo tanto, devuelva los valores múltiples separados por una coma que, por defecto, se construye como una tupla de Python. Cuando la función de llamada recibe una tupla de la definición de la función, Es común asignar el resultado a múltiples variables especificando el mismo número de variables en el lado izquierdo de la asignación, ya que fueron devueltas por la función\n",
        "definición. Esto se llama desembalaje de tuplas."
      ]
    },
    {
      "cell_type": "markdown",
      "metadata": {
        "id": "p6Xk5nOG5KPW"
      },
      "source": [
        "## Programa 4.4: Programa para demostrar el retorno de múltiples valores de una Definición de función"
      ]
    },
    {
      "cell_type": "code",
      "metadata": {
        "id": "EY3jgTRdQcOX",
        "colab": {
          "base_uri": "https://localhost:8080/"
        },
        "outputId": "c63b5336-4cf6-48c0-c5a3-b72924e3632b"
      },
      "source": [
        "def guerra_mundial():\n",
        "  alianza_guerra_mundial = input(\"¿Qué alianza ganó la Segunda Guerra Mundial?\")\n",
        "  anho_final_guerra_mundial = input(\"¿Cuándo terminó la Segunda Guerra Mundial?\")\n",
        "  return alianza_guerra_mundial, anho_final_guerra_mundial\n",
        "\n",
        "def main():\n",
        "  alianza, anho_final_guerra = guerra_mundial()\n",
        "  print(f\"La guerra fue ganada por la alianza {alianza} y finalizó el año {anho_final_guerra}\")\n",
        "\n",
        "if __name__ == \"__main__\":\n",
        "  main()"
      ],
      "execution_count": 85,
      "outputs": [
        {
          "output_type": "stream",
          "name": "stdout",
          "text": [
            "¿Qué alianza ganó la Segunda Guerra Mundial?Los aliados\n",
            "¿Cuándo terminó la Segunda Guerra Mundial?1945\n",
            "La guerra fue ganada por la alianza Los aliados y finalizó el año 1945\n"
          ]
        }
      ]
    },
    {
      "cell_type": "markdown",
      "metadata": {
        "id": "yHPQB5KYRElh"
      },
      "source": [
        "La línea **if __name__ == \"__main__\":** es el punto de entrada del programa y se llama a la función main (). La función **def main()** llama a otra función **guerra_mundial()**. El bloque de declaraciones en definición de función **guerra_mundial()** incluye declaraciones para obtener información del usuario y una declaración de retorno **return alianza_guerra_mundial, anho_final_guerra_mundial**. La declaración de retorno devuelve varios valores separados por una coma. Una vez que se completa la ejecución de la definición de la función, los valores de la definición de la función\n",
        "guerra_mundial() se devuelven a la función de llamada. En la función de llamada a la izquierda lado de la asignación **alianza, anho_final_guerra = guerra_mundial()** debe haber un número coincidente de variables para almacenar los valores devueltos de la declaración de devolución. En **print(f\"La guerra fue ganada por la alianza {alianza} y finalizó el año {anho_final_guerra}\")** se muestran los valores devueltos."
      ]
    },
    {
      "cell_type": "markdown",
      "metadata": {
        "id": "fczjV5O2VLjl"
      },
      "source": [
        "## Programa 4.5: Calcular el valor de sin (x) hasta n términos usando series"
      ]
    },
    {
      "cell_type": "markdown",
      "metadata": {
        "id": "LIZuRdc8g9jz"
      },
      "source": [
        " $sin(x) = \\frac{x}{1!}-\\frac{x^3}{3!}+\\frac{x^5}{5!}-\\frac{x^7}{7!}+...$  Donde x está en grados"
      ]
    },
    {
      "cell_type": "code",
      "metadata": {
        "colab": {
          "base_uri": "https://localhost:8080/"
        },
        "id": "tDGwFLD_3Rf7",
        "outputId": "28a672a1-9e47-4de6-f571-909918f7d8dd"
      },
      "source": [
        "import math\n",
        "degrees = int(input(\"Entre los grados: \"))\n",
        "nterms = int(input(\"Entre el número de términos: \"))\n",
        "radians = degrees * math.pi / 180\n",
        "\n",
        "def calculate_sin():\n",
        "  result = 0\n",
        "  numerator = radians\n",
        "  denominator = 1\n",
        "\n",
        "  for i in range(1, nterms+1):\n",
        "    single_term = numerator / denominator\n",
        "    result = result + single_term\n",
        "    numerator = -numerator * radians * radians\n",
        "    denominator = denominator * (2 * i) * (2 * i + 1)\n",
        "    \n",
        "  return result\n",
        "\n",
        "def main():\n",
        "  result = calculate_sin()\n",
        "  print(f\"el valor de sin (x) calculado usando la serie es {result} \")\n",
        "\n",
        "if __name__ == \"__main__\":\n",
        "  main()\n"
      ],
      "execution_count": 86,
      "outputs": [
        {
          "output_type": "stream",
          "name": "stdout",
          "text": [
            "Entre los grados: 45\n",
            "Entre el número de términos: 20\n",
            "el valor de sin (x) calculado usando la serie es 0.7071067811865475 \n"
          ]
        }
      ]
    },
    {
      "cell_type": "markdown",
      "metadata": {
        "id": "CTQDGQITjWQ3"
      },
      "source": [
        "Todas las funciones trigonométricas requieren que sus operandos estén en radianes. Entonces, convierta el grados a radianes multiplicándolo por π / 180 radians = degrees * math.pi / 180. A continuación, se requiere un bucle for: **for i in range(1, nterms+1):** ya que tienes que sumar y restar cada uno de estos single_term. Tomemos un índice i para ejecutar el bucle de 1 a nterms + 1. ¡Obtenemos el primer single_term x / 1! donde la variable numerador representa xy el denominador de la variable representa 1 !. Agregue el primer single_term al resultado que se inicializa a 0 inicialmente 11. Ahora tenemos que obtener el segundo single_term. los El numerador para el segundo single_term se puede obtener multiplicando −x2 por el valor anterior de\n",
        "variable numerador que era x y denominador que es 3! se puede obtener multiplicando el variable denominador anterior por (2 * i) * (2 * i + 1) donde el valor de i es 1. Entonces, el resultado be 1 × (2 × 1) × (2 × 1 + 1) = 1 × 2 × 3 = 6. Ahora, tienes el segundo single_term que es añadido al resultado. Ejecute el ciclo hasta nterms + 1 para obtener el valor de sin (x) que se almacena en variable de resultado y se devuelve a la función de llamada calculate_sin() para imprimir el resultado."
      ]
    },
    {
      "cell_type": "markdown",
      "metadata": {
        "id": "TBjfPP3M5fN-"
      },
      "source": [
        "## Programa 4.6: Programa para verificar si un número de 3 dígitos es un número Armstrong o no"
      ]
    },
    {
      "cell_type": "code",
      "metadata": {
        "colab": {
          "base_uri": "https://localhost:8080/"
        },
        "id": "qNTPZPb8QtKe",
        "outputId": "42d3f736-203d-45d8-da46-da405d16d6e2"
      },
      "source": [
        "user_number = int(input(\"Ingrese un número positivo de 3 dígitos para verificar el número Armstrong\"))\n",
        "\n",
        "def check_armstrong_number(number):\n",
        "  result = 0\n",
        "  temp = number\n",
        "  while temp != 0:\n",
        "    last_digit = temp % 10\n",
        "    result += pow(last_digit, 3)\n",
        "    temp = int(temp / 10)\n",
        "    if number == result:\n",
        "      print(f\"El número introducido {number} es un número de Armstrong\")\n",
        "    else:\n",
        "      print(f\"El número introducido {number} no es un número de Armstrong\")\n",
        "\n",
        "def main():\n",
        "  check_armstrong_number(user_number)\n",
        "\n",
        "if __name__ == \"__main__\":\n",
        "  main()\n",
        "\n"
      ],
      "execution_count": 87,
      "outputs": [
        {
          "output_type": "stream",
          "name": "stdout",
          "text": [
            "Ingrese un número positivo de 3 dígitos para verificar el número Armstrong407\n",
            "El número introducido 407 no es un número de Armstrong\n",
            "El número introducido 407 no es un número de Armstrong\n",
            "El número introducido 407 es un número de Armstrong\n"
          ]
        }
      ]
    },
    {
      "cell_type": "markdown",
      "metadata": {
        "id": "rPcTQYcNW1bv"
      },
      "source": [
        "Un número de 3 dígitos se llama número de Armstrong si la suma del cubo de sus dígitos es igual al número. Por ejemplo, 407 es un número de Armstrong ya que 4^3 + 0^3 + 7^3 = 407. Para un número con \"n\" dígitos, el valor de potencia debería ser n, es decir, para un número de 5 dígitos 12345, deberíamos compruebe si hay 1^5 + 2^5 + 3^5 + 4^5 + 5^5. Lea un número positivo de 3 dígitos del usuario y guárdelo en una variable llamada **number**. Inicialice el resultado de las variables y la avriable **temp** y **number** a cero respectivamente. El valor numérico original se mantiene intacto y la variable **temp** que almacena el número original se utiliza para realizar manipulaciones. Encuentra el último dígito del número. Para obtener el último dígito del número en la variable **temp**, use la división del módulo por 10 y asigne a la variable **last_digit**. Encuentre el cubo del último dígito y agréguelo a la variable de **result**. Entonces eliminar el último dígito del número en la variable **temp** dividiendo **temp** por 10 y convertirlo como int (entero). Repita la lógica en el bucle while hasta que la temperatura variable sea 0. Finalmente, te quedarás con un número que es igual a la suma de los cubos de sus propios dígitos. Verifique el número de resultado contra el número original para determinar si el número es de Armstrong o no."
      ]
    },
    {
      "cell_type": "markdown",
      "metadata": {
        "id": "RvrOgvbbXVPp"
      },
      "source": [
        "# 4.5 Alcance y vida útil de las variables\n",
        "Los programas de Python tienen dos ámbitos: global y local. Una variable es una variable global si su valor es accesible y modificable en todo su programa. Las variables globales tienen un alcance global. Una variable que se define dentro de la definición de una función es una variable local. La vida útil de una variable se refiere a la duración de su existencia. Se crea la variable local y es destruido cada vez que se ejecuta la función, y no se puede acceder a ella mediante ningún código externo de la definición de la función. Las variables locales dentro de una definición de función tienen alcance local y existen mientras la función se esté ejecutando.\n",
        "\n",
        "Es posible acceder a variables globales desde dentro de una función, siempre que no haya definió una variable local con el mismo nombre. Una variable local puede tener el mismo nombre como una variable global, pero son totalmente diferentes, por lo que cambiar el valor de la variable no tiene ningún efecto sobre la variable global. Solo la variable local tiene significado dentro la función en la que se define."
      ]
    },
    {
      "cell_type": "markdown",
      "metadata": {
        "id": "PIsw1SaLdxAB"
      },
      "source": [
        "## Programa 4.7: Programa para demostrar el alcance de las variables\n",
        "\n",
        "\n"
      ]
    },
    {
      "cell_type": "code",
      "metadata": {
        "colab": {
          "base_uri": "https://localhost:8080/"
        },
        "id": "06tVADTXeO5Z",
        "outputId": "51769f6d-a3fa-4e01-cbe8-62b185330e8c"
      },
      "source": [
        "test_variable = 5\n",
        "def outer_function():\n",
        "  test_variable = 60\n",
        "\n",
        "  def inner_function():\n",
        "    test_variable = 100\n",
        "    print(f\"El valor de la variable local es {test_variable} y muestra tener alcance local para la función interna\")\n",
        "\n",
        "  inner_function()\n",
        "  print(f\"El valor de la variable local es {test_variable} y muestra tener alcance local para la función externa \")\n",
        "\n",
        "outer_function()\n",
        "print(f\"Valor de variable global de {test_variable} se visualiza \")"
      ],
      "execution_count": 88,
      "outputs": [
        {
          "output_type": "stream",
          "name": "stdout",
          "text": [
            "El valor de la variable local es 100 y muestra tener alcance local para la función interna\n",
            "El valor de la variable local es 60 y muestra tener alcance local para la función externa \n",
            "Valor de variable global de 5 se visualiza \n"
          ]
        }
      ]
    },
    {
      "cell_type": "markdown",
      "metadata": {
        "id": "I-GpYCgme-mp"
      },
      "source": [
        "## Programa 4.8: Calcular y Sumar el Área de Superficie de Dos Cubos.\n",
        "Usar funciones anidadas"
      ]
    },
    {
      "cell_type": "code",
      "source": [
        "def add_cubes(a, b):\n",
        "  def cube_surface_area(x):\n",
        "    return 6 * pow(x, 2)\n",
        "\n",
        "  return cube_surface_area(a) + cube_surface_area(b)\n",
        "\n",
        "def main():\n",
        "  result = add_cubes(2, 3)\n",
        "  print(f\"The surface area after adding two Cubes is {result}\")\n",
        "\n",
        "if __name__ == \"__main__\":\n",
        "  main()"
      ],
      "metadata": {
        "colab": {
          "base_uri": "https://localhost:8080/"
        },
        "id": "QPTksd7a69oE",
        "outputId": "399756ef-c457-4ad6-cfbe-74bb1a49fa1c"
      },
      "execution_count": 89,
      "outputs": [
        {
          "output_type": "stream",
          "name": "stdout",
          "text": [
            "The surface area after adding two Cubes is 78\n"
          ]
        }
      ]
    },
    {
      "cell_type": "markdown",
      "source": [
        "**SALIDA**\n",
        "The surface area after adding two Cubes is 78\n",
        "\n",
        "Los bloques de instrucciones en la definición de función add_cubes(a, b) tiene una definición de función anidada cube_surface_area(x). \n",
        "La definición de función externa add_cubes(a, b) tiene dos parámetros y la definición de función interna cube_surface_area(x) tiene un parámetro que calcula el área de superficie de un cubo. \n",
        "Los parámetros de la función add_cubes(a, b) se pasan como argumentos a la función de llamada cube_surface_area(x).\n",
        "La función interior se llama dentro de la función exterior. Se devuelve la suma del área de superficie de dos cubos y se imprime el resultado."
      ],
      "metadata": {
        "id": "lj6C5UjN79kE"
      }
    },
    {
      "cell_type": "markdown",
      "source": [
        "# 4.6 Parámetros por defecto (predeterminados)\n",
        "\n",
        "En algunas situaciones, puede ser útil establecer un valor predeterminado para los parámetros de la definición de la función. Aquí es donde los parámetros predeterminados pueden ayudar. Cada parámetro predeterminado tiene un valor predeterminado como parte de la definición de su función. Cualquier función de llamada debe proporcionar argumentos para todos los parámetros requeridos en la definición de función, pero puede omitir argumentos para parámetros predeterminados. Si no se envía ningún argumento para ese parámetro, se utiliza el valor predeterminado. Por lo general, los parámetros predeterminados se definen al final de la lista de parámetros, después de que los parámetros requeridos y los parámetros no predeterminados no puedan seguir a los parámetros predeterminados. El valor predeterminado se evalúa solo una vez."
      ],
      "metadata": {
        "id": "h3qfyxjh8eWt"
      }
    },
    {
      "cell_type": "markdown",
      "source": [
        "## Programa 4.9: Programa para Demostrar el Uso de Parámetros por Defecto"
      ],
      "metadata": {
        "id": "AAdkvRLO87q6"
      }
    },
    {
      "cell_type": "code",
      "source": [
        "def work_area(prompt, domain=\"Data Analytics\"):\n",
        "  print(f\"{prompt} {domain}\")\n",
        "\n",
        "def main():\n",
        "  work_area(\"Sam works in\")\n",
        "  work_area(\"Alice has interest in\", \"Internet of Things\")\n",
        "\n",
        "if __name__ == \"__main__\":\n",
        "  main()"
      ],
      "metadata": {
        "colab": {
          "base_uri": "https://localhost:8080/"
        },
        "id": "I_eXUm93-4Gv",
        "outputId": "23f89367-f108-49ce-ccb2-5d3642b4b6ee"
      },
      "execution_count": 90,
      "outputs": [
        {
          "output_type": "stream",
          "name": "stdout",
          "text": [
            "Sam works in Data Analytics\n",
            "Alice has interest in Internet of Things\n"
          ]
        }
      ]
    },
    {
      "cell_type": "markdown",
      "source": [
        "SALIDA\n",
        "\n",
        "Hay dos parámetros en el encabezado de la función para la definición de la función work_area() .Para la solicitud del primer parámetro , debe especificar el argumento correspondiente en la función de llamada. Para el segundo dominio de parámetros , se ha establecido un valor predeterminado ÿ. En la función de llamada, puede omitir el segundo argumento ÿ ya que es opcional. En ese caso, el valor predeterminado establecido para el dominio de parámetros se utilizará en los bloques de declaraciones de la definición de función. Si especifica el segundo argumento en la función de llamada ÿ, el valor predeterminado asignado al dominio. El parámetro se sobrescribirá con el último valor especificado en el segundo argumento."
      ],
      "metadata": {
        "id": "e8tufATv_MqZ"
      }
    },
    {
      "cell_type": "markdown",
      "source": [
        "# 4.7 Argumentos de palabras clave\n",
        "\n",
        "Hasta ahora, ha visto que cada vez que llama a una función con algunos valores como argumentos, estos valores se asignan a los parámetros en la definición de la función de acuerdo con su posición. En la función de llamada, puede especificar explícitamente el nombre del argumento junto con su valor en la forma kwarg = valor. En la función de llamada, los argumentos de palabras clave deben seguir a los argumentos posicionales. Todos los argumentos de palabras clave pasados deben coincidir con uno de los parámetros en la definición de función y su orden no es importante. Ningún parámetro en la definición de función puede recibir un valor más de una vez."
      ],
      "metadata": {
        "id": "tEM5IYJv8zyd"
      }
    },
    {
      "cell_type": "markdown",
      "source": [
        "## Programa 4.10: Programa para demostrar el uso de argumentos de palabras clave"
      ],
      "metadata": {
        "id": "bRDFRXojB0uV"
      }
    },
    {
      "cell_type": "code",
      "source": [
        "def parrot(voltage, state='a stiff', action='voom', type='Norwegian Blue'):\n",
        "  print(f\"This parrot wouldn't {action}, if you put {voltage}, volts through it.\")\n",
        "  print(f\"Lovely plumage, the {type}\")\n",
        "  print(f\"It's {state} !!!\")\n",
        "\n",
        "parrot(1000)\n",
        "parrot(voltage=1000)\n",
        "parrot(voltage=1000000, action='VOOOOOM')\n",
        "parrot('a thousand', state='pushing up the daisies')"
      ],
      "metadata": {
        "id": "M6oaI5WuB25e"
      },
      "execution_count": null,
      "outputs": []
    },
    {
      "cell_type": "markdown",
      "source": [
        "**SALIDA**\n",
        "\n",
        "La definición de la función parrot() acepta un parámetro requerido (voltage) y tres parámetros opcionales (state, action y tipe). "
      ],
      "metadata": {
        "id": "miqv67p6CpLd"
      }
    },
    {
      "cell_type": "markdown",
      "source": [
        "# 4.8 \\*args y \\**kwargs\n",
        "\n",
        "Las intrucciones \\*args y \\**kwargs se utilizan principalmente como parámetros en las definiciones de funciones. *args y \\**kwargs le permiten pasar un número variable de argumentos a la función de llamada. Aquí, el número variable de argumentos significa que el usuario no sabe de antemano cuántos argumentos se pasarán a la función de llamada. \\*args como parámetro en la definición de función le permite pasar una lista de argumentos de tupla de longitud variable sin palabra clave a la función de llamada. \\**kwargs como parámetro en la definición de función le permite pasar una lista de argumentos de diccionario de longitud variable con palabras clave a la función de llamada. \\*args debe ir después de todos los parámetros posicionales y \\**kwargs debe ir justo al final."
      ],
      "metadata": {
        "id": "VkYOZkcPDUYH"
      }
    },
    {
      "cell_type": "markdown",
      "source": [
        "**IMPORTANTE**\n",
        "\n",
        "Cabe señalar que el asterisco simple (*) y el asterisco doble (**) son los elementos importantes aquí y las palabras args y kwargs se usan solo por convención. El lenguaje de programación Python no impone esas palabras y el usuario es libre de elegir cualquier palabra de su elección. Los lectores eruditos que vienen del lenguaje de programación C no deben confundir este asterisco con un puntero."
      ],
      "metadata": {
        "id": "m2HekhYqD7Tg"
      }
    },
    {
      "cell_type": "markdown",
      "source": [
        "## Programa 4.11: Programa para Demostrar el Uso de *args y **kwargs"
      ],
      "metadata": {
        "id": "KDfa-BlQEKXA"
      }
    },
    {
      "cell_type": "code",
      "source": [
        "def cheese_shop(kind, *args, **kwargs):\n",
        "  print(f\"Do you have any {kind} ?\")\n",
        "  print(f\"I'm sorry, we're all out of {kind}\")\n",
        "\n",
        "  for arg in args:\n",
        "    print(arg)\n",
        "\n",
        "  print(\"-\" * 40)\n",
        "\n",
        "  for kw in kwargs:\n",
        "    print(kw, \":\", kwargs[kw])\n",
        "\n",
        "def main():\n",
        "  cheese_shop(\"Limburger\", \"It's very runny, sir.\", \n",
        "  \"It's really very, VERY runny, sir.\",\n",
        "  shop_keeper=\"Michael Palin\",\n",
        "  client=\"John Cleese\",\n",
        "  sketch=\"Cheese Shop Sketch\")\n",
        "\n",
        "if __name__ == \"__main__\":\n",
        "  main()"
      ],
      "metadata": {
        "colab": {
          "base_uri": "https://localhost:8080/"
        },
        "id": "2pVqlzdgEQBZ",
        "outputId": "226befc4-295b-489b-abc6-c17690cb4fa6"
      },
      "execution_count": 91,
      "outputs": [
        {
          "output_type": "stream",
          "name": "stdout",
          "text": [
            "Do you have any Limburger ?\n",
            "I'm sorry, we're all out of Limburger\n",
            "It's very runny, sir.\n",
            "It's really very, VERY runny, sir.\n",
            "----------------------------------------\n",
            "shop_keeper : Michael Palin\n",
            "client : John Cleese\n",
            "sketch : Cheese Shop Sketch\n"
          ]
        }
      ]
    },
    {
      "cell_type": "markdown",
      "source": [
        "## **SALIDA**\n",
        "\n",
        "La definición de función cheese_shop() tiene tres parámetros donde el primer parámetro es un parámetro posicional y los dos últimos parámetros son *args y \\**kwargs. En los bloques de declaraciones de la definición de función * y ** no se usan con args y kwargs. En la llamada de función, el primer argumento se asigna al primer parámetro en la definición de la función. Después del primer argumento, la serie restante de argumentos separados por comas se asignan a *args hasta que se encuentran los argumentos de palabras clave. Todos los argumentos de palabra clave en la función de llamada se asignan a \\**kwargs. Puede trabajar con \\**kwargs tal como lo hace con diccionarios. Se garantiza que el orden en que se imprimen los argumentos de palabra clave coincide\n",
        "con el orden en que se proporcionaron en la función de llamada. Los bucles se utilizan para mostrar los elementos en args y kwargs."
      ],
      "metadata": {
        "id": "7vPatO3RFV5M"
      }
    },
    {
      "cell_type": "markdown",
      "source": [
        "# 4.9 Argumentos de la línea de comandos\n",
        "\n",
        "Un programa de Python puede aceptar cualquier número de argumentos desde la línea de comandos. Los argumentos de la línea de comandos son una metodología en la que el usuario dará entradas al programa a través de la consola usando comandos. Debe importar el módulo sys para acceder a los argumentos de la línea de comandos. Todos los argumentos de la línea de comandos en Python se pueden imprimir como una lista de cadenas ejecutando sys.argv."
      ],
      "metadata": {
        "id": "9cpnYvz7GRj6"
      }
    },
    {
      "cell_type": "code",
      "source": [
        "import sys\n",
        "\n",
        "def main():\n",
        "  print(f\"sys.argv prints all the arguments at the command line including file name {sys.argv}\")\n",
        "  print(f\"len(sys.argv) prints the total number of command line arguments including file name {len(sys.argv)}\")\n",
        "  print(\"You can use for loop to traverse through sys.argv\")\n",
        "\n",
        "  for arg in sys.argv:\n",
        "    print(arg)\n",
        "\n",
        "if __name__ == \"__main__\":\n",
        "  main()"
      ],
      "metadata": {
        "id": "yLF5gFQMGs5e"
      },
      "execution_count": null,
      "outputs": []
    },
    {
      "cell_type": "markdown",
      "source": [
        "**SALIDA**\n",
        "\n",
        "Para ejecutar un programa de argumento de línea de comando, debe navegar hasta el directorio donde se guarda su programa. Luego emita un comando en el formato python nombre_archivo argumento_1 argumento_2 argumento_3 …… argumento_n. Aquí argumento_1 argumento_2 y así sucesivamente puede ser cualquier argumento y debe estar separado por un espacio. Importa el módulo sys para acceder a los argumentos de la línea de comandos. Imprima todos los argumentos, incluido el nombre del archivo, usando sys.argv ÿ pero excluyendo el comando python . El\n",
        "número de argumentos pasados en la línea de comando se puede obtener mediante len(sys.argv). Se puede usar un bucle for para atravesar cada uno de los argumentos en sys.argv"
      ],
      "metadata": {
        "id": "2uUyD_AXHPdn"
      }
    },
    {
      "cell_type": "markdown",
      "source": [
        "# 4.10 Resumen\n",
        "\n",
        "- Modularizar y reutilizar los programas es uno de los objetivos fundamentales de cualquier lenguaje de programación y las funciones ayudan a lograr este objetivo.\n",
        "- Una función es un fragmento de código que realiza alguna tarea y se puede llamar desde otra parte del código.\n",
        "- Python proporciona muchas funciones integradas, como min(), pow() y otras, y los usuarios también pueden crear sus propias funciones, que se denominan funciones definidas por el usuario.\n",
        "- El encabezado de una función comienza con la palabra clave def seguida del nombre y los parámetros de la función y termina con dos puntos.\n",
        "- Una variable global es una variable que se define fuera de cualquier definición de función y una variable local es una variable a la que solo se puede acceder desde dentro de la función en la que reside.\n",
        "- Una variable local en Python es una variable que es definida dentro de cada función\n",
        "- Las cadenas de documentos sirven para el mismo propósito que el de los comentarios.\n",
        "- La sintaxis \\*args permite pasar un número variable de argumentos a la función que llama.\n",
        "- La sintaxis **kwargs le permite pasar argumentos de diccionario de longitud variable con palabras clave a la\n",
        "función de llamada.\n",
        "- Los argumentos de la línea de comandos en Python aparecen en sys.argv como una lista de cadenas.\n",
        "\n"
      ],
      "metadata": {
        "id": "SoK-haYnHa82"
      }
    },
    {
      "cell_type": "markdown",
      "source": [],
      "metadata": {
        "id": "ydl75_nPHKZ-"
      }
    }
  ]
}